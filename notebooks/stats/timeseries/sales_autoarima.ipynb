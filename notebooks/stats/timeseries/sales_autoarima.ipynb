{
  "nbformat": 4,
  "nbformat_minor": 0,
  "metadata": {
    "colab": {
      "name": "sales_autoarima.ipynb",
      "provenance": [],
      "collapsed_sections": [],
      "authorship_tag": "ABX9TyMOcBInQxaR2i61SZboJ4qv",
      "include_colab_link": true
    },
    "kernelspec": {
      "name": "python3",
      "display_name": "Python 3"
    }
  },
  "cells": [
    {
      "cell_type": "markdown",
      "metadata": {
        "id": "view-in-github",
        "colab_type": "text"
      },
      "source": [
        "<a href=\"https://colab.research.google.com/github/kaljuvee/datascience/blob/master/notebooks/stats/timeseries/sales_autoarima.ipynb\" target=\"_parent\"><img src=\"https://colab.research.google.com/assets/colab-badge.svg\" alt=\"Open In Colab\"/></a>"
      ]
    },
    {
      "cell_type": "code",
      "metadata": {
        "id": "qc--iKgDBQUR",
        "colab_type": "code",
        "colab": {
          "base_uri": "https://localhost:8080/",
          "height": 476
        },
        "outputId": "c916e7a4-b71a-42e5-ddf6-d8d2243333a7"
      },
      "source": [
        "! pip install pmdarima"
      ],
      "execution_count": null,
      "outputs": [
        {
          "output_type": "stream",
          "text": [
            "Collecting pmdarima\n",
            "\u001b[?25l  Downloading https://files.pythonhosted.org/packages/4b/15/0dfc38deb2f5582b79baff6523b245d6a3dbe877e3fb96a1ee39ec63b626/pmdarima-1.6.1-cp36-cp36m-manylinux1_x86_64.whl (1.5MB)\n",
            "\u001b[K     |████████████████████████████████| 1.5MB 4.4MB/s \n",
            "\u001b[?25hRequirement already satisfied: scikit-learn>=0.22 in /usr/local/lib/python3.6/dist-packages (from pmdarima) (0.22.2.post1)\n",
            "Requirement already satisfied: scipy>=1.3.2 in /usr/local/lib/python3.6/dist-packages (from pmdarima) (1.4.1)\n",
            "Requirement already satisfied: joblib>=0.11 in /usr/local/lib/python3.6/dist-packages (from pmdarima) (0.15.1)\n",
            "Requirement already satisfied: numpy>=1.17.3 in /usr/local/lib/python3.6/dist-packages (from pmdarima) (1.18.5)\n",
            "Collecting Cython<0.29.18,>=0.29\n",
            "\u001b[?25l  Downloading https://files.pythonhosted.org/packages/e7/d7/510ddef0248f3e1e91f9cc7e31c0f35f8954d0af92c5c3fd4c853e859ebe/Cython-0.29.17-cp36-cp36m-manylinux1_x86_64.whl (2.1MB)\n",
            "\u001b[K     |████████████████████████████████| 2.1MB 39.5MB/s \n",
            "\u001b[?25hCollecting statsmodels>=0.11\n",
            "\u001b[?25l  Downloading https://files.pythonhosted.org/packages/cb/83/540fd83238a18abe6c2d280fa8e489ac5fcefa1f370f0ca1acd16ae1b860/statsmodels-0.11.1-cp36-cp36m-manylinux1_x86_64.whl (8.7MB)\n",
            "\u001b[K     |████████████████████████████████| 8.7MB 33.0MB/s \n",
            "\u001b[?25hRequirement already satisfied: urllib3 in /usr/local/lib/python3.6/dist-packages (from pmdarima) (1.24.3)\n",
            "Requirement already satisfied: pandas>=0.19 in /usr/local/lib/python3.6/dist-packages (from pmdarima) (1.0.5)\n",
            "Requirement already satisfied: patsy>=0.5 in /usr/local/lib/python3.6/dist-packages (from statsmodels>=0.11->pmdarima) (0.5.1)\n",
            "Requirement already satisfied: python-dateutil>=2.6.1 in /usr/local/lib/python3.6/dist-packages (from pandas>=0.19->pmdarima) (2.8.1)\n",
            "Requirement already satisfied: pytz>=2017.2 in /usr/local/lib/python3.6/dist-packages (from pandas>=0.19->pmdarima) (2018.9)\n",
            "Requirement already satisfied: six in /usr/local/lib/python3.6/dist-packages (from patsy>=0.5->statsmodels>=0.11->pmdarima) (1.12.0)\n",
            "Installing collected packages: Cython, statsmodels, pmdarima\n",
            "  Found existing installation: Cython 0.29.20\n",
            "    Uninstalling Cython-0.29.20:\n",
            "      Successfully uninstalled Cython-0.29.20\n",
            "  Found existing installation: statsmodels 0.10.2\n",
            "    Uninstalling statsmodels-0.10.2:\n",
            "      Successfully uninstalled statsmodels-0.10.2\n",
            "Successfully installed Cython-0.29.17 pmdarima-1.6.1 statsmodels-0.11.1\n"
          ],
          "name": "stdout"
        }
      ]
    },
    {
      "cell_type": "markdown",
      "metadata": {
        "id": "RBt0a5ALBa6A",
        "colab_type": "text"
      },
      "source": [
        "**Auto ARIMA Forecasting on Univariate Data**\n",
        "\n",
        "**Background**\n",
        "\n",
        "The components you might observe in the time-series analysis are Trend, Seasonal, Irregular, and Cyclicity. In the basic ARIMA model, we need to provide the p,d, and q values which are essential. We use statistical techniques to generate these values by performing the difference to eliminate the non-stationarity and plotting ACF and PACF graphs. In Auto ARIMA, the model itself will generate the optimal p, d, and q values which would be suitable for the data set to provide better forecasting.\n",
        "\n",
        "**Steps**\n",
        "1. **Prepare and Explore Data**- read data, reset the index and explore any patterns\n",
        "2. **Test for Stationarity** - test for stationarity with Augmented Dickey-Fuller Test\n",
        "3. **Train and Split** - split the data set into test and train\n",
        "4. **Build Model** - build auto ARIMA model\n",
        "8. **Forecast** - forecast on test data\n",
        "\n",
        "**References**\n",
        "* [pmdarima package](https://alkaline-ml.com/pmdarima/modules/generated/pmdarima.arima.auto_arima.html)"
      ]
    },
    {
      "cell_type": "markdown",
      "metadata": {
        "id": "OnkkRovfkjqc",
        "colab_type": "text"
      },
      "source": [
        "**1. Prepare and Explore Data**"
      ]
    },
    {
      "cell_type": "code",
      "metadata": {
        "id": "2VJb74dIDPla",
        "colab_type": "code",
        "colab": {
          "base_uri": "https://localhost:8080/",
          "height": 204
        },
        "outputId": "87d5b711-32bc-467e-d0fe-087deb9dc3d3"
      },
      "source": [
        "import pandas as pd\n",
        "from pmdarima.arima import auto_arima\n",
        "\n",
        "df = pd.read_csv('https://raw.githubusercontent.com/kaljuvee/datascience/master/notebooks/stats/timeseries/data/sample-seasonal-data.csv', sep=',')\n",
        "df.head()"
      ],
      "execution_count": 18,
      "outputs": [
        {
          "output_type": "execute_result",
          "data": {
            "text/html": [
              "<div>\n",
              "<style scoped>\n",
              "    .dataframe tbody tr th:only-of-type {\n",
              "        vertical-align: middle;\n",
              "    }\n",
              "\n",
              "    .dataframe tbody tr th {\n",
              "        vertical-align: top;\n",
              "    }\n",
              "\n",
              "    .dataframe thead th {\n",
              "        text-align: right;\n",
              "    }\n",
              "</style>\n",
              "<table border=\"1\" class=\"dataframe\">\n",
              "  <thead>\n",
              "    <tr style=\"text-align: right;\">\n",
              "      <th></th>\n",
              "      <th>month</th>\n",
              "      <th>sales</th>\n",
              "    </tr>\n",
              "  </thead>\n",
              "  <tbody>\n",
              "    <tr>\n",
              "      <th>0</th>\n",
              "      <td>1964-01</td>\n",
              "      <td>2815</td>\n",
              "    </tr>\n",
              "    <tr>\n",
              "      <th>1</th>\n",
              "      <td>1964-02</td>\n",
              "      <td>2672</td>\n",
              "    </tr>\n",
              "    <tr>\n",
              "      <th>2</th>\n",
              "      <td>1964-03</td>\n",
              "      <td>2755</td>\n",
              "    </tr>\n",
              "    <tr>\n",
              "      <th>3</th>\n",
              "      <td>1964-04</td>\n",
              "      <td>2721</td>\n",
              "    </tr>\n",
              "    <tr>\n",
              "      <th>4</th>\n",
              "      <td>1964-05</td>\n",
              "      <td>2946</td>\n",
              "    </tr>\n",
              "  </tbody>\n",
              "</table>\n",
              "</div>"
            ],
            "text/plain": [
              "     month   sales\n",
              "0  1964-01    2815\n",
              "1  1964-02    2672\n",
              "2  1964-03    2755\n",
              "3  1964-04    2721\n",
              "4  1964-05    2946"
            ]
          },
          "metadata": {
            "tags": []
          },
          "execution_count": 18
        }
      ]
    },
    {
      "cell_type": "code",
      "metadata": {
        "id": "oHS9pidcGhMk",
        "colab_type": "code",
        "colab": {
          "base_uri": "https://localhost:8080/",
          "height": 296
        },
        "outputId": "1b359964-fce3-467f-89ba-1bd6466296dc"
      },
      "source": [
        "# convert to date time and set index\n",
        "df['month'] = pd.to_datetime(df['month'])\n",
        "df.set_index('month', inplace=True)\n",
        "df.plot()"
      ],
      "execution_count": 19,
      "outputs": [
        {
          "output_type": "execute_result",
          "data": {
            "text/plain": [
              "<matplotlib.axes._subplots.AxesSubplot at 0x7fdf529c05c0>"
            ]
          },
          "metadata": {
            "tags": []
          },
          "execution_count": 19
        },
        {
          "output_type": "display_data",
          "data": {
            "image/png": "[encoded data removed]",
            "text/plain": [
              "<Figure size 432x288 with 1 Axes>"
            ]
          },
          "metadata": {
            "tags": [],
            "needs_background": "light"
          }
        }
      ]
    },
    {
      "cell_type": "markdown",
      "metadata": {
        "id": "5WOmUsXzkqes",
        "colab_type": "text"
      },
      "source": [
        "**2. Test for Stationarity**"
      ]
    },
    {
      "cell_type": "code",
      "metadata": {
        "id": "PlJmUZO1hDPm",
        "colab_type": "code",
        "colab": {
          "base_uri": "https://localhost:8080/",
          "height": 34
        },
        "outputId": "fe667a8a-a496-40e9-933b-fde11f129b0c"
      },
      "source": [
        "# seasonality test with Augmented Dickey Fuller Test\n",
        "from pmdarima.arima import ADFTest\n",
        "adf_test = ADFTest(alpha = 0.05)\n",
        "adf_test.should_diff(df)"
      ],
      "execution_count": 20,
      "outputs": [
        {
          "output_type": "execute_result",
          "data": {
            "text/plain": [
              "(0.01, False)"
            ]
          },
          "metadata": {
            "tags": []
          },
          "execution_count": 20
        }
      ]
    },
    {
      "cell_type": "markdown",
      "metadata": {
        "id": "rSbWIQu0jllH",
        "colab_type": "text"
      },
      "source": [
        "Conclude that the data is non-stationary (alpha < 0.05). Hence, we would need to use the “Integrated (I)” concept, denoted by value ‘d’ in time series to make the data stationary while building the Auto ARIMA model."
      ]
    },
    {
      "cell_type": "markdown",
      "metadata": {
        "id": "MvFpC9XxlBGt",
        "colab_type": "text"
      },
      "source": [
        "**3. Test and Split**"
      ]
    },
    {
      "cell_type": "code",
      "metadata": {
        "id": "m0hIr4xElFa8",
        "colab_type": "code",
        "colab": {
          "base_uri": "https://localhost:8080/",
          "height": 34
        },
        "outputId": "57af8be1-1b48-42cc-a002-03970321467d"
      },
      "source": [
        "df.shape"
      ],
      "execution_count": 21,
      "outputs": [
        {
          "output_type": "execute_result",
          "data": {
            "text/plain": [
              "(105, 1)"
            ]
          },
          "metadata": {
            "tags": []
          },
          "execution_count": 21
        }
      ]
    },
    {
      "cell_type": "code",
      "metadata": {
        "id": "6mZ12hmzlNSs",
        "colab_type": "code",
        "colab": {
          "base_uri": "https://localhost:8080/",
          "height": 282
        },
        "outputId": "56f180d0-1b3b-4a36-cb29-23a08ae8119f"
      },
      "source": [
        "import matplotlib.pyplot as plt\n",
        "\n",
        "train_df = df[:85]\n",
        "test_df = df[-20:]\n",
        "plt.plot(train_df)\n",
        "plt.plot(test_df)"
      ],
      "execution_count": 23,
      "outputs": [
        {
          "output_type": "execute_result",
          "data": {
            "text/plain": [
              "[<matplotlib.lines.Line2D at 0x7fdf528805c0>]"
            ]
          },
          "metadata": {
            "tags": []
          },
          "execution_count": 23
        },
        {
          "output_type": "display_data",
          "data": {
            "image/png": "[encoded data removed]",
            "text/plain": [
              "<Figure size 432x288 with 1 Axes>"
            ]
          },
          "metadata": {
            "tags": [],
            "needs_background": "light"
          }
        }
      ]
    },
    {
      "cell_type": "markdown",
      "metadata": {
        "id": "31VzkGYUlxlN",
        "colab_type": "text"
      },
      "source": [
        "**4. Build ARIMA Model**"
      ]
    },
    {
      "cell_type": "markdown",
      "metadata": {
        "id": "XR7HVrHdkPE-",
        "colab_type": "text"
      },
      "source": [
        "**Model Overview:**\n",
        "\n",
        "* **Auto-Regressive (p)** - number of autoregressive terms.\n",
        "* **Integrated (d)**- number of nonseasonal differences needed for stationarity.\n",
        "* **Moving Average (q)**- number of lagged forecast errors in the prediction equation.\n",
        "\n",
        "In the Auto ARIMA model, note that small p,d,q values represent non-seasonal components, and capital P, D, Q represent seasonal components. It works similarly like hyper tuning techniques to find the optimal value of p, d, and q with different combinations and the final values would be determined with the lower AIC, BIC parameters taking into consideration.\n",
        "Here, we are trying with the p, d, q values ranging from 0 to 5 to get better optimal values from the model. There are many other parameters in this model "
      ]
    },
    {
      "cell_type": "code",
      "metadata": {
        "id": "uihik8CHpKdN",
        "colab_type": "code",
        "colab": {
          "base_uri": "https://localhost:8080/",
          "height": 1000
        },
        "outputId": "38889304-5a77-4100-ba76-69e1a68d064d"
      },
      "source": [
        "# start_p = 0\n",
        "arima_model = auto_arima(train_df, start_p = 0, d = 1, start_q = 0, max_p = 5, max_d = 5, max_q = 5, start_P = 0, D = 1, start_Q = 0, max_P = 5, max_D = 5, max_Q = 5, m = 12, seasonal=True, error_action = 'warn', trace = True, supress_warnings=True, stepwise = True, random_state = 20, n_fits = 50)"
      ],
      "execution_count": 25,
      "outputs": [
        {
          "output_type": "stream",
          "text": [
            "Performing stepwise search to minimize aic\n",
            "Fit ARIMA(0,1,0)x(0,1,0,12) [intercept=True]; AIC=1205.819, BIC=1210.373, Time=0.056 seconds\n",
            "Fit ARIMA(1,1,0)x(1,1,0,12) [intercept=True]; AIC=1194.062, BIC=1203.169, Time=0.203 seconds\n",
            "Fit ARIMA(0,1,1)x(0,1,1,12) [intercept=True]; AIC=1174.299, BIC=1183.405, Time=1.037 seconds\n",
            "Near non-invertible roots for order (0, 1, 1)(0, 1, 1, 12); setting score to inf (at least one inverse root too close to the border of the unit circle: 1.000)\n",
            "Fit ARIMA(0,1,0)x(0,1,0,12) [intercept=False]; AIC=1203.853, BIC=1206.129, Time=0.027 seconds\n",
            "Fit ARIMA(1,1,0)x(0,1,0,12) [intercept=True]; AIC=1196.741, BIC=1203.571, Time=0.059 seconds\n",
            "Fit ARIMA(1,1,0)x(2,1,0,12) [intercept=True]; AIC=1194.271, BIC=1205.654, Time=1.378 seconds\n",
            "Fit ARIMA(1,1,0)x(1,1,1,12) [intercept=True]; AIC=1194.846, BIC=1206.230, Time=0.897 seconds\n",
            "Fit ARIMA(1,1,0)x(0,1,1,12) [intercept=True]; AIC=1194.977, BIC=1204.084, Time=0.501 seconds\n",
            "Fit ARIMA(1,1,0)x(2,1,1,12) [intercept=True]; AIC=1195.148, BIC=1208.808, Time=1.351 seconds\n",
            "Fit ARIMA(0,1,0)x(1,1,0,12) [intercept=True]; AIC=1199.611, BIC=1206.441, Time=0.359 seconds\n",
            "Fit ARIMA(2,1,0)x(1,1,0,12) [intercept=True]; AIC=1188.712, BIC=1200.095, Time=0.292 seconds\n",
            "Fit ARIMA(2,1,0)x(0,1,0,12) [intercept=True]; AIC=1189.519, BIC=1198.625, Time=0.091 seconds\n",
            "Fit ARIMA(2,1,0)x(2,1,0,12) [intercept=True]; AIC=1188.528, BIC=1202.188, Time=1.924 seconds\n",
            "Fit ARIMA(2,1,0)x(3,1,0,12) [intercept=True]; AIC=1189.372, BIC=1205.308, Time=3.743 seconds\n"
          ],
          "name": "stdout"
        },
        {
          "output_type": "stream",
          "text": [
            "/usr/local/lib/python3.6/dist-packages/statsmodels/base/model.py:568: ConvergenceWarning: Maximum Likelihood optimization failed to converge. Check mle_retvals\n",
            "  \"Check mle_retvals\", ConvergenceWarning)\n"
          ],
          "name": "stderr"
        },
        {
          "output_type": "stream",
          "text": [
            "Fit ARIMA(2,1,0)x(2,1,1,12) [intercept=True]; AIC=1185.896, BIC=1201.832, Time=4.747 seconds\n",
            "Fit ARIMA(2,1,0)x(1,1,1,12) [intercept=True]; AIC=1189.544, BIC=1203.204, Time=1.501 seconds\n"
          ],
          "name": "stdout"
        },
        {
          "output_type": "stream",
          "text": [
            "/usr/local/lib/python3.6/dist-packages/statsmodels/base/model.py:568: ConvergenceWarning: Maximum Likelihood optimization failed to converge. Check mle_retvals\n",
            "  \"Check mle_retvals\", ConvergenceWarning)\n"
          ],
          "name": "stderr"
        },
        {
          "output_type": "stream",
          "text": [
            "Fit ARIMA(2,1,0)x(3,1,1,12) [intercept=True]; AIC=1190.037, BIC=1208.251, Time=7.572 seconds\n",
            "Near non-invertible roots for order (2, 1, 0)(3, 1, 1, 12); setting score to inf (at least one inverse root too close to the border of the unit circle: 1.000)\n"
          ],
          "name": "stdout"
        },
        {
          "output_type": "stream",
          "text": [
            "/usr/local/lib/python3.6/dist-packages/statsmodels/tsa/statespace/sarimax.py:868: UserWarning: Too few observations to estimate starting parameters for seasonal ARMA. All parameters except for variances will be set to zeros.\n",
            "  ' zeros.' % warning_description)\n",
            "/usr/local/lib/python3.6/dist-packages/statsmodels/base/model.py:568: ConvergenceWarning: Maximum Likelihood optimization failed to converge. Check mle_retvals\n",
            "  \"Check mle_retvals\", ConvergenceWarning)\n"
          ],
          "name": "stderr"
        },
        {
          "output_type": "stream",
          "text": [
            "Fit ARIMA(2,1,0)x(2,1,2,12) [intercept=True]; AIC=1184.980, BIC=1203.194, Time=4.747 seconds\n"
          ],
          "name": "stdout"
        },
        {
          "output_type": "stream",
          "text": [
            "/usr/local/lib/python3.6/dist-packages/statsmodels/tsa/statespace/sarimax.py:868: UserWarning: Too few observations to estimate starting parameters for seasonal ARMA. All parameters except for variances will be set to zeros.\n",
            "  ' zeros.' % warning_description)\n",
            "/usr/local/lib/python3.6/dist-packages/statsmodels/base/model.py:568: ConvergenceWarning: Maximum Likelihood optimization failed to converge. Check mle_retvals\n",
            "  \"Check mle_retvals\", ConvergenceWarning)\n",
            "/usr/local/lib/python3.6/dist-packages/statsmodels/tsa/statespace/sarimax.py:868: UserWarning: Too few observations to estimate starting parameters for seasonal ARMA. All parameters except for variances will be set to zeros.\n",
            "  ' zeros.' % warning_description)\n"
          ],
          "name": "stderr"
        },
        {
          "output_type": "stream",
          "text": [
            "Fit ARIMA(2,1,0)x(1,1,2,12) [intercept=True]; AIC=1180.249, BIC=1196.186, Time=3.523 seconds\n",
            "Fit ARIMA(2,1,0)x(0,1,2,12) [intercept=True]; AIC=1189.001, BIC=1202.661, Time=0.593 seconds\n"
          ],
          "name": "stdout"
        },
        {
          "output_type": "stream",
          "text": [
            "/usr/local/lib/python3.6/dist-packages/statsmodels/tsa/statespace/sarimax.py:868: UserWarning: Too few observations to estimate starting parameters for seasonal ARMA. All parameters except for variances will be set to zeros.\n",
            "  ' zeros.' % warning_description)\n",
            "/usr/local/lib/python3.6/dist-packages/statsmodels/base/model.py:568: ConvergenceWarning: Maximum Likelihood optimization failed to converge. Check mle_retvals\n",
            "  \"Check mle_retvals\", ConvergenceWarning)\n"
          ],
          "name": "stderr"
        },
        {
          "output_type": "stream",
          "text": [
            "Fit ARIMA(2,1,0)x(1,1,3,12) [intercept=True]; AIC=1184.892, BIC=1203.106, Time=6.859 seconds\n",
            "Fit ARIMA(2,1,0)x(0,1,1,12) [intercept=True]; AIC=1189.512, BIC=1200.895, Time=0.239 seconds\n"
          ],
          "name": "stdout"
        },
        {
          "output_type": "stream",
          "text": [
            "/usr/local/lib/python3.6/dist-packages/statsmodels/tsa/statespace/sarimax.py:868: UserWarning: Too few observations to estimate starting parameters for seasonal ARMA. All parameters except for variances will be set to zeros.\n",
            "  ' zeros.' % warning_description)\n"
          ],
          "name": "stderr"
        },
        {
          "output_type": "stream",
          "text": [
            "Fit ARIMA(2,1,0)x(0,1,3,12) [intercept=True]; AIC=1187.869, BIC=1203.806, Time=4.544 seconds\n",
            "Near non-invertible roots for order (2, 1, 0)(0, 1, 3, 12); setting score to inf (at least one inverse root too close to the border of the unit circle: 0.991)\n"
          ],
          "name": "stdout"
        },
        {
          "output_type": "stream",
          "text": [
            "/usr/local/lib/python3.6/dist-packages/statsmodels/tsa/statespace/sarimax.py:868: UserWarning: Too few observations to estimate starting parameters for seasonal ARMA. All parameters except for variances will be set to zeros.\n",
            "  ' zeros.' % warning_description)\n",
            "/usr/local/lib/python3.6/dist-packages/statsmodels/base/model.py:568: ConvergenceWarning: Maximum Likelihood optimization failed to converge. Check mle_retvals\n",
            "  \"Check mle_retvals\", ConvergenceWarning)\n"
          ],
          "name": "stderr"
        },
        {
          "output_type": "stream",
          "text": [
            "Fit ARIMA(2,1,0)x(2,1,3,12) [intercept=True]; AIC=1184.877, BIC=1205.367, Time=8.144 seconds\n",
            "Near non-invertible roots for order (2, 1, 0)(2, 1, 3, 12); setting score to inf (at least one inverse root too close to the border of the unit circle: 1.000)\n"
          ],
          "name": "stdout"
        },
        {
          "output_type": "stream",
          "text": [
            "/usr/local/lib/python3.6/dist-packages/statsmodels/tsa/statespace/sarimax.py:868: UserWarning: Too few observations to estimate starting parameters for seasonal ARMA. All parameters except for variances will be set to zeros.\n",
            "  ' zeros.' % warning_description)\n",
            "/usr/local/lib/python3.6/dist-packages/statsmodels/base/model.py:568: ConvergenceWarning: Maximum Likelihood optimization failed to converge. Check mle_retvals\n",
            "  \"Check mle_retvals\", ConvergenceWarning)\n",
            "/usr/local/lib/python3.6/dist-packages/statsmodels/tsa/statespace/sarimax.py:868: UserWarning: Too few observations to estimate starting parameters for seasonal ARMA. All parameters except for variances will be set to zeros.\n",
            "  ' zeros.' % warning_description)\n"
          ],
          "name": "stderr"
        },
        {
          "output_type": "stream",
          "text": [
            "Fit ARIMA(1,1,0)x(1,1,2,12) [intercept=True]; AIC=1184.164, BIC=1197.824, Time=3.591 seconds\n",
            "Near non-invertible roots for order (1, 1, 0)(1, 1, 2, 12); setting score to inf (at least one inverse root too close to the border of the unit circle: 0.996)\n"
          ],
          "name": "stdout"
        },
        {
          "output_type": "stream",
          "text": [
            "/usr/local/lib/python3.6/dist-packages/statsmodels/base/model.py:568: ConvergenceWarning: Maximum Likelihood optimization failed to converge. Check mle_retvals\n",
            "  \"Check mle_retvals\", ConvergenceWarning)\n",
            "/usr/local/lib/python3.6/dist-packages/statsmodels/tsa/statespace/sarimax.py:868: UserWarning: Too few observations to estimate starting parameters for seasonal ARMA. All parameters except for variances will be set to zeros.\n",
            "  ' zeros.' % warning_description)\n"
          ],
          "name": "stderr"
        },
        {
          "output_type": "stream",
          "text": [
            "Fit ARIMA(3,1,0)x(1,1,2,12) [intercept=True]; AIC=1179.662, BIC=1197.875, Time=4.114 seconds\n",
            "Fit ARIMA(3,1,0)x(0,1,2,12) [intercept=True]; AIC=1189.659, BIC=1205.595, Time=0.642 seconds\n",
            "Fit ARIMA(3,1,0)x(1,1,1,12) [intercept=True]; AIC=1190.251, BIC=1206.187, Time=1.508 seconds\n"
          ],
          "name": "stdout"
        },
        {
          "output_type": "stream",
          "text": [
            "/usr/local/lib/python3.6/dist-packages/statsmodels/tsa/statespace/sarimax.py:868: UserWarning: Too few observations to estimate starting parameters for seasonal ARMA. All parameters except for variances will be set to zeros.\n",
            "  ' zeros.' % warning_description)\n",
            "/usr/local/lib/python3.6/dist-packages/statsmodels/base/model.py:568: ConvergenceWarning: Maximum Likelihood optimization failed to converge. Check mle_retvals\n",
            "  \"Check mle_retvals\", ConvergenceWarning)\n"
          ],
          "name": "stderr"
        },
        {
          "output_type": "stream",
          "text": [
            "Fit ARIMA(3,1,0)x(2,1,2,12) [intercept=True]; AIC=1183.563, BIC=1204.053, Time=4.831 seconds\n",
            "Near non-invertible roots for order (3, 1, 0)(2, 1, 2, 12); setting score to inf (at least one inverse root too close to the border of the unit circle: 0.990)\n"
          ],
          "name": "stdout"
        },
        {
          "output_type": "stream",
          "text": [
            "/usr/local/lib/python3.6/dist-packages/statsmodels/tsa/statespace/sarimax.py:868: UserWarning: Too few observations to estimate starting parameters for seasonal ARMA. All parameters except for variances will be set to zeros.\n",
            "  ' zeros.' % warning_description)\n",
            "/usr/local/lib/python3.6/dist-packages/statsmodels/base/model.py:568: ConvergenceWarning: Maximum Likelihood optimization failed to converge. Check mle_retvals\n",
            "  \"Check mle_retvals\", ConvergenceWarning)\n"
          ],
          "name": "stderr"
        },
        {
          "output_type": "stream",
          "text": [
            "Fit ARIMA(3,1,0)x(1,1,3,12) [intercept=True]; AIC=1182.722, BIC=1203.212, Time=7.491 seconds\n",
            "Near non-invertible roots for order (3, 1, 0)(1, 1, 3, 12); setting score to inf (at least one inverse root too close to the border of the unit circle: 0.992)\n",
            "Fit ARIMA(3,1,0)x(0,1,1,12) [intercept=True]; AIC=1190.236, BIC=1203.896, Time=0.248 seconds\n"
          ],
          "name": "stdout"
        },
        {
          "output_type": "stream",
          "text": [
            "/usr/local/lib/python3.6/dist-packages/statsmodels/tsa/statespace/sarimax.py:868: UserWarning: Too few observations to estimate starting parameters for seasonal ARMA. All parameters except for variances will be set to zeros.\n",
            "  ' zeros.' % warning_description)\n",
            "/usr/local/lib/python3.6/dist-packages/statsmodels/base/model.py:568: ConvergenceWarning: Maximum Likelihood optimization failed to converge. Check mle_retvals\n",
            "  \"Check mle_retvals\", ConvergenceWarning)\n"
          ],
          "name": "stderr"
        },
        {
          "output_type": "stream",
          "text": [
            "Fit ARIMA(3,1,0)x(0,1,3,12) [intercept=True]; AIC=1187.801, BIC=1206.014, Time=6.958 seconds\n",
            "Near non-invertible roots for order (3, 1, 0)(0, 1, 3, 12); setting score to inf (at least one inverse root too close to the border of the unit circle: 0.998)\n"
          ],
          "name": "stdout"
        },
        {
          "output_type": "stream",
          "text": [
            "/usr/local/lib/python3.6/dist-packages/statsmodels/base/model.py:568: ConvergenceWarning: Maximum Likelihood optimization failed to converge. Check mle_retvals\n",
            "  \"Check mle_retvals\", ConvergenceWarning)\n",
            "/usr/local/lib/python3.6/dist-packages/statsmodels/tsa/statespace/sarimax.py:868: UserWarning: Too few observations to estimate starting parameters for seasonal ARMA. All parameters except for variances will be set to zeros.\n",
            "  ' zeros.' % warning_description)\n"
          ],
          "name": "stderr"
        },
        {
          "output_type": "stream",
          "text": [
            "Fit ARIMA(3,1,0)x(2,1,1,12) [intercept=True]; AIC=1186.322, BIC=1204.535, Time=4.667 seconds\n"
          ],
          "name": "stdout"
        },
        {
          "output_type": "stream",
          "text": [
            "/usr/local/lib/python3.6/dist-packages/statsmodels/base/model.py:568: ConvergenceWarning: Maximum Likelihood optimization failed to converge. Check mle_retvals\n",
            "  \"Check mle_retvals\", ConvergenceWarning)\n"
          ],
          "name": "stderr"
        },
        {
          "output_type": "stream",
          "text": [
            "Fit ARIMA(3,1,0)x(2,1,3,12) [intercept=True]; AIC=1182.679, BIC=1205.446, Time=9.169 seconds\n",
            "Near non-invertible roots for order (3, 1, 0)(2, 1, 3, 12); setting score to inf (at least one inverse root too close to the border of the unit circle: 1.000)\n"
          ],
          "name": "stdout"
        },
        {
          "output_type": "stream",
          "text": [
            "/usr/local/lib/python3.6/dist-packages/statsmodels/tsa/statespace/sarimax.py:868: UserWarning: Too few observations to estimate starting parameters for seasonal ARMA. All parameters except for variances will be set to zeros.\n",
            "  ' zeros.' % warning_description)\n",
            "/usr/local/lib/python3.6/dist-packages/statsmodels/base/model.py:568: ConvergenceWarning: Maximum Likelihood optimization failed to converge. Check mle_retvals\n",
            "  \"Check mle_retvals\", ConvergenceWarning)\n"
          ],
          "name": "stderr"
        },
        {
          "output_type": "stream",
          "text": [
            "Fit ARIMA(4,1,0)x(1,1,2,12) [intercept=True]; AIC=1183.113, BIC=1203.603, Time=5.031 seconds\n"
          ],
          "name": "stdout"
        },
        {
          "output_type": "stream",
          "text": [
            "/usr/local/lib/python3.6/dist-packages/statsmodels/tsa/statespace/sarimax.py:868: UserWarning: Too few observations to estimate starting parameters for seasonal ARMA. All parameters except for variances will be set to zeros.\n",
            "  ' zeros.' % warning_description)\n",
            "/usr/local/lib/python3.6/dist-packages/statsmodels/base/model.py:568: ConvergenceWarning: Maximum Likelihood optimization failed to converge. Check mle_retvals\n",
            "  \"Check mle_retvals\", ConvergenceWarning)\n"
          ],
          "name": "stderr"
        },
        {
          "output_type": "stream",
          "text": [
            "Fit ARIMA(3,1,1)x(1,1,2,12) [intercept=True]; AIC=1170.315, BIC=1190.805, Time=5.312 seconds\n",
            "Near non-invertible roots for order (3, 1, 1)(1, 1, 2, 12); setting score to inf (at least one inverse root too close to the border of the unit circle: 1.000)\n"
          ],
          "name": "stdout"
        },
        {
          "output_type": "stream",
          "text": [
            "/usr/local/lib/python3.6/dist-packages/statsmodels/tsa/statespace/sarimax.py:868: UserWarning: Too few observations to estimate starting parameters for seasonal ARMA. All parameters except for variances will be set to zeros.\n",
            "  ' zeros.' % warning_description)\n",
            "/usr/local/lib/python3.6/dist-packages/statsmodels/base/model.py:568: ConvergenceWarning: Maximum Likelihood optimization failed to converge. Check mle_retvals\n",
            "  \"Check mle_retvals\", ConvergenceWarning)\n",
            "/usr/local/lib/python3.6/dist-packages/statsmodels/tsa/statespace/sarimax.py:868: UserWarning: Too few observations to estimate starting parameters for seasonal ARMA. All parameters except for variances will be set to zeros.\n",
            "  ' zeros.' % warning_description)\n"
          ],
          "name": "stderr"
        },
        {
          "output_type": "stream",
          "text": [
            "Fit ARIMA(2,1,1)x(1,1,2,12) [intercept=True]; AIC=1172.080, BIC=1190.293, Time=5.300 seconds\n",
            "Near non-invertible roots for order (2, 1, 1)(1, 1, 2, 12); setting score to inf (at least one inverse root too close to the border of the unit circle: 1.000)\n"
          ],
          "name": "stdout"
        },
        {
          "output_type": "stream",
          "text": [
            "/usr/local/lib/python3.6/dist-packages/statsmodels/base/model.py:568: ConvergenceWarning: Maximum Likelihood optimization failed to converge. Check mle_retvals\n",
            "  \"Check mle_retvals\", ConvergenceWarning)\n"
          ],
          "name": "stderr"
        },
        {
          "output_type": "stream",
          "text": [
            "Fit ARIMA(4,1,1)x(1,1,2,12) [intercept=True]; AIC=1182.659, BIC=1205.426, Time=5.975 seconds\n",
            "Total fit time: 119.279 seconds\n"
          ],
          "name": "stdout"
        }
      ]
    },
    {
      "cell_type": "code",
      "metadata": {
        "id": "adfv0Dp4qvqd",
        "colab_type": "code",
        "colab": {
          "base_uri": "https://localhost:8080/",
          "height": 566
        },
        "outputId": "02749211-d076-4b8f-bf97-41c802de3125"
      },
      "source": [
        "arima_model.summary()"
      ],
      "execution_count": 26,
      "outputs": [
        {
          "output_type": "execute_result",
          "data": {
            "text/html": [
              "<table class=\"simpletable\">\n",
              "<caption>SARIMAX Results</caption>\n",
              "<tr>\n",
              "  <th>Dep. Variable:</th>                    <td>y</td>                  <th>  No. Observations:  </th>    <td>85</td>   \n",
              "</tr>\n",
              "<tr>\n",
              "  <th>Model:</th>           <td>SARIMAX(3, 1, 1)x(1, 1, [1, 2], 12)</td> <th>  Log Likelihood     </th> <td>-576.157</td>\n",
              "</tr>\n",
              "<tr>\n",
              "  <th>Date:</th>                     <td>Fri, 26 Jun 2020</td>           <th>  AIC                </th> <td>1170.315</td>\n",
              "</tr>\n",
              "<tr>\n",
              "  <th>Time:</th>                         <td>22:06:42</td>               <th>  BIC                </th> <td>1190.805</td>\n",
              "</tr>\n",
              "<tr>\n",
              "  <th>Sample:</th>                           <td>0</td>                  <th>  HQIC               </th> <td>1178.472</td>\n",
              "</tr>\n",
              "<tr>\n",
              "  <th></th>                                <td> - 85</td>                <th>                     </th>     <td> </td>   \n",
              "</tr>\n",
              "<tr>\n",
              "  <th>Covariance Type:</th>                 <td>opg</td>                 <th>                     </th>     <td> </td>   \n",
              "</tr>\n",
              "</table>\n",
              "<table class=\"simpletable\">\n",
              "<tr>\n",
              "      <td></td>         <th>coef</th>     <th>std err</th>      <th>z</th>      <th>P>|z|</th>  <th>[0.025</th>    <th>0.975]</th>  \n",
              "</tr>\n",
              "<tr>\n",
              "  <th>intercept</th> <td>   -1.1672</td> <td>    1.748</td> <td>   -0.668</td> <td> 0.504</td> <td>   -4.593</td> <td>    2.259</td>\n",
              "</tr>\n",
              "<tr>\n",
              "  <th>ar.L1</th>     <td>    0.3402</td> <td>    0.102</td> <td>    3.325</td> <td> 0.001</td> <td>    0.140</td> <td>    0.541</td>\n",
              "</tr>\n",
              "<tr>\n",
              "  <th>ar.L2</th>     <td>   -0.0347</td> <td>    0.134</td> <td>   -0.259</td> <td> 0.796</td> <td>   -0.297</td> <td>    0.228</td>\n",
              "</tr>\n",
              "<tr>\n",
              "  <th>ar.L3</th>     <td>    0.0124</td> <td>    0.147</td> <td>    0.084</td> <td> 0.933</td> <td>   -0.275</td> <td>    0.300</td>\n",
              "</tr>\n",
              "<tr>\n",
              "  <th>ma.L1</th>     <td>   -1.0000</td> <td>    0.284</td> <td>   -3.521</td> <td> 0.000</td> <td>   -1.557</td> <td>   -0.443</td>\n",
              "</tr>\n",
              "<tr>\n",
              "  <th>ar.S.L12</th>  <td>    0.8193</td> <td>    0.280</td> <td>    2.924</td> <td> 0.003</td> <td>    0.270</td> <td>    1.368</td>\n",
              "</tr>\n",
              "<tr>\n",
              "  <th>ma.S.L12</th>  <td>   -1.2131</td> <td>    0.420</td> <td>   -2.887</td> <td> 0.004</td> <td>   -2.037</td> <td>   -0.389</td>\n",
              "</tr>\n",
              "<tr>\n",
              "  <th>ma.S.L24</th>  <td>    0.5220</td> <td>    0.174</td> <td>    2.997</td> <td> 0.003</td> <td>    0.181</td> <td>    0.863</td>\n",
              "</tr>\n",
              "<tr>\n",
              "  <th>sigma2</th>    <td> 4.599e+05</td> <td> 6.15e-07</td> <td> 7.47e+11</td> <td> 0.000</td> <td>  4.6e+05</td> <td>  4.6e+05</td>\n",
              "</tr>\n",
              "</table>\n",
              "<table class=\"simpletable\">\n",
              "<tr>\n",
              "  <th>Ljung-Box (Q):</th>          <td>47.91</td> <th>  Jarque-Bera (JB):  </th> <td>6.93</td> \n",
              "</tr>\n",
              "<tr>\n",
              "  <th>Prob(Q):</th>                <td>0.18</td>  <th>  Prob(JB):          </th> <td>0.03</td> \n",
              "</tr>\n",
              "<tr>\n",
              "  <th>Heteroskedasticity (H):</th> <td>1.80</td>  <th>  Skew:              </th> <td>-0.12</td>\n",
              "</tr>\n",
              "<tr>\n",
              "  <th>Prob(H) (two-sided):</th>    <td>0.16</td>  <th>  Kurtosis:          </th> <td>4.50</td> \n",
              "</tr>\n",
              "</table><br/><br/>Warnings:<br/>[1] Covariance matrix calculated using the outer product of gradients (complex-step).<br/>[2] Covariance matrix is singular or near-singular, with condition number 1.18e+29. Standard errors may be unstable."
            ],
            "text/plain": [
              "<class 'statsmodels.iolib.summary.Summary'>\n",
              "\"\"\"\n",
              "                                        SARIMAX Results                                        \n",
              "===============================================================================================\n",
              "Dep. Variable:                                       y   No. Observations:                   85\n",
              "Model:             SARIMAX(3, 1, 1)x(1, 1, [1, 2], 12)   Log Likelihood                -576.157\n",
              "Date:                                 Fri, 26 Jun 2020   AIC                           1170.315\n",
              "Time:                                         22:06:42   BIC                           1190.805\n",
              "Sample:                                              0   HQIC                          1178.472\n",
              "                                                  - 85                                         \n",
              "Covariance Type:                                   opg                                         \n",
              "==============================================================================\n",
              "                 coef    std err          z      P>|z|      [0.025      0.975]\n",
              "------------------------------------------------------------------------------\n",
              "intercept     -1.1672      1.748     -0.668      0.504      -4.593       2.259\n",
              "ar.L1          0.3402      0.102      3.325      0.001       0.140       0.541\n",
              "ar.L2         -0.0347      0.134     -0.259      0.796      -0.297       0.228\n",
              "ar.L3          0.0124      0.147      0.084      0.933      -0.275       0.300\n",
              "ma.L1         -1.0000      0.284     -3.521      0.000      -1.557      -0.443\n",
              "ar.S.L12       0.8193      0.280      2.924      0.003       0.270       1.368\n",
              "ma.S.L12      -1.2131      0.420     -2.887      0.004      -2.037      -0.389\n",
              "ma.S.L24       0.5220      0.174      2.997      0.003       0.181       0.863\n",
              "sigma2      4.599e+05   6.15e-07   7.47e+11      0.000     4.6e+05     4.6e+05\n",
              "===================================================================================\n",
              "Ljung-Box (Q):                       47.91   Jarque-Bera (JB):                 6.93\n",
              "Prob(Q):                              0.18   Prob(JB):                         0.03\n",
              "Heteroskedasticity (H):               1.80   Skew:                            -0.12\n",
              "Prob(H) (two-sided):                  0.16   Kurtosis:                         4.50\n",
              "===================================================================================\n",
              "\n",
              "Warnings:\n",
              "[1] Covariance matrix calculated using the outer product of gradients (complex-step).\n",
              "[2] Covariance matrix is singular or near-singular, with condition number 1.18e+29. Standard errors may be unstable.\n",
              "\"\"\""
            ]
          },
          "metadata": {
            "tags": []
          },
          "execution_count": 26
        }
      ]
    },
    {
      "cell_type": "markdown",
      "metadata": {
        "id": "O_GqFai6q3Ra",
        "colab_type": "text"
      },
      "source": [
        "**5. Forecast on Test Data**"
      ]
    },
    {
      "cell_type": "code",
      "metadata": {
        "id": "gfCPatIDq9mi",
        "colab_type": "code",
        "colab": {
          "base_uri": "https://localhost:8080/",
          "height": 700
        },
        "outputId": "29d8c5b7-05d7-4b6b-ee1f-de7c02139f35"
      },
      "source": [
        "prediction = pd.DataFrame(arima_model.predict(n_periods = 20), index = test_df.index)\n",
        "prediction.columns = ['predicted_sales']\n",
        "prediction"
      ],
      "execution_count": 28,
      "outputs": [
        {
          "output_type": "execute_result",
          "data": {
            "text/html": [
              "<div>\n",
              "<style scoped>\n",
              "    .dataframe tbody tr th:only-of-type {\n",
              "        vertical-align: middle;\n",
              "    }\n",
              "\n",
              "    .dataframe tbody tr th {\n",
              "        vertical-align: top;\n",
              "    }\n",
              "\n",
              "    .dataframe thead th {\n",
              "        text-align: right;\n",
              "    }\n",
              "</style>\n",
              "<table border=\"1\" class=\"dataframe\">\n",
              "  <thead>\n",
              "    <tr style=\"text-align: right;\">\n",
              "      <th></th>\n",
              "      <th>predicted_sales</th>\n",
              "    </tr>\n",
              "    <tr>\n",
              "      <th>month</th>\n",
              "      <th></th>\n",
              "    </tr>\n",
              "  </thead>\n",
              "  <tbody>\n",
              "    <tr>\n",
              "      <th>1971-02-01</th>\n",
              "      <td>3649.495348</td>\n",
              "    </tr>\n",
              "    <tr>\n",
              "      <th>1971-03-01</th>\n",
              "      <td>3781.221860</td>\n",
              "    </tr>\n",
              "    <tr>\n",
              "      <th>1971-04-01</th>\n",
              "      <td>3890.412722</td>\n",
              "    </tr>\n",
              "    <tr>\n",
              "      <th>1971-05-01</th>\n",
              "      <td>3682.161638</td>\n",
              "    </tr>\n",
              "    <tr>\n",
              "      <th>1971-06-01</th>\n",
              "      <td>4260.896352</td>\n",
              "    </tr>\n",
              "    <tr>\n",
              "      <th>1971-07-01</th>\n",
              "      <td>3848.843045</td>\n",
              "    </tr>\n",
              "    <tr>\n",
              "      <th>1971-08-01</th>\n",
              "      <td>1362.412861</td>\n",
              "    </tr>\n",
              "    <tr>\n",
              "      <th>1971-09-01</th>\n",
              "      <td>5304.096645</td>\n",
              "    </tr>\n",
              "    <tr>\n",
              "      <th>1971-10-01</th>\n",
              "      <td>6812.509440</td>\n",
              "    </tr>\n",
              "    <tr>\n",
              "      <th>1971-11-01</th>\n",
              "      <td>10708.650364</td>\n",
              "    </tr>\n",
              "    <tr>\n",
              "      <th>1971-12-01</th>\n",
              "      <td>13971.607853</td>\n",
              "    </tr>\n",
              "    <tr>\n",
              "      <th>1972-01-01</th>\n",
              "      <td>3061.869928</td>\n",
              "    </tr>\n",
              "    <tr>\n",
              "      <th>1972-02-01</th>\n",
              "      <td>3204.234077</td>\n",
              "    </tr>\n",
              "    <tr>\n",
              "      <th>1972-03-01</th>\n",
              "      <td>3387.755918</td>\n",
              "    </tr>\n",
              "    <tr>\n",
              "      <th>1972-04-01</th>\n",
              "      <td>3534.980870</td>\n",
              "    </tr>\n",
              "    <tr>\n",
              "      <th>1972-05-01</th>\n",
              "      <td>3115.098950</td>\n",
              "    </tr>\n",
              "    <tr>\n",
              "      <th>1972-06-01</th>\n",
              "      <td>3899.160748</td>\n",
              "    </tr>\n",
              "    <tr>\n",
              "      <th>1972-07-01</th>\n",
              "      <td>3666.635794</td>\n",
              "    </tr>\n",
              "    <tr>\n",
              "      <th>1972-08-01</th>\n",
              "      <td>1107.125827</td>\n",
              "    </tr>\n",
              "    <tr>\n",
              "      <th>1972-09-01</th>\n",
              "      <td>5189.411028</td>\n",
              "    </tr>\n",
              "  </tbody>\n",
              "</table>\n",
              "</div>"
            ],
            "text/plain": [
              "            predicted_sales\n",
              "month                      \n",
              "1971-02-01      3649.495348\n",
              "1971-03-01      3781.221860\n",
              "1971-04-01      3890.412722\n",
              "1971-05-01      3682.161638\n",
              "1971-06-01      4260.896352\n",
              "1971-07-01      3848.843045\n",
              "1971-08-01      1362.412861\n",
              "1971-09-01      5304.096645\n",
              "1971-10-01      6812.509440\n",
              "1971-11-01     10708.650364\n",
              "1971-12-01     13971.607853\n",
              "1972-01-01      3061.869928\n",
              "1972-02-01      3204.234077\n",
              "1972-03-01      3387.755918\n",
              "1972-04-01      3534.980870\n",
              "1972-05-01      3115.098950\n",
              "1972-06-01      3899.160748\n",
              "1972-07-01      3666.635794\n",
              "1972-08-01      1107.125827\n",
              "1972-09-01      5189.411028"
            ]
          },
          "metadata": {
            "tags": []
          },
          "execution_count": 28
        }
      ]
    },
    {
      "cell_type": "code",
      "metadata": {
        "id": "k3iEZGonrbhE",
        "colab_type": "code",
        "colab": {
          "base_uri": "https://localhost:8080/",
          "height": 320
        },
        "outputId": "228efb81-385f-4514-df8d-32d32217cf29"
      },
      "source": [
        "plt.figure(figsize=(8,5))\n",
        "plt.plot(train_df, label = 'Training')\n",
        "plt.plot(test_df, label = 'Test')\n",
        "plt.plot(prediction, label = 'Predicted')\n",
        "plt.legend(loc = 'upper left')\n",
        "plt.show()"
      ],
      "execution_count": 33,
      "outputs": [
        {
          "output_type": "display_data",
          "data": {
            "image/png": "[encoded data removed]",
            "text/plain": [
              "<Figure size 576x360 with 1 Axes>"
            ]
          },
          "metadata": {
            "tags": [],
            "needs_background": "light"
          }
        }
      ]
    },
    {
      "cell_type": "code",
      "metadata": {
        "id": "TQIgCzCOsBsU",
        "colab_type": "code",
        "colab": {
          "base_uri": "https://localhost:8080/",
          "height": 119
        },
        "outputId": "7b0b6e85-95b2-4a81-fe02-3b326189ad69"
      },
      "source": [
        "# show some goodness of fit metrics\n",
        "from sklearn.metrics import r2_score\n",
        "from sklearn.metrics import r2_score\n",
        "test_df['predicted_sales'] = prediction\n",
        "#r2_score(test_df['sales'], test_df['predicted_sales'])"
      ],
      "execution_count": 43,
      "outputs": [
        {
          "output_type": "stream",
          "text": [
            "/usr/local/lib/python3.6/dist-packages/ipykernel_launcher.py:4: SettingWithCopyWarning: \n",
            "A value is trying to be set on a copy of a slice from a DataFrame.\n",
            "Try using .loc[row_indexer,col_indexer] = value instead\n",
            "\n",
            "See the caveats in the documentation: https://pandas.pydata.org/pandas-docs/stable/user_guide/indexing.html#returning-a-view-versus-a-copy\n",
            "  after removing the cwd from sys.path.\n"
          ],
          "name": "stderr"
        }
      ]
    }
  ]
}