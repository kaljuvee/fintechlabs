{
 "cells": [
  {
   "cell_type": "markdown",
   "metadata": {
    "colab_type": "text",
    "id": "Sm6WDU403MIX"
   },
   "source": [
    "## News Named Entity Extraction (NER) and Sentiment Analysis"
   ]
  },
  {
   "cell_type": "code",
   "execution_count": 0,
   "metadata": {
    "colab": {
     "base_uri": "https://localhost:8080/",
     "height": 122
    },
    "colab_type": "code",
    "id": "pyAMXMIgKWmh",
    "outputId": "12318afc-90d0-48b3-955d-1c51a5b5284e"
   },
   "outputs": [
    {
     "name": "stdout",
     "output_type": "stream",
     "text": [
      "Go to this URL in a browser: https://accounts.google.com/o/oauth2/auth?client_id=947318989803-6bn6qk8qdgf4n4g3pfee6491hc0brc4i.apps.googleusercontent.com&redirect_uri=urn%3aietf%3awg%3aoauth%3a2.0%3aoob&response_type=code&scope=email%20https%3a%2f%2fwww.googleapis.com%2fauth%2fdocs.test%20https%3a%2f%2fwww.googleapis.com%2fauth%2fdrive%20https%3a%2f%2fwww.googleapis.com%2fauth%2fdrive.photos.readonly%20https%3a%2f%2fwww.googleapis.com%2fauth%2fpeopleapi.readonly\n",
      "\n",
      "Enter your authorization code:\n",
      "··········\n",
      "Mounted at /content/drive\n"
     ]
    }
   ],
   "source": [
    "from google.colab import drive\n",
    "drive.mount('/content/drive')"
   ]
  },
  {
   "cell_type": "markdown",
   "metadata": {
    "colab_type": "text",
    "id": "Q7JrDKGB3MIY"
   },
   "source": [
    "###### Load dependency libraries "
   ]
  },
  {
   "cell_type": "code",
   "execution_count": 0,
   "metadata": {
    "colab": {
     "base_uri": "https://localhost:8080/",
     "height": 51
    },
    "colab_type": "code",
    "id": "4mbIoRAy3MIZ",
    "outputId": "1f74b52f-bcc3-46fb-ddae-a01d5f78538f"
   },
   "outputs": [
    {
     "name": "stdout",
     "output_type": "stream",
     "text": [
      "Requirement already satisfied: psycopg2-binary in /usr/local/lib/python3.6/dist-packages (2.8.5)\n",
      "Requirement already satisfied: feedparser in /usr/local/lib/python3.6/dist-packages (5.2.1)\n"
     ]
    }
   ],
   "source": [
    "!pip install psycopg2-binary\n",
    "!pip install feedparser\n",
    "import pandas as pd\n",
    "import numpy as np\n",
    "from textblob import TextBlob\n",
    "import psycopg2\n",
    "from pandas.io.json import json_normalize\n",
    "import seaborn as sns\n",
    "import feedparser\n",
    "import requests\n",
    "import json\n",
    "import yaml"
   ]
  },
  {
   "cell_type": "markdown",
   "metadata": {
    "colab_type": "text",
    "id": "atxlDpT63MIc"
   },
   "source": [
    "**News / NLP Signal Pipeline**\n",
    "\n",
    "1. **Fetch news** - read in news source via an RSS feed (Feedparser)\n",
    "2. **Extract entitities** - perform named entity recognition (NER) on the unstructured text ( Thomson Reuters Intelligent Tagging (TRIT) / Refinitiv Open Calais)\n",
    "3. **Filter on news and entities** - filter on entities and events of interest\n",
    "4. **Sentiment analysis** - extract sentiment on the news item (Texblob)\n",
    "5. **Find signal** - correlate sentiment with price movement\n",
    "6. **Historical EOD prices** - fetch historical prices (Eodhistoricaldata.com)\n",
    "6. **Backtesting** - back test for PnL performance (internal or Zipline)\n",
    "\n",
    "https://www.altsignals.ai\n",
    "\n"
   ]
  },
  {
   "cell_type": "code",
   "execution_count": 0,
   "metadata": {
    "colab": {},
    "colab_type": "code",
    "id": "2loSC5lMAyt-"
   },
   "outputs": [],
   "source": [
    "# Dictionary of RSS feeds that we will fetch and combine\n",
    "# GlobeNewsire / Europe - http://www.globenewswire.com/Rss/List\n",
    "# potential keys: ['summary_detail', 'published_parsed', 'links', 'title', 'summary', 'guidislink', 'title_detail', 'link', 'published', 'id']\n",
    "newsurls = {\n",
    "    'globenewswire-us':           'http://www.globenewswire.com/RssFeed/country/United%20States/feedTitle/GlobeNewswire%20-%20News%20from%20United%20States',\n",
    "}"
   ]
  },
  {
   "cell_type": "markdown",
   "metadata": {
    "colab_type": "text",
    "id": "1KYr2kn2WJfF"
   },
   "source": [
    "**1. Fetch news from RSS feed**"
   ]
  },
  {
   "cell_type": "code",
   "execution_count": 0,
   "metadata": {
    "colab": {},
    "colab_type": "code",
    "id": "s06D_B0H3MIc"
   },
   "outputs": [],
   "source": [
    "# Function to fetch the rss feed and return the parsed RSS\n",
    "def parse_rss( rss_url ):\n",
    "    return feedparser.parse( rss_url ) \n",
    "    \n",
    "# Function grabs the rss feed headlines (titles) and returns them as a list\n",
    "def get_headlines( rss_url ):\n",
    "    headlines = []\n",
    "    feed = parse_rss( rss_url )\n",
    "    for newsitem in feed['items']:\n",
    "        headlines.append(newsitem['title'])\n",
    "    return headlines\n",
    "\n",
    "def get_summaries( rss_url ):\n",
    "    summaries = []\n",
    "    feed = parse_rss( rss_url )\n",
    "    for newsitem in feed['items']:\n",
    "        summaries.append(newsitem['summary'])\n",
    "    return summaries\n",
    "\n",
    "def get_entries( rss_url ):\n",
    "    entries = []\n",
    "    feed = parse_rss( rss_url )\n",
    "    for newsitem in feed['items']:\n",
    "        entries.append(newsitem.keys())\n",
    "    return entries"
   ]
  },
  {
   "cell_type": "markdown",
   "metadata": {
    "colab_type": "text",
    "id": "D6m4q69PWwdX"
   },
   "source": [
    "**1.1 Inspect entries available in news feed**"
   ]
  },
  {
   "cell_type": "code",
   "execution_count": 0,
   "metadata": {
    "colab": {
     "base_uri": "https://localhost:8080/",
     "height": 54
    },
    "colab_type": "code",
    "id": "KMq-k3IfFa7M",
    "outputId": "5fc5c0a2-a716-4b41-de06-2f0e1d3c3e5f"
   },
   "outputs": [
    {
     "name": "stdout",
     "output_type": "stream",
     "text": [
      "dict_keys(['id', 'guidislink', 'link', 'links', 'tags', 'title', 'title_detail', 'summary', 'summary_detail', 'published', 'published_parsed', 'dc_identifier', 'language', 'publisher', 'publisher_detail', 'contributors', 'dc_modified', 'dc_keyword'])\n"
     ]
    }
   ],
   "source": [
    "# Inspect the entries available in the RSS feed\n",
    "entries = []\n",
    "\n",
    "# Iterate over the feed urls\n",
    "for key,url in newsurls.items():\n",
    "    # Call getHeadlines() and combine the returned headlines with allheadlines\n",
    "    entries.extend( get_entries( url ) )\n",
    "\n",
    "print(entries[0])"
   ]
  },
  {
   "cell_type": "markdown",
   "metadata": {
    "colab_type": "text",
    "id": "4DSGfeh-eVXL"
   },
   "source": []
  },
  {
   "cell_type": "markdown",
   "metadata": {
    "colab_type": "text",
    "id": "GS40A-pFW8dm"
   },
   "source": [
    "**1.2 Build dictionary of {published_date: headline}**"
   ]
  },
  {
   "cell_type": "code",
   "execution_count": 0,
   "metadata": {
    "colab": {
     "base_uri": "https://localhost:8080/",
     "height": 54
    },
    "colab_type": "code",
    "id": "M8D0ojAG3MIf",
    "outputId": "cc8d8833-1d1a-4a54-927c-9fcd7ccbb1cb"
   },
   "outputs": [
    {
     "name": "stdout",
     "output_type": "stream",
     "text": [
      "{'Sun, 26 Apr 2020 15:17 GMT': 'PHARMACIELO DEADLINE ALERT: Faruqi & Faruqi, LLP Encourages Investors Who Suffered Losses Exceeding $50,000 In PharmaCielo Ltd. To Contact The Firm', 'Sun, 26 Apr 2020 13:49 GMT': 'Velocity (VEL) Alert: Johnson Fistel Investigates Velocity Financial, Inc.; Investors Suffering Losses Encouraged to Contact Firm', 'Sun, 26 Apr 2020 05:51 GMT': 'ALIGN DEADLINE ALERT: Faruqi & Faruqi, LLP Encourages Investors Who Suffered Losses Exceeding $100,000 In Align Technology, Inc. To Contact The Firm', 'Sun, 26 Apr 2020 05:34 GMT': 'ALLAKOS DEADLINE ALERT: Faruqi & Faruqi, LLP Encourages Investors Who Suffered Losses Exceeding $50,000 In Allakos Inc. To Contact The Firm', 'Sun, 26 Apr 2020 05:04 GMT': 'FUNKO LEAD PLAINTIFF DEADLINE ALERT: Faruqi & Faruqi, LLP Encourages Investors Who Suffered Losses Exceeding $50,000 In Funko, Inc. To Contact The Firm', 'Sun, 26 Apr 2020 04:05 GMT': 'WWE DEADLINE ALERT: Faruqi & Faruqi, LLP Encourages Investors Who Suffered Losses Exceeding $50,000 in World Wrestling Entertainment, Inc. to Contact the Firm', 'Sat, 25 Apr 2020 20:45 GMT': 'ROSEN, A GLOBALLY RECOGNIZED LAW FIRM, Reminds Golden Star Resources Ltd. Investors of Important Deadline in Securities Class Action – GSS', 'Sat, 25 Apr 2020 19:45 GMT': 'ROSEN, A GLOBALLY RECOGNIZED LAW FIRM, Reminds LogicBio Therapeutics, Inc. Investors of the Important Deadline in Securities Class Action First Filed by Firm – LOGC', 'Sat, 25 Apr 2020 19:18 GMT': 'Potbelly Returning Payroll Protection Program Loan', 'Sat, 25 Apr 2020 18:37 GMT': 'In 4 Weeks or Less: Get a Fasttrack Digital Storefront Up with Terafina Inc. to Onboard New Consumer and New Small Business Customers', 'Sat, 25 Apr 2020 17:00 GMT': 'DEADLINE ALERT for TVTY, TUP, SBT, and CCI: The Law Offices of Frank R. Cruz Reminds Investors of Class Actions on Behalf of Shareholders', 'Sat, 25 Apr 2020 16:03 GMT': 'TIVITY DEADLINE ALERT: Faruqi & Faruqi, LLP Encourages Investors Who Suffered Losses Exceeding $50,000 in Tivity Health, Inc. to Contact the Firm', 'Sat, 25 Apr 2020 15:14 GMT': 'AARON’S DEADLINE ALERT: Faruqi & Faruqi, LLP Encourages Investors Who Suffered Losses Exceeding $50,000 In Aaron’s, Inc. To Contact The Firm', 'Sat, 25 Apr 2020 15:04 GMT': 'BECTON DEADLINE ALERT: Faruqi & Faruqi, LLP Encourages Investors Who Suffered Losses Exceeding $50,000 In Becton, Dickinson and Company To Contact The Firm', 'Sat, 25 Apr 2020 14:29 GMT': 'STERLING DEADLINE ALERT: Faruqi & Faruqi, LLP Encourages Investors Who Suffered Losses Exceeding $50,000 In Sterling Bancorp, Inc. To Contact The Firm', 'Sat, 25 Apr 2020 14:09 GMT': 'MGP DEADLINE ALERT: Faruqi & Faruqi, LLP Encourages Investors Who Suffered Losses Exceeding $50,000 In MGP Ingredients, Inc. To Contact The Firm', 'Sat, 25 Apr 2020 12:00 GMT': 'SHAREHOLDER ALERT:\\xa0 Pomerantz Law Firm Reminds Shareholders with Losses on their Investment in Aaron’s, Inc. of Class Action Lawsuit and Upcoming Deadline – AAN', 'Sat, 25 Apr 2020 05:15 GMT': 'Tunnel to Towers Foundation to Support the Family of Fallen New Jersey Police Officer', 'Sat, 25 Apr 2020 05:00 GMT': 'Diet Doc Offers Individual and Customized Mediterranean Diet Support During Lockdown'}\n"
     ]
    }
   ],
   "source": [
    "\n",
    "\n",
    "# Function grabs the rss feed headlines (titles) and returns them as a list\n",
    "def get_headlines_dict( rss_url ):\n",
    "    feed = parse_rss( rss_url )\n",
    "    hl_dict = {}\n",
    "    for newsitem in feed['items']:\n",
    "       hl_dict[newsitem['published']] = newsitem['title']\n",
    "    return hl_dict\n",
    "\n",
    "# Iterate over the feed urls\n",
    "for key,url in newsurls.items():\n",
    "    # Call getHeadlines() and combine the returned headlines with allheadlines\n",
    "    hl_dict = get_headlines_dict( url )\n",
    "\n",
    "print(hl_dict)\n",
    "#hf_df = pd.DataFrame.from_dict(hl_dict, orient='index', columns=['published_date','headline'])\n",
    "#print(hf_df)"
   ]
  },
  {
   "cell_type": "code",
   "execution_count": 0,
   "metadata": {
    "colab": {},
    "colab_type": "code",
    "id": "QS1lqt7xfI7z"
   },
   "outputs": [],
   "source": [
    "# A list to hold all headlines and summaries\n",
    "allheadlines = []\n",
    "summaries = []\n",
    "\n",
    "# Iterate over the feed urls\n",
    "for key,url in newsurls.items():\n",
    "    # Call getHeadlines() and combine the returned headlines with allheadlines\n",
    "    allheadlines.extend( getHeadlines( url ) )\n",
    "    summaries.extend( getSummaries( url ) )"
   ]
  },
  {
   "cell_type": "markdown",
   "metadata": {
    "colab_type": "text",
    "id": "C0lCh-1SXLhx"
   },
   "source": [
    "**1.3 View headlines**"
   ]
  },
  {
   "cell_type": "code",
   "execution_count": 0,
   "metadata": {
    "colab": {
     "base_uri": "https://localhost:8080/",
     "height": 357
    },
    "colab_type": "code",
    "id": "OSJq-lRn3MIh",
    "outputId": "4c72c57c-8d63-49b4-dd91-5184271f5f51"
   },
   "outputs": [
    {
     "name": "stdout",
     "output_type": "stream",
     "text": [
      "Velocity (VEL) Alert: Johnson Fistel Investigates Velocity Financial, Inc.; Investors Suffering Losses Encouraged to Contact Firm\n",
      "ALIGN DEADLINE ALERT: Faruqi & Faruqi, LLP Encourages Investors Who Suffered Losses Exceeding $100,000 In Align Technology, Inc. To Contact The Firm\n",
      "ALLAKOS DEADLINE ALERT: Faruqi & Faruqi, LLP Encourages Investors Who Suffered Losses Exceeding $50,000 In Allakos Inc. To Contact The Firm\n",
      "FUNKO LEAD PLAINTIFF DEADLINE ALERT: Faruqi & Faruqi, LLP Encourages Investors Who Suffered Losses Exceeding $50,000 In Funko, Inc. To Contact The Firm\n",
      "WWE DEADLINE ALERT: Faruqi & Faruqi, LLP Encourages Investors Who Suffered Losses Exceeding $50,000 in World Wrestling Entertainment, Inc. to Contact the Firm\n",
      "ROSEN, A GLOBALLY RECOGNIZED LAW FIRM, Reminds Golden Star Resources Ltd. Investors of Important Deadline in Securities Class Action – GSS\n",
      "ROSEN, A GLOBALLY RECOGNIZED LAW FIRM, Reminds LogicBio Therapeutics, Inc. Investors of the Important Deadline in Securities Class Action First Filed by Firm – LOGC\n",
      "Potbelly Returning Payroll Protection Program Loan\n",
      "In 4 Weeks or Less: Get a Fasttrack Digital Storefront Up with Terafina Inc. to Onboard New Consumer and New Small Business Customers\n",
      "The Law Offices of Frank R. Cruz Reminds Investors of Looming Deadline in the Class Action Lawsuit Against Becton, Dickinson and Company (BDX)\n",
      "DEADLINE ALERT for TVTY, TUP, SBT, and CCI: The Law Offices of Frank R. Cruz Reminds Investors of Class Actions on Behalf of Shareholders\n",
      "TIVITY DEADLINE ALERT: Faruqi & Faruqi, LLP Encourages Investors Who Suffered Losses Exceeding $50,000 in Tivity Health, Inc. to Contact the Firm\n",
      "AARON’S DEADLINE ALERT: Faruqi & Faruqi, LLP Encourages Investors Who Suffered Losses Exceeding $50,000 In Aaron’s, Inc. To Contact The Firm\n",
      "BECTON DEADLINE ALERT: Faruqi & Faruqi, LLP Encourages Investors Who Suffered Losses Exceeding $50,000 In Becton, Dickinson and Company To Contact The Firm\n",
      "STERLING DEADLINE ALERT: Faruqi & Faruqi, LLP Encourages Investors Who Suffered Losses Exceeding $50,000 In Sterling Bancorp, Inc. To Contact The Firm\n",
      "MGP DEADLINE ALERT: Faruqi & Faruqi, LLP Encourages Investors Who Suffered Losses Exceeding $50,000 In MGP Ingredients, Inc. To Contact The Firm\n",
      "SHAREHOLDER ALERT:  Pomerantz Law Firm Reminds Shareholders with Losses on their Investment in Aaron’s, Inc. of Class Action Lawsuit and Upcoming Deadline – AAN\n",
      "Tunnel to Towers Foundation to Support the Family of Fallen New Jersey Police Officer\n",
      "Diet Doc Offers Individual and Customized Mediterranean Diet Support During Lockdown\n",
      "SHAREHOLDER ALERT: CLAIMSFILER REMINDS FITB, I, SERV, ZM INVESTORS of Lead Plaintiff Deadline in Class Action Lawsuits\n"
     ]
    }
   ],
   "source": [
    "# Iterate over the allheadlines list and print each headline\n",
    "for hl in allheadlines:\n",
    "    print(hl)"
   ]
  },
  {
   "cell_type": "markdown",
   "metadata": {
    "colab_type": "text",
    "id": "h3RZyNXaXVJp"
   },
   "source": [
    "**1.3 View news summaries**\n"
   ]
  },
  {
   "cell_type": "code",
   "execution_count": 0,
   "metadata": {
    "colab": {
     "base_uri": "https://localhost:8080/",
     "height": 377
    },
    "colab_type": "code",
    "id": "s-vPXQ3i-h7f",
    "outputId": "1dbba59c-ff98-471a-e9b7-443e7f8cc464"
   },
   "outputs": [
    {
     "name": "stdout",
     "output_type": "stream",
     "text": [
      "<p>SAN DIEGO, April  26, 2020  (GLOBE NEWSWIRE) -- Shareholder rights law firm Johnson Fistel, LLP is investigating potential violations of the federal securities laws by Velocity Financial, Inc. (\"Velocity\" or \"the Company\") (NYSE: VEL).<br></p>\n",
      "<p align=\"justify\">NEW YORK, April  26, 2020  (GLOBE NEWSWIRE) -- Faruqi &amp; Faruqi, LLP, a leading national securities law firm, reminds investors in Align Technology, Inc. (“Align” or the “Company”) (NASDAQ:ALGN) of the May 1, 2020 deadline to seek the role of lead plaintiff in a federal securities class action that has been filed against the Company.</p>\n",
      "<p>NEW YORK, April  26, 2020  (GLOBE NEWSWIRE) -- Faruqi &amp; Faruqi, LLP, a leading national securities law firm, reminds investors in Allakos Inc. (“Allakos” or the “Company”) (NASDAQ:ALLK) of the May 11, 2020 deadline to seek the role of lead plaintiff in a federal securities class action that has been filed against the Company.</p>\n",
      "<p align=\"left\">NEW YORK, April  26, 2020  (GLOBE NEWSWIRE) -- Faruqi &amp; Faruqi, LLP, a leading national securities law firm, reminds investors in Funko, Inc. (“Funko” or the “Company”) (NASDAQ:FNKO) of the May 11, 2020 deadline to seek the role of lead plaintiff in a federal securities class action that has been filed against the Company.</p>\n",
      "<p>NEW YORK, April  26, 2020  (GLOBE NEWSWIRE) -- Faruqi &amp; Faruqi, LLP, a leading national securities law firm, reminds investors in World Wrestling Entertainment, Inc. (“WWE” or the “Company”) (NYSE:WWE) of the May 5, 2020 deadline to seek the role of lead plaintiff in a federal securities class action that has been filed against the Company.</p>\n",
      "<p align=\"justify\">NEW YORK, April  25, 2020  (GLOBE NEWSWIRE) -- Rosen Law Firm, a global investor rights law firm, reminds purchasers of the securities of Golden Star Resources Ltd. (NYSE: GSS) between February 20, 2019 and July 30, 2019, inclusive (the “Class Period”) of the important June 1, 2020 lead plaintiff deadline in the securities class action. The lawsuit seeks to recover damages for Golden Star investors under the federal securities laws.</p>\n",
      "<p align=\"justify\">NEW YORK, April  25, 2020  (GLOBE NEWSWIRE) -- Rosen Law Firm, a global investor rights law firm, reminds purchasers of the securities of LogicBio Therapeutics, Inc. (NASDAQ: LOGC) between December 3, 2018 and February 10, 2020, inclusive (the “Class Period”) of the important May 18, 2020 lead plaintiff deadline in the class action first filed by the firm. The lawsuit seeks to recover damages for LogicBio investors under the federal securities laws.</p>\n",
      "<p align=\"left\">CHICAGO, April  25, 2020  (GLOBE NEWSWIRE) -- Potbelly Corporation (NASDAQ: PBPB) today released the following statement.<br></p>\n",
      "Be there for new customers who need fasttrack onboarding <pre>Be there for new customers who need fasttrack onboarding</pre>\n",
      "<p align=\"justify\">LOS ANGELES, April  25, 2020  (GLOBE NEWSWIRE) -- <a href=\"https://www.globenewswire.com/Tracker?data=C3DBwV-7yOJTHYe5zFW3jqfnFVuC6Dx4_EBMx6aV2IkHIopP2HTuOyPrha_zuET7kKErgFzJH6G4cwhMVj7OJ9BImDSC0kzDCzLnnhiE3W09dKrWnzr_im3rCWYLTFY2\" rel=\"nofollow\" target=\"_blank\" title=\"\"><u>The Law Offices of Frank R. Cruz</u></a> reminds investors of the upcoming <strong>April 27, 2020 </strong>deadline to file a lead plaintiff motion in the class action filed on behalf of Becton, Dickinson and Company (“Becton” or the “Company”) (NYSE: <a href=\"https://www.globenewswire.com/Tracker?data=nAc0WYSg4McP8L-qVNJjifBxLxRACRZG1Hhvxsf3L2zrv_iVO8OJTROVVXd4YxBBwkPLUxYA-UB2I4FkfDEMsy1J0C8giTAWBKTtrPEvw2g0O6sTrIi_iBXguhVGk8deA1HMIPbUCqH94mojjTWhvYCwUrHArZLoQxRar0f3IxwKcBMKxy6yH3yY2KbLgtCHur7w9lY6BEWoUgwxxPeX8Fewu56mRuU2ilw-DojtUtwHy_rwN4l1YZ2U_X1zPRHUSZ5nRGc8hehqxCf-JISs1hUyAhdHAFxh5VPU2xSBFxBMfWAj7OP7-FHju4LdKDbc\" rel=\"nofollow\" target=\"_blank\" title=\"\"><u>BDX</u></a>) investors who purchased securities between <strong>November 5, 2019 and February 5, 2020</strong>, inclusive (the “Class Period”).<br></p>\n",
      "<p>LOS ANGELES, April  25, 2020  (GLOBE NEWSWIRE) -- <a href=\"https://www.globenewswire.com/Tracker?data=OjlADk6KnareQyZB3NtLuSUiqFPCIqcfqfGSmIQNPXT_w9vFEYGLNFVMO9b0Ei_I8l9Tpt9TNXYPbKgFXknQf6h7BX-4M88xqZmvhmYQGw7n4WsN1SliqRPoTdv78jZR\" rel=\"nofollow\" target=\"_blank\" title=\"\"><u>The Law Offices of Frank R. Cruz</u></a> reminds investors that class action lawsuits have been filed on behalf of shareholders of the following publicly-traded companies.  Investors have until the deadlines listed below to file a lead plaintiff motion.<br></p>\n",
      "<p>NEW YORK, April  25, 2020  (GLOBE NEWSWIRE) -- Faruqi &amp; Faruqi, LLP, a leading national securities law firm, reminds investors in Tivity Health, Inc. (“Tivity” or the “Company”) (NASDAQ:TVTY) of the April 27, 2020 deadline to seek the role of lead plaintiff in a federal securities class action that has been filed against the Company.</p>\n",
      "<p align=\"left\">NEW YORK, April  25, 2020  (GLOBE NEWSWIRE) -- Faruqi &amp; Faruqi, LLP, a leading national securities law firm, reminds investors in Aaron’s, Inc. (“Aaron’s” or the “Company”) (NYSE:AAN) of the April 28, 2020 deadline to seek the role of lead plaintiff in a federal securities class action that has been filed against the Company.</p>\n",
      "<p align=\"left\">NEW YORK, April  25, 2020  (GLOBE NEWSWIRE) -- Faruqi &amp; Faruqi, LLP, a leading national securities law firm, reminds investors in Becton, Dickinson and Company (“Becton” or the “Company”) (NYSE:BDX) of the April 27, 2020 deadline to seek the role of lead plaintiff in a federal securities class action that has been filed against the Company.</p>\n",
      "<p>NEW YORK, April  25, 2020  (GLOBE NEWSWIRE) -- Faruqi &amp; Faruqi, LLP, a leading national securities law firm, reminds investors in Sterling Bancorp, Inc. (“Sterling” or the “Company”) (NASDAQ:SBT) of the April 27, 2020 deadline to seek the role of lead plaintiff in a federal securities class action that has been filed against the Company.</p>\n",
      "<p>NEW YORK, April  25, 2020  (GLOBE NEWSWIRE) -- Faruqi &amp; Faruqi, LLP, a leading national securities law firm, reminds investors in MGP Ingredients, Inc. (“MGP” or the “Company”) (NASDAQ:MGPI) of the April 28, 2020 deadline to seek the role of lead plaintiff in a federal securities class action that has been filed against the Company.</p>\n",
      "<p align=\"justify\">NEW YORK, April  25, 2020  (GLOBE NEWSWIRE) -- Pomerantz LLP announces that a class action lawsuit has been filed against Aaron’s, Inc. (“Aaron’s” or the “Company”) (NYSE:  AAN) and certain of its officers.   The class action, filed in United States District Court, for the Southern District of New York, and indexed under 20-cv-01796, is on behalf of a class consisting of all persons and entities other than Defendants who purchased or otherwise acquired Aaron’s securities between March 2, 2018, and February 19, 2020, both dates inclusive (the “Class Period”), seeking to recover damages caused by Defendants’ violations of the federal securities laws and to pursue remedies under Sections 10(b) and 20(a) of the Securities Exchange Act of 1934 (the “Exchange Act”) and Rule 10b-5 promulgated thereunder, against the Company and certain of its top officials.<br></p>\n",
      "Paterson, New Jersey Officer Francesco Scorpo lost his life to COVID-19 <pre>Paterson, New Jersey Officer Francesco Scorpo lost his life to COVID-19</pre>\n",
      "<p>Jackson, TN, April  25, 2020  (GLOBE NEWSWIRE) -- Year after year, the Mediterranean Diet continues to be listed among the top diets as recommended by medical professionals for nearly 20 years. While many other diets and extreme diet philosophies have come and gone, this way of eating has persisted and it’s no surprise. During the current lockdown, it is imperative that consumers remain focused on their physical health in order to keep their immunity up. The <a href=\"https://www.globenewswire.com/Tracker?data=JJlO3cWD4NHM3uoUFUC-DDP_zBZgl-qTp1XMouSy1kzhK0Gct4r1uEZJn2vgLSipfOhVWv6t82w9OfNfWy2VBeSxMCh5-oV0hIykvm-JVPeRUbL2DjR12LYozMIQs4JCCh3FJ32dj4JGrsKmmIqaIw==\" rel=\"nofollow\" target=\"_blank\" title=\"Mediterranean diet\">Mediterranean diet</a> is considered the most recommended diet amongst physicians and health professionals for is physical and mental health benefits. First, the diet has a primary focus on plant-based foods such as fibrous vegetables, legumes, nuts, olive oil and some fruit. This results in a higher level of monounsaturated fats which keep the heart healthy by reducing ‘bad’ LDL cholesterol levels, while increasing <a href=\"https://www.globenewswire.com/Tracker?data=Mysmk8cbIuqy7v0r8EKkM5yy4bsH5xgKZi5mPzLCrILVU2zzgjP5UDUePAUjyM4xR1RlKF8l1Ueu9fJ1XqoE0qaU50pXrLzG_qH13FMncroWqBb82JlINaGELmBF8nvkKqnnlopABKiaRgd_qF8kXjsla6u8XHtfzGN0pzm_pqNmJC_COJ1pdJrkyVQbBqV_\" rel=\"nofollow\" target=\"_blank\" title=\"‘good’ HDL cholesterol\">‘good’ HDL cholesterol</a> levels along with helping to reduce plaque buildup in the arterial walls. Additionally, the fiber content of the Mediterranean diet is higher than most standard diets and weight loss protocols combined, resulting in a positive impact on blood sugar and colon health.<br> <br> Secondly, the Mediterranean diet has undergone some of the most extensive research of any diet or lifestyle plans, consistently revealing many <a href=\"https://www.globenewswire.com/Tracker?data=4CL4b05Q24dbIUl8eqBE3Plw49aT8LFU8qs840JSP-oEQR4YKQSknsK_oK79_ufl0xbfX45ahzFV-2B0PsYNemBLBFJR7vWjljrPpIj10QIsUU2nrPASdMbiJrPIH28A\" rel=\"nofollow\" target=\"_blank\" title=\"health benefits\">health benefits</a> such as:<br> <br> ⁃ Reducing cardiac risk factors<br> ⁃ Reducing the risk of cancer<br> ⁃ Protecting against type 2 diabetes<br> ⁃ Reduces risk of Alzheimer’s disease<br> ⁃ Reduces risk of Parkinson’s disease<br> ⁃ Encourages weight loss<br> ⁃ Reduces inflammation<br> ⁃ May improve pain<br> ⁃ May improve fertility<br> ⁃ Increases lifespan</p>\n",
      "<p align=\"justify\">NEW ORLEANS, April  24, 2020  (GLOBE NEWSWIRE) -- ClaimsFiler, a FREE shareholder information service, reminds investors of pending deadlines in the following securities class action lawsuits:<br></p>\n"
     ]
    }
   ],
   "source": [
    "# Iterate over the summaries list and print each summary\n",
    "# TODO: see if HTML chars can be removed\n",
    "for s in summaries:\n",
    "    print(s)"
   ]
  },
  {
   "cell_type": "markdown",
   "metadata": {
    "colab_type": "text",
    "id": "8bNJz6tuXcv5"
   },
   "source": [
    "**2. Named Entity Extraction (NER) - make an API calls to Thomson Reutersr Intelligent Tagging (TRIT) with news headline content**\n",
    "\n",
    "\n",
    "* https://developers.refinitiv.com/open-permid/intelligent-tagging-restful-apiquick-start\n",
    "* https://developers.refinitiv.com/article/intelligent-tagging-extract-information-api-response\n",
    "* https://permid.org/faq"
   ]
  },
  {
   "cell_type": "code",
   "execution_count": 0,
   "metadata": {
    "colab": {
     "base_uri": "https://localhost:8080/",
     "height": 34
    },
    "colab_type": "code",
    "id": "GDFsk2C2QU1v",
    "outputId": "55f7d89a-8731-4908-fe9e-a0f5b80f0ad1"
   },
   "outputs": [
    {
     "name": "stdout",
     "output_type": "stream",
     "text": [
      "Velocity (VEL) Alert: Johnson Fistel Investigates Velocity Financial, Inc.; Investors Suffering Losses Encouraged to Contact Firm\n"
     ]
    }
   ],
   "source": [
    "# Define sample content to be queried\n",
    "contentText = allheadlines[1]\n",
    "print(contentText)"
   ]
  },
  {
   "cell_type": "markdown",
   "metadata": {
    "colab_type": "text",
    "id": "9CsJn6LuXzln"
   },
   "source": [
    "**2.1 Query TRIT / OpenCalais JSON API**"
   ]
  },
  {
   "cell_type": "code",
   "execution_count": 0,
   "metadata": {
    "colab": {},
    "colab_type": "code",
    "id": "hsV7cfPv3MIn"
   },
   "outputs": [],
   "source": [
    "\n",
    "headType = \"text/raw\"\n",
    "token = 'oSyQfYcRShExGJmJPXRgr4kOFAsIHqoJ'\n",
    "url = \"https://api-eit.refinitiv.com/permid/calais\"\n",
    "payload = contentText.encode('utf8')\n",
    "headers = {\n",
    "    'Content-Type': headType,\n",
    "    'X-AG-Access-Token': token,\n",
    "    'outputformat': \"application/json\"\n",
    "    }\n",
    "\n",
    "#  The daily limit is 5,000 requests, and the concurrent limit varies by API from 1-4 calls per second. \n",
    "TRITResponse = requests.request(\"POST\", url, data=payload, headers=headers)\n",
    "# Load content into JSON object\n",
    "JSONResponse = json.loads(TRITResponse.text)\n",
    "# print(json.dumps(JSONResponse, indent=4, sort_keys=True))"
   ]
  },
  {
   "cell_type": "markdown",
   "metadata": {
    "colab_type": "text",
    "id": "0jeEgr3jVpcq"
   },
   "source": [
    "**2.2 Get entities in news**"
   ]
  },
  {
   "cell_type": "code",
   "execution_count": 0,
   "metadata": {
    "colab": {
     "base_uri": "https://localhost:8080/",
     "height": 85
    },
    "colab_type": "code",
    "id": "V6hlzkMrRBQm",
    "outputId": "f6db0f8e-5eed-4545-b5e3-ac64af7772a3"
   },
   "outputs": [
    {
     "name": "stdout",
     "output_type": "stream",
     "text": [
      "====Entities====\n",
      "Type, Name\n",
      "Company, JOHNSON FISTEL\n",
      "Company, velocity financial, inc.\n"
     ]
    }
   ],
   "source": [
    "#Get Entities\n",
    "print('====Entities====')\n",
    "print('Type, Name')\n",
    "\n",
    "for key in JSONResponse:\n",
    "    if ('_typeGroup' in JSONResponse[key]):\n",
    "        if JSONResponse[key]['_typeGroup'] == 'entities':\n",
    "            print(JSONResponse[key]['_type'] + \", \" + JSONResponse[key]['name'])"
   ]
  },
  {
   "cell_type": "markdown",
   "metadata": {
    "colab_type": "text",
    "id": "Xg4sJ-I5V1Uf"
   },
   "source": [
    "**2.3 Get RIC code for entity**"
   ]
  },
  {
   "cell_type": "code",
   "execution_count": 0,
   "metadata": {
    "colab": {
     "base_uri": "https://localhost:8080/",
     "height": 68
    },
    "colab_type": "code",
    "id": "8_AWYjwDRxgp",
    "outputId": "5264a469-8347-4ee9-daa2-58c4bccc2a0c"
   },
   "outputs": [
    {
     "name": "stdout",
     "output_type": "stream",
     "text": [
      "====RIC====\n",
      "RIC\n",
      "VEL.N\n"
     ]
    }
   ],
   "source": [
    "#Get RIC code\n",
    "\n",
    "print('====RIC====')\n",
    "print('RIC')\n",
    "\n",
    "for entity in JSONResponse:\n",
    "    for info in JSONResponse[entity]:\n",
    "        if (info =='resolutions'):\n",
    "            for companyinfo in (JSONResponse[entity][info]):\n",
    "                if 'primaryric' in companyinfo:\n",
    "                    symbol = companyinfo['primaryric']\n",
    "                    print(symbol)"
   ]
  },
  {
   "cell_type": "markdown",
   "metadata": {
    "colab_type": "text",
    "id": "EVsAt1HeWALK"
   },
   "source": [
    "**2.4 Get topics for the news item**"
   ]
  },
  {
   "cell_type": "code",
   "execution_count": 0,
   "metadata": {
    "colab": {
     "base_uri": "https://localhost:8080/",
     "height": 119
    },
    "colab_type": "code",
    "id": "jj4knjVNagMI",
    "outputId": "d1d5ed9e-3f76-46a9-ce93-57b7c0a4e437"
   },
   "outputs": [
    {
     "name": "stdout",
     "output_type": "stream",
     "text": [
      "VEL.N\n",
      "====Topics====\n",
      "Topics, Score\n",
      "Business_Finance, 1\n",
      "Health_Medical_Pharma, 0.935\n",
      "Disaster_Accident, 0.817\n"
     ]
    }
   ],
   "source": [
    "#Print Header\n",
    "print(symbol)\n",
    "print('====Topics====')\n",
    "print('Topics, Score')\n",
    "\n",
    "for key in JSONResponse:\n",
    "    if ('_typeGroup' in JSONResponse[key]):\n",
    "        if JSONResponse[key]['_typeGroup'] == 'topics':\n",
    "            print(JSONResponse[key]['name'] + \", \" + str(JSONResponse[key]['score']))"
   ]
  },
  {
   "cell_type": "markdown",
   "metadata": {
    "colab_type": "text",
    "id": "SUfjk4NAYNPw"
   },
   "source": [
    "**4. Sentiment Analysis**"
   ]
  },
  {
   "cell_type": "code",
   "execution_count": 0,
   "metadata": {
    "colab": {},
    "colab_type": "code",
    "id": "-1KUfYDi3MIq"
   },
   "outputs": [],
   "source": [
    "# Define function to be used for text senitments analysis \n",
    "def get_sentiment(txt): \n",
    "        ''' \n",
    "        Utility function to clean text by removing links, special characters \n",
    "        using simple regex statements and to classify sentiment of passed tweet \n",
    "        using textblob's sentiment method \n",
    "        '''\n",
    "        #clean text\n",
    "        clean_txt = ' '.join(re.sub(\"(@[A-Za-z0-9]+)|([^0-9A-Za-z \\t])|(\\w+:\\/\\/\\S+)\", \" \", txt).split())\n",
    "        # create TextBlob object of passed tweet text \n",
    "        analysis = TextBlob(clean_txt) \n",
    "        # set sentiment \n",
    "        if analysis.sentiment.polarity > 0: \n",
    "            return 'positive'\n",
    "        elif analysis.sentiment.polarity == 0: \n",
    "            return 'neutral'\n",
    "        else: \n",
    "            return 'negative'"
   ]
  },
  {
   "cell_type": "code",
   "execution_count": 0,
   "metadata": {
    "colab": {
     "base_uri": "https://localhost:8080/",
     "height": 105
    },
    "colab_type": "code",
    "id": "whiyVb30R4Ys",
    "outputId": "eb14ac4b-4b0a-44d5-bbe7-a33691f04c59"
   },
   "outputs": [
    {
     "name": "stdout",
     "output_type": "stream",
     "text": [
      "headline:  Velocity (VEL) Alert: Johnson Fistel Investigates Velocity Financial, Inc.; Investors Suffering Losses Encouraged to Contact Firm\n",
      "headline sentiment:  negative\n",
      "summary:  <p>SAN DIEGO, April  26, 2020  (GLOBE NEWSWIRE) -- Shareholder rights law firm Johnson Fistel, LLP is investigating potential violations of the federal securities laws by Velocity Financial, Inc. (\"Velocity\" or \"the Company\") (NYSE: VEL).<br></p>\n",
      "summary sentiment:  negative\n"
     ]
    }
   ],
   "source": [
    "print('headline: ', allheadlines[1])\n",
    "print('headline sentiment: ', get_sentiment(allheadlines[1]))\n",
    "print('summary: ', summaries[1])\n",
    "print('summary sentiment: ', get_sentiment(summaries[1]))"
   ]
  },
  {
   "cell_type": "markdown",
   "metadata": {
    "colab_type": "text",
    "id": "_JzOdMSyev-g"
   },
   "source": [
    "**5. Get historical EOD price data**"
   ]
  },
  {
   "cell_type": "code",
   "execution_count": 0,
   "metadata": {
    "colab": {
     "base_uri": "https://localhost:8080/",
     "height": 204
    },
    "colab_type": "code",
    "id": "ygRBdEJwe0Sc",
    "outputId": "c9658660-daf9-4561-a6ce-ab07f0398e71"
   },
   "outputs": [
    {
     "data": {
      "text/html": [
       "<div>\n",
       "<style scoped>\n",
       "    .dataframe tbody tr th:only-of-type {\n",
       "        vertical-align: middle;\n",
       "    }\n",
       "\n",
       "    .dataframe tbody tr th {\n",
       "        vertical-align: top;\n",
       "    }\n",
       "\n",
       "    .dataframe thead th {\n",
       "        text-align: right;\n",
       "    }\n",
       "</style>\n",
       "<table border=\"1\" class=\"dataframe\">\n",
       "  <thead>\n",
       "    <tr style=\"text-align: right;\">\n",
       "      <th></th>\n",
       "      <th>Date</th>\n",
       "      <th>Open</th>\n",
       "      <th>High</th>\n",
       "      <th>Low</th>\n",
       "      <th>Close</th>\n",
       "      <th>Adjusted_close</th>\n",
       "      <th>Volume</th>\n",
       "    </tr>\n",
       "  </thead>\n",
       "  <tbody>\n",
       "    <tr>\n",
       "      <th>68</th>\n",
       "      <td>3081</td>\n",
       "      <td>NaN</td>\n",
       "      <td>NaN</td>\n",
       "      <td>NaN</td>\n",
       "      <td>NaN</td>\n",
       "      <td>NaN</td>\n",
       "      <td>NaN</td>\n",
       "    </tr>\n",
       "    <tr>\n",
       "      <th>67</th>\n",
       "      <td>2020-04-24</td>\n",
       "      <td>3.22</td>\n",
       "      <td>3.220</td>\n",
       "      <td>3.03</td>\n",
       "      <td>3.09</td>\n",
       "      <td>3.09</td>\n",
       "      <td>31200.0</td>\n",
       "    </tr>\n",
       "    <tr>\n",
       "      <th>66</th>\n",
       "      <td>2020-04-23</td>\n",
       "      <td>3.13</td>\n",
       "      <td>3.320</td>\n",
       "      <td>3.06</td>\n",
       "      <td>3.14</td>\n",
       "      <td>3.14</td>\n",
       "      <td>68200.0</td>\n",
       "    </tr>\n",
       "    <tr>\n",
       "      <th>65</th>\n",
       "      <td>2020-04-22</td>\n",
       "      <td>3.29</td>\n",
       "      <td>3.361</td>\n",
       "      <td>3.10</td>\n",
       "      <td>3.16</td>\n",
       "      <td>3.16</td>\n",
       "      <td>89500.0</td>\n",
       "    </tr>\n",
       "    <tr>\n",
       "      <th>64</th>\n",
       "      <td>2020-04-21</td>\n",
       "      <td>3.42</td>\n",
       "      <td>3.420</td>\n",
       "      <td>3.05</td>\n",
       "      <td>3.15</td>\n",
       "      <td>3.15</td>\n",
       "      <td>112400.0</td>\n",
       "    </tr>\n",
       "  </tbody>\n",
       "</table>\n",
       "</div>"
      ],
      "text/plain": [
       "          Date  Open   High   Low  Close  Adjusted_close    Volume\n",
       "68        3081   NaN    NaN   NaN    NaN             NaN       NaN\n",
       "67  2020-04-24  3.22  3.220  3.03   3.09            3.09   31200.0\n",
       "66  2020-04-23  3.13  3.320  3.06   3.14            3.14   68200.0\n",
       "65  2020-04-22  3.29  3.361  3.10   3.16            3.16   89500.0\n",
       "64  2020-04-21  3.42  3.420  3.05   3.15            3.15  112400.0"
      ]
     },
     "execution_count": 96,
     "metadata": {
      "tags": []
     },
     "output_type": "execute_result"
    }
   ],
   "source": [
    "eod_api_token = '5cc0ea63d1cda3.37070012'\n",
    "eod_symbol = symbol.replace('N', 'US')\n",
    "eod_price_url = 'https://eodhistoricaldata.com/api/eod/' + eod_symbol + '?api_token=' + eod_api_token\n",
    "price_df = pd.read_csv(eod_price_url)\n",
    "price_df.sort_values(by=['Date'], inplace=True, ascending=False)\n",
    "price_df.head()\n"
   ]
  },
  {
   "cell_type": "code",
   "execution_count": 0,
   "metadata": {
    "colab": {},
    "colab_type": "code",
    "id": "HUKKSaMgmvyK"
   },
   "outputs": [],
   "source": []
  },
  {
   "cell_type": "code",
   "execution_count": 0,
   "metadata": {
    "colab": {},
    "colab_type": "code",
    "id": "fNIpTEpb3MLJ"
   },
   "outputs": [],
   "source": []
  }
 ],
 "metadata": {
  "colab": {
   "collapsed_sections": [],
   "name": "news_sentiment.ipynb",
   "provenance": []
  },
  "kernelspec": {
   "display_name": "Python 3",
   "language": "python",
   "name": "python3"
  },
  "language_info": {
   "codemirror_mode": {
    "name": "ipython",
    "version": 3
   },
   "file_extension": ".py",
   "mimetype": "text/x-python",
   "name": "python",
   "nbconvert_exporter": "python",
   "pygments_lexer": "ipython3",
   "version": "3.7.4"
  }
 },
 "nbformat": 4,
 "nbformat_minor": 1
}
