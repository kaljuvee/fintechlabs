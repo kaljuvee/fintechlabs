{
  "nbformat": 4,
  "nbformat_minor": 0,
  "metadata": {
    "colab": {
      "name": "regression_feature_selection.ipynb",
      "provenance": [],
      "collapsed_sections": [],
      "authorship_tag": "ABX9TyN8QMmvX+O/LpoCedoNXngQ",
      "include_colab_link": true
    },
    "kernelspec": {
      "name": "python3",
      "display_name": "Python 3"
    }
  },
  "cells": [
    {
      "cell_type": "markdown",
      "metadata": {
        "id": "view-in-github",
        "colab_type": "text"
      },
      "source": [
        "<a href=\"https://colab.research.google.com/github/kaljuvee/datascience/blob/master/notebooks/stats/regression_feature_selection.ipynb\" target=\"_parent\"><img src=\"https://colab.research.google.com/assets/colab-badge.svg\" alt=\"Open In Colab\"/></a>"
      ]
    },
    {
      "cell_type": "code",
      "metadata": {
        "id": "6NSRSE_SLz9m",
        "colab_type": "code",
        "colab": {}
      },
      "source": [
        "! pip install sklearn\n",
        "import statsmodels.api as sm\n",
        "from sklearn.linear_model import LinearRegression\n",
        "from sklearn.metrics import r2_score"
      ],
      "execution_count": 0,
      "outputs": []
    },
    {
      "cell_type": "markdown",
      "metadata": {
        "id": "NEykllYZMT9Y",
        "colab_type": "text"
      },
      "source": [
        "**Background**\n",
        "\n",
        "The simplest case of feature selection is the case where there are numerical input variables and a numerical target for regression predictive modeling, and this can often be done with correlation.\n",
        "\n",
        "\n",
        "**Overview**\n",
        "\n",
        "Using [scikit-learn](https://scikit-learn.org/) libarary we demonstrate:\n",
        "\n",
        "* **Correlation and mutual statistics** - evaluate the importance of numerical input data using the correlation \n",
        "and mutual information statistics.\n",
        "* **Numerical feature selection** - perform feature selection for numerical input data when fitting and evaluating a regression model.\n",
        "* **Tuning with grid search** -  tune the number of features selected in a modeling pipeline using a grid search\n",
        "\n",
        "**Steps**\n",
        "\n",
        "1. Generate Regression Dataset\n",
        "2. Numerical Feature Selection\n",
        "  1. Correlation Feature Selection\n",
        "  2. Mutual Information Feature Selection\n",
        "3. Modeling With Selected Features\n",
        "  1. Model Built Using All Features\n",
        "  2. Model Built Using Correlation Features\n",
        "  3. Model Built Using Mutual Information Features\n",
        "4. Tune the Number of Selected Features"
      ]
    },
    {
      "cell_type": "markdown",
      "metadata": {
        "id": "0o24pYMjPlQZ",
        "colab_type": "text"
      },
      "source": [
        "**1. Generate Regression Dataset**"
      ]
    },
    {
      "cell_type": "code",
      "metadata": {
        "id": "g8kJcGsONjCp",
        "colab_type": "code",
        "colab": {}
      },
      "source": [
        "from sklearn.datasets import make_regression\n",
        "# generate regression dataset with 1,000 samples, each with 100 input features where 10 are informative and the remaining 90 are redundant.\n",
        "X, y = make_regression(n_samples=1000, n_features=100, n_informative=10, noise=0.1, random_state=1)"
      ],
      "execution_count": 0,
      "outputs": []
    },
    {
      "cell_type": "code",
      "metadata": {
        "id": "jQP_4-QHPBBp",
        "colab_type": "code",
        "colab": {
          "base_uri": "https://localhost:8080/",
          "height": 51
        },
        "outputId": "a43953b4-95f0-441c-c389-ff860e3bf522"
      },
      "source": [
        "from sklearn.model_selection import train_test_split\n",
        "# split into train and test sets with 67 percent of the data for training and 33 percent for testing.\n",
        "X_train, X_test, y_train, y_test = train_test_split(X, y, test_size=0.33, random_state=1)\n",
        "# summarize\n",
        "print('Train', X_train.shape, y_train.shape)\n",
        "print('Test', X_test.shape, y_test.shape)"
      ],
      "execution_count": 3,
      "outputs": [
        {
          "output_type": "stream",
          "text": [
            "Train (670, 100) (670,)\n",
            "Test (330, 100) (330,)\n"
          ],
          "name": "stdout"
        }
      ]
    },
    {
      "cell_type": "markdown",
      "metadata": {
        "id": "L3ZMox5kPslv",
        "colab_type": "text"
      },
      "source": [
        "**2. Numerical Feature Selection**\n",
        "\n",
        "**2.1 Numerical Feature Selection - Correlation**"
      ]
    },
    {
      "cell_type": "code",
      "metadata": {
        "id": "eF8J5F8iPqtA",
        "colab_type": "code",
        "colab": {
          "base_uri": "https://localhost:8080/",
          "height": 1000
        },
        "outputId": "d63e2a20-d93c-4da0-c075-7301c0df9a95"
      },
      "source": [
        "from sklearn.feature_selection import SelectKBest\n",
        "from sklearn.feature_selection import f_regression\n",
        "from matplotlib import pyplot\n",
        "\n",
        "# wrap feature selection logic in a function\n",
        "def select_features_corr(X_train, y_train, X_test):\n",
        "\t# configure to select all features\n",
        "\tfs = SelectKBest(score_func=f_regression, k='all')\n",
        "\t# learn relationship from training data\n",
        "\tfs.fit(X_train, y_train)\n",
        "\t# transform train input data\n",
        "\tX_train_fs = fs.transform(X_train)\n",
        "\t# transform test input data\n",
        "\tX_test_fs = fs.transform(X_test)\n",
        "\treturn X_train_fs, X_test_fs, fs\n",
        "\n",
        "# feature selection using correlation, by default\n",
        "X_train_fs, X_test_fs, fs = select_features_corr(X_train, y_train, X_test)\n",
        "\n",
        "# what are scores for the features (ranging from less than 1 to 101)\n",
        "def show_scores():\n",
        "  for i in range(len(fs.scores_)):\n",
        "\t  print('Feature %d: %f' % (i, fs.scores_[i]))\n",
        "  # plot the scores\n",
        "  pyplot.bar([i for i in range(len(fs.scores_))], fs.scores_)\n",
        "  pyplot.show()\n",
        "\n",
        "show_scores()"
      ],
      "execution_count": 6,
      "outputs": [
        {
          "output_type": "stream",
          "text": [
            "Feature 0: 0.009419\n",
            "Feature 1: 1.018881\n",
            "Feature 2: 1.205187\n",
            "Feature 3: 0.000138\n",
            "Feature 4: 0.167511\n",
            "Feature 5: 5.985083\n",
            "Feature 6: 0.062405\n",
            "Feature 7: 1.455257\n",
            "Feature 8: 0.420384\n",
            "Feature 9: 101.392225\n",
            "Feature 10: 0.387091\n",
            "Feature 11: 1.581124\n",
            "Feature 12: 3.014463\n",
            "Feature 13: 0.232705\n",
            "Feature 14: 0.076281\n",
            "Feature 15: 4.299652\n",
            "Feature 16: 1.497530\n",
            "Feature 17: 0.261242\n",
            "Feature 18: 5.960005\n",
            "Feature 19: 0.523219\n",
            "Feature 20: 0.003365\n",
            "Feature 21: 0.024178\n",
            "Feature 22: 0.220958\n",
            "Feature 23: 0.576770\n",
            "Feature 24: 0.627198\n",
            "Feature 25: 0.350687\n",
            "Feature 26: 0.281877\n",
            "Feature 27: 0.584210\n",
            "Feature 28: 52.196337\n",
            "Feature 29: 0.046855\n",
            "Feature 30: 0.147323\n",
            "Feature 31: 0.368485\n",
            "Feature 32: 0.077631\n",
            "Feature 33: 0.698140\n",
            "Feature 34: 45.744046\n",
            "Feature 35: 2.047376\n",
            "Feature 36: 0.786270\n",
            "Feature 37: 0.996190\n",
            "Feature 38: 2.733533\n",
            "Feature 39: 63.957656\n",
            "Feature 40: 231.885540\n",
            "Feature 41: 1.372448\n",
            "Feature 42: 0.581860\n",
            "Feature 43: 1.072930\n",
            "Feature 44: 1.066976\n",
            "Feature 45: 0.344656\n",
            "Feature 46: 13.951551\n",
            "Feature 47: 3.575080\n",
            "Feature 48: 0.007299\n",
            "Feature 49: 0.004651\n",
            "Feature 50: 1.094585\n",
            "Feature 51: 0.241065\n",
            "Feature 52: 0.355137\n",
            "Feature 53: 0.020294\n",
            "Feature 54: 0.154567\n",
            "Feature 55: 2.592512\n",
            "Feature 56: 0.300175\n",
            "Feature 57: 0.357798\n",
            "Feature 58: 3.060090\n",
            "Feature 59: 0.890357\n",
            "Feature 60: 122.132164\n",
            "Feature 61: 2.029982\n",
            "Feature 62: 0.091551\n",
            "Feature 63: 1.081123\n",
            "Feature 64: 0.056041\n",
            "Feature 65: 2.930717\n",
            "Feature 66: 0.054886\n",
            "Feature 67: 1.332787\n",
            "Feature 68: 0.145579\n",
            "Feature 69: 0.986331\n",
            "Feature 70: 0.092661\n",
            "Feature 71: 0.083219\n",
            "Feature 72: 0.198847\n",
            "Feature 73: 2.065792\n",
            "Feature 74: 0.236594\n",
            "Feature 75: 0.512608\n",
            "Feature 76: 1.095650\n",
            "Feature 77: 0.015359\n",
            "Feature 78: 2.193730\n",
            "Feature 79: 1.574530\n",
            "Feature 80: 5.360863\n",
            "Feature 81: 0.041874\n",
            "Feature 82: 5.717705\n",
            "Feature 83: 0.436560\n",
            "Feature 84: 5.594438\n",
            "Feature 85: 0.000065\n",
            "Feature 86: 0.026748\n",
            "Feature 87: 0.408422\n",
            "Feature 88: 2.092557\n",
            "Feature 89: 9.568498\n",
            "Feature 90: 0.642445\n",
            "Feature 91: 0.065794\n",
            "Feature 92: 198.705931\n",
            "Feature 93: 0.073807\n",
            "Feature 94: 1.048605\n",
            "Feature 95: 0.004106\n",
            "Feature 96: 0.042110\n",
            "Feature 97: 0.034228\n",
            "Feature 98: 0.792433\n",
            "Feature 99: 0.015365\n"
          ],
          "name": "stdout"
        },
        {
          "output_type": "display_data",
          "data": {
            "image/png": "[encoded data removed]",
            "text/plain": [
              "<Figure size 432x288 with 1 Axes>"
            ]
          },
          "metadata": {
            "tags": [],
            "needs_background": "light"
          }
        }
      ]
    },
    {
      "cell_type": "markdown",
      "metadata": {
        "id": "CIFZIOrKSXeB",
        "colab_type": "text"
      },
      "source": [
        "The bar chart above clearly shows 8 to 10 features are a lot more important than the other features. We could set k=10 When configuring the SelectKBest to select these top features."
      ]
    },
    {
      "cell_type": "markdown",
      "metadata": {
        "id": "u-PooHLLS0Og",
        "colab_type": "text"
      },
      "source": [
        "**2.2 Numerical Feature Selection - Mutual Information**"
      ]
    },
    {
      "cell_type": "code",
      "metadata": {
        "id": "gvJQQ7uQTMI4",
        "colab_type": "code",
        "colab": {
          "base_uri": "https://localhost:8080/",
          "height": 1000
        },
        "outputId": "d383b305-82c3-48c8-c256-78eac68edb7a"
      },
      "source": [
        "from sklearn.feature_selection import mutual_info_regression\n",
        "# configure to select all features\n",
        "# feature selection\n",
        "def select_features_mutualinfo(X_train, y_train, X_test):\n",
        "\t# configure to select all features\n",
        "\tfs = SelectKBest(score_func=mutual_info_regression, k='all')\n",
        "\t# learn relationship from training data\n",
        "\tfs.fit(X_train, y_train)\n",
        "\t# transform train input data\n",
        "\tX_train_fs = fs.transform(X_train)\n",
        "\t# transform test input data\n",
        "\tX_test_fs = fs.transform(X_test)\n",
        "\treturn X_train_fs, X_test_fs, fs\n",
        "\n",
        "# feature selection using correlation\n",
        "X_train_fs, X_test_fs, fs = select_features_mutualinfo(X_train, y_train, X_test)\n",
        "\n",
        "show_scores()"
      ],
      "execution_count": 7,
      "outputs": [
        {
          "output_type": "stream",
          "text": [
            "Feature 0: 0.045484\n",
            "Feature 1: 0.000000\n",
            "Feature 2: 0.000000\n",
            "Feature 3: 0.000000\n",
            "Feature 4: 0.024816\n",
            "Feature 5: 0.000000\n",
            "Feature 6: 0.022659\n",
            "Feature 7: 0.000000\n",
            "Feature 8: 0.000000\n",
            "Feature 9: 0.074320\n",
            "Feature 10: 0.000000\n",
            "Feature 11: 0.000000\n",
            "Feature 12: 0.000000\n",
            "Feature 13: 0.000000\n",
            "Feature 14: 0.020390\n",
            "Feature 15: 0.004307\n",
            "Feature 16: 0.000000\n",
            "Feature 17: 0.000000\n",
            "Feature 18: 0.016566\n",
            "Feature 19: 0.003688\n",
            "Feature 20: 0.007579\n",
            "Feature 21: 0.018640\n",
            "Feature 22: 0.025206\n",
            "Feature 23: 0.017967\n",
            "Feature 24: 0.069173\n",
            "Feature 25: 0.000000\n",
            "Feature 26: 0.022232\n",
            "Feature 27: 0.000000\n",
            "Feature 28: 0.007849\n",
            "Feature 29: 0.012849\n",
            "Feature 30: 0.017402\n",
            "Feature 31: 0.008083\n",
            "Feature 32: 0.047321\n",
            "Feature 33: 0.002829\n",
            "Feature 34: 0.028968\n",
            "Feature 35: 0.000000\n",
            "Feature 36: 0.071652\n",
            "Feature 37: 0.027969\n",
            "Feature 38: 0.000000\n",
            "Feature 39: 0.064796\n",
            "Feature 40: 0.137695\n",
            "Feature 41: 0.008732\n",
            "Feature 42: 0.003983\n",
            "Feature 43: 0.000000\n",
            "Feature 44: 0.009387\n",
            "Feature 45: 0.000000\n",
            "Feature 46: 0.038385\n",
            "Feature 47: 0.000000\n",
            "Feature 48: 0.000000\n",
            "Feature 49: 0.000000\n",
            "Feature 50: 0.000000\n",
            "Feature 51: 0.000000\n",
            "Feature 52: 0.000000\n",
            "Feature 53: 0.008130\n",
            "Feature 54: 0.041779\n",
            "Feature 55: 0.000000\n",
            "Feature 56: 0.000000\n",
            "Feature 57: 0.000000\n",
            "Feature 58: 0.031228\n",
            "Feature 59: 0.002689\n",
            "Feature 60: 0.146192\n",
            "Feature 61: 0.000000\n",
            "Feature 62: 0.000000\n",
            "Feature 63: 0.000000\n",
            "Feature 64: 0.018194\n",
            "Feature 65: 0.021368\n",
            "Feature 66: 0.046071\n",
            "Feature 67: 0.034707\n",
            "Feature 68: 0.033530\n",
            "Feature 69: 0.002262\n",
            "Feature 70: 0.018332\n",
            "Feature 71: 0.000000\n",
            "Feature 72: 0.000000\n",
            "Feature 73: 0.074876\n",
            "Feature 74: 0.000000\n",
            "Feature 75: 0.004429\n",
            "Feature 76: 0.002617\n",
            "Feature 77: 0.031354\n",
            "Feature 78: 0.000000\n",
            "Feature 79: 0.000000\n",
            "Feature 80: 0.000000\n",
            "Feature 81: 0.033931\n",
            "Feature 82: 0.010400\n",
            "Feature 83: 0.019373\n",
            "Feature 84: 0.000000\n",
            "Feature 85: 0.033191\n",
            "Feature 86: 0.000000\n",
            "Feature 87: 0.028745\n",
            "Feature 88: 0.000000\n",
            "Feature 89: 0.000000\n",
            "Feature 90: 0.000000\n",
            "Feature 91: 0.017698\n",
            "Feature 92: 0.129797\n",
            "Feature 93: 0.000000\n",
            "Feature 94: 0.002171\n",
            "Feature 95: 0.029995\n",
            "Feature 96: 0.000000\n",
            "Feature 97: 0.014428\n",
            "Feature 98: 0.000000\n",
            "Feature 99: 0.000000\n"
          ],
          "name": "stdout"
        },
        {
          "output_type": "display_data",
          "data": {
            "image/png": "[encoded data removed]",
            "text/plain": [
              "<Figure size 432x288 with 1 Axes>"
            ]
          },
          "metadata": {
            "tags": [],
            "needs_background": "light"
          }
        }
      ]
    },
    {
      "cell_type": "code",
      "metadata": {
        "id": "TNjVDqn8h47S",
        "colab_type": "code",
        "colab": {}
      },
      "source": [
        ""
      ],
      "execution_count": 0,
      "outputs": []
    },
    {
      "cell_type": "markdown",
      "metadata": {
        "id": "PLCeqErFmdFg",
        "colab_type": "text"
      },
      "source": [
        "**3. Modeling with Features**\n",
        "\n",
        "**3.1 Using All Features**"
      ]
    },
    {
      "cell_type": "code",
      "metadata": {
        "id": "igYnmN7smlKt",
        "colab_type": "code",
        "colab": {
          "base_uri": "https://localhost:8080/",
          "height": 34
        },
        "outputId": "dc87a56d-3d0a-4dba-c87e-1111633b6c57"
      },
      "source": [
        "from sklearn.linear_model import LinearRegression\n",
        "from sklearn.metrics import mean_absolute_error\n",
        "\n",
        "# fit the model\n",
        "model = LinearRegression()\n",
        "model.fit(X_train, y_train)\n",
        "# evaluate the model\n",
        "yhat = model.predict(X_test)\n",
        "# evaluate predictions\n",
        "mae = mean_absolute_error(y_test, yhat)\n",
        "print('MAE: %.3f' % mae)"
      ],
      "execution_count": 8,
      "outputs": [
        {
          "output_type": "stream",
          "text": [
            "MAE: 0.086\n"
          ],
          "name": "stdout"
        }
      ]
    },
    {
      "cell_type": "markdown",
      "metadata": {
        "id": "hLKJbPkQqTX8",
        "colab_type": "text"
      },
      "source": [
        "**3.2. Model with Correlation Features**"
      ]
    },
    {
      "cell_type": "markdown",
      "metadata": {
        "id": "6qkMeSd4m3K1",
        "colab_type": "text"
      },
      "source": [
        "Objective - use a subset or combination of features that achieves MAE < 0.086"
      ]
    },
    {
      "cell_type": "code",
      "metadata": {
        "id": "PDoU-_-GnAXm",
        "colab_type": "code",
        "colab": {
          "base_uri": "https://localhost:8080/",
          "height": 34
        },
        "outputId": "639bfc39-1d59-409f-ee9d-b09bbcff8b05"
      },
      "source": [
        "\n",
        "# feature selection\n",
        "def select_features_10_corr(X_train, y_train, X_test):\n",
        "\t# configure to select a subset of features\n",
        "\tfs = SelectKBest(score_func=f_regression, k=10)\n",
        "\t# learn relationship from training data\n",
        "\tfs.fit(X_train, y_train)\n",
        "\t# transform train input data\n",
        "\tX_train_fs = fs.transform(X_train)\n",
        "\t# transform test input data\n",
        "\tX_test_fs = fs.transform(X_test)\n",
        "\treturn X_train_fs, X_test_fs, fs\n",
        "\n",
        "# feature selection by correlation\n",
        "X_train_fs, X_test_fs, fs = select_features_10_corr(X_train, y_train, X_test)\n",
        "# fit the model\n",
        "model = LinearRegression()\n",
        "model.fit(X_train_fs, y_train)\n",
        "# evaluate the model\n",
        "yhat = model.predict(X_test_fs)\n",
        "# evaluate predictions\n",
        "mae = mean_absolute_error(y_test, yhat)\n",
        "print('MAE: %.3f' % mae)"
      ],
      "execution_count": 10,
      "outputs": [
        {
          "output_type": "stream",
          "text": [
            "MAE: 2.740\n"
          ],
          "name": "stdout"
        }
      ]
    },
    {
      "cell_type": "code",
      "metadata": {
        "id": "Cwq32CAKoLZH",
        "colab_type": "code",
        "colab": {
          "base_uri": "https://localhost:8080/",
          "height": 34
        },
        "outputId": "321edc61-7b62-4cf7-9fc1-e9dfe591445d"
      },
      "source": [
        "# feature selection\n",
        "def select_features_88_corr(X_train, y_train, X_test):\n",
        "\t# configure to select a subset of features\n",
        "\tfs = SelectKBest(score_func=f_regression, k=88)\n",
        "\t# learn relationship from training data\n",
        "\tfs.fit(X_train, y_train)\n",
        "\t# transform train input data\n",
        "\tX_train_fs = fs.transform(X_train)\n",
        "\t# transform test input data\n",
        "\tX_test_fs = fs.transform(X_test)\n",
        "\treturn X_train_fs, X_test_fs, fs\n",
        "\n",
        "  # feature selection\n",
        "X_train_fs, X_test_fs, fs = select_features_88_corr(X_train, y_train, X_test)\n",
        "# fit the model\n",
        "model = LinearRegression()\n",
        "model.fit(X_train_fs, y_train)\n",
        "# evaluate the model\n",
        "yhat = model.predict(X_test_fs)\n",
        "# evaluate predictions\n",
        "mae = mean_absolute_error(y_test, yhat)\n",
        "print('MAE: %.3f' % mae)"
      ],
      "execution_count": 11,
      "outputs": [
        {
          "output_type": "stream",
          "text": [
            "MAE: 0.085\n"
          ],
          "name": "stdout"
        }
      ]
    },
    {
      "cell_type": "markdown",
      "metadata": {
        "id": "HWaHs-Q7pkgt",
        "colab_type": "text"
      },
      "source": [
        "**Conclusion** - running the example reports the performance of the model on 88 of the 100 input features selected using the **correlation statistic** reduces MAE to 0.085"
      ]
    },
    {
      "cell_type": "markdown",
      "metadata": {
        "id": "Iwxq6r5pqeF9",
        "colab_type": "text"
      },
      "source": [
        "**3.3 Model with Mutual Information Features Subset**"
      ]
    },
    {
      "cell_type": "code",
      "metadata": {
        "id": "F18GjwdxpoId",
        "colab_type": "code",
        "colab": {
          "base_uri": "https://localhost:8080/",
          "height": 34
        },
        "outputId": "84b07bde-9fd1-4861-cfcb-03882e7721e7"
      },
      "source": [
        "# feature selection\n",
        "def select_features_88_mutualinfo(X_train, y_train, X_test):\n",
        "\t# configure to select a subset of features\n",
        "\tfs = SelectKBest(score_func=mutual_info_regression, k=88)\n",
        "\t# learn relationship from training data\n",
        "\tfs.fit(X_train, y_train)\n",
        "\t# transform train input data\n",
        "\tX_train_fs = fs.transform(X_train)\n",
        "\t# transform test input data\n",
        "\tX_test_fs = fs.transform(X_test)\n",
        "\treturn X_train_fs, X_test_fs, fs\n",
        "\n",
        "# feature selection\n",
        "X_train_fs, X_test_fs, fs = select_features_88_mutualinfo(X_train, y_train, X_test)\n",
        "# fit the model\n",
        "model = LinearRegression()\n",
        "model.fit(X_train_fs, y_train)\n",
        "# evaluate the model\n",
        "yhat = model.predict(X_test_fs)\n",
        "# evaluate predictions\n",
        "mae = mean_absolute_error(y_test, yhat)\n",
        "print('MAE: %.3f' % mae)"
      ],
      "execution_count": 12,
      "outputs": [
        {
          "output_type": "stream",
          "text": [
            "MAE: 0.084\n"
          ],
          "name": "stdout"
        }
      ]
    },
    {
      "cell_type": "markdown",
      "metadata": {
        "id": "j6oMs68IqB3P",
        "colab_type": "text"
      },
      "source": [
        "**Conclusion** - running the example reports the performance of the model on 88 of the 100 input features selected using the **mutuual information statistic** reduces MAE to 0.085"
      ]
    },
    {
      "cell_type": "markdown",
      "metadata": {
        "id": "o_6x4AA0q9-W",
        "colab_type": "text"
      },
      "source": [
        "**4. Tune the Number of Selected Features**"
      ]
    },
    {
      "cell_type": "code",
      "metadata": {
        "id": "EzRp14IlqJ_O",
        "colab_type": "code",
        "colab": {
          "base_uri": "https://localhost:8080/",
          "height": 232
        },
        "outputId": "e798d200-fee3-4d42-c411-d6c475cc9822"
      },
      "source": [
        "from sklearn.pipeline import Pipeline\n",
        "from sklearn.model_selection import GridSearchCV\n",
        "from sklearn.model_selection import RepeatedKFold\n",
        "\n",
        "num_features = [i for i in range(X.shape[1]-19, X.shape[1]+1)]\n",
        "# enumerate each number of features\n",
        "results = list()\n",
        "for k in num_features:\n",
        "\t# create pipeline\n",
        "\tmodel = LinearRegression()\n",
        "\tfs = SelectKBest(score_func=mutual_info_regression, k=k)\n",
        "\tpipeline = Pipeline(steps=[('sel',fs), ('lr', model)])\n",
        "\t# evaluate the model\n",
        "\tcv = RepeatedKFold(n_splits=10, n_repeats=3, random_state=1)\n",
        "\tscores = cross_val_score(pipeline, X, y, scoring='neg_mean_absolute_error', cv=cv, n_jobs=-1)\n",
        "\tresults.append(scores)\n",
        "\t# summarize the results\n",
        "\tprint('>%d %.3f (%.3f)' % (k, mean(scores), std(scores)))\n",
        "# plot model performance for comparison\n",
        "pyplot.boxplot(results, labels=num_features, showmeans=True)\n",
        "pyplot.show()"
      ],
      "execution_count": 16,
      "outputs": [
        {
          "output_type": "error",
          "ename": "NameError",
          "evalue": "ignored",
          "traceback": [
            "\u001b[0;31m---------------------------------------------------------------------------\u001b[0m",
            "\u001b[0;31mNameError\u001b[0m                                 Traceback (most recent call last)",
            "\u001b[0;32m<ipython-input-16-26872aa3b9f9>\u001b[0m in \u001b[0;36m<module>\u001b[0;34m()\u001b[0m\n\u001b[1;32m     13\u001b[0m         \u001b[0;31m# evaluate the model\u001b[0m\u001b[0;34m\u001b[0m\u001b[0;34m\u001b[0m\u001b[0;34m\u001b[0m\u001b[0m\n\u001b[1;32m     14\u001b[0m         \u001b[0mcv\u001b[0m \u001b[0;34m=\u001b[0m \u001b[0mRepeatedKFold\u001b[0m\u001b[0;34m(\u001b[0m\u001b[0mn_splits\u001b[0m\u001b[0;34m=\u001b[0m\u001b[0;36m10\u001b[0m\u001b[0;34m,\u001b[0m \u001b[0mn_repeats\u001b[0m\u001b[0;34m=\u001b[0m\u001b[0;36m3\u001b[0m\u001b[0;34m,\u001b[0m \u001b[0mrandom_state\u001b[0m\u001b[0;34m=\u001b[0m\u001b[0;36m1\u001b[0m\u001b[0;34m)\u001b[0m\u001b[0;34m\u001b[0m\u001b[0;34m\u001b[0m\u001b[0m\n\u001b[0;32m---> 15\u001b[0;31m         \u001b[0mscores\u001b[0m \u001b[0;34m=\u001b[0m \u001b[0mcross_val_score\u001b[0m\u001b[0;34m(\u001b[0m\u001b[0mpipeline\u001b[0m\u001b[0;34m,\u001b[0m \u001b[0mX\u001b[0m\u001b[0;34m,\u001b[0m \u001b[0my\u001b[0m\u001b[0;34m,\u001b[0m \u001b[0mscoring\u001b[0m\u001b[0;34m=\u001b[0m\u001b[0;34m'neg_mean_absolute_error'\u001b[0m\u001b[0;34m,\u001b[0m \u001b[0mcv\u001b[0m\u001b[0;34m=\u001b[0m\u001b[0mcv\u001b[0m\u001b[0;34m,\u001b[0m \u001b[0mn_jobs\u001b[0m\u001b[0;34m=\u001b[0m\u001b[0;34m-\u001b[0m\u001b[0;36m1\u001b[0m\u001b[0;34m)\u001b[0m\u001b[0;34m\u001b[0m\u001b[0;34m\u001b[0m\u001b[0m\n\u001b[0m\u001b[1;32m     16\u001b[0m         \u001b[0mresults\u001b[0m\u001b[0;34m.\u001b[0m\u001b[0mappend\u001b[0m\u001b[0;34m(\u001b[0m\u001b[0mscores\u001b[0m\u001b[0;34m)\u001b[0m\u001b[0;34m\u001b[0m\u001b[0;34m\u001b[0m\u001b[0m\n\u001b[1;32m     17\u001b[0m         \u001b[0;31m# summarize the results\u001b[0m\u001b[0;34m\u001b[0m\u001b[0;34m\u001b[0m\u001b[0;34m\u001b[0m\u001b[0m\n",
            "\u001b[0;31mNameError\u001b[0m: name 'cross_val_score' is not defined"
          ]
        }
      ]
    },
    {
      "cell_type": "markdown",
      "metadata": {
        "id": "BOz1u_Vhsw9n",
        "colab_type": "text"
      },
      "source": [
        "**Resources**\n",
        "\n",
        "* [Rergression Features Selection](https://machinelearningmastery.com/feature-selection-for-regression-data/) by Jason Brownlee"
      ]
    }
  ]
}