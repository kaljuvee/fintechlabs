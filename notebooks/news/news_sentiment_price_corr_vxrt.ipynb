{
  "nbformat": 4,
  "nbformat_minor": 0,
  "metadata": {
    "kernelspec": {
      "display_name": "Python 3",
      "language": "python",
      "name": "python3"
    },
    "language_info": {
      "codemirror_mode": {
        "name": "ipython",
        "version": 3
      },
      "file_extension": ".py",
      "mimetype": "text/x-python",
      "name": "python",
      "nbconvert_exporter": "python",
      "pygments_lexer": "ipython3",
      "version": "3.7.1"
    },
    "colab": {
      "name": "news_sentiment_price_corr_vxrt.ipynb",
      "provenance": [],
      "collapsed_sections": [],
      "include_colab_link": true
    }
  },
  "cells": [
    {
      "cell_type": "markdown",
      "metadata": {
        "id": "view-in-github",
        "colab_type": "text"
      },
      "source": [
        "<a href=\"https://colab.research.google.com/github/kaljuvee/datascience/blob/master/notebooks/news/news_sentiment_price_corr_vxrt.ipynb\" target=\"_parent\"><img src=\"https://colab.research.google.com/assets/colab-badge.svg\" alt=\"Open In Colab\"/></a>"
      ]
    },
    {
      "cell_type": "markdown",
      "metadata": {
        "id": "Sm6WDU403MIX",
        "colab_type": "text"
      },
      "source": [
        "## News Sentiment Based vs Price Sensi Correlation - Vaxart Inc (NASDAQ:VXRT)"
      ]
    },
    {
      "cell_type": "markdown",
      "metadata": {
        "id": "Q7JrDKGB3MIY",
        "colab_type": "text"
      },
      "source": [
        "###### Load dependency libraries "
      ]
    },
    {
      "cell_type": "markdown",
      "metadata": {
        "id": "JfEtSjvCZmx9",
        "colab_type": "text"
      },
      "source": [
        ""
      ]
    },
    {
      "cell_type": "code",
      "metadata": {
        "id": "4mbIoRAy3MIZ",
        "colab_type": "code",
        "colab": {
          "base_uri": "https://localhost:8080/",
          "height": 926
        },
        "outputId": "6611c792-ea7e-48f5-edc9-c4e25d3f029b"
      },
      "source": [
        "!pip install feedparser\n",
        "!pip install textblob\n",
        "!pip install arrow\n",
        "!pip3 install yfinance --upgrade --no-cache-dir\n",
        "!pip install vaderSentiment\n",
        "import yfinance as yf\n",
        "import pandas as pd\n",
        "import numpy as np\n",
        "import feedparser\n",
        "from vaderSentiment.vaderSentiment import SentimentIntensityAnalyzer"
      ],
      "execution_count": 2,
      "outputs": [
        {
          "output_type": "stream",
          "text": [
            "Collecting feedparser\n",
            "\u001b[?25l  Downloading https://files.pythonhosted.org/packages/91/d8/7d37fec71ff7c9dbcdd80d2b48bcdd86d6af502156fc93846fb0102cb2c4/feedparser-5.2.1.tar.bz2 (192kB)\n",
            "\r\u001b[K     |█▊                              | 10kB 17.1MB/s eta 0:00:01\r\u001b[K     |███▍                            | 20kB 1.5MB/s eta 0:00:01\r\u001b[K     |█████▏                          | 30kB 1.8MB/s eta 0:00:01\r\u001b[K     |██████▉                         | 40kB 2.1MB/s eta 0:00:01\r\u001b[K     |████████▌                       | 51kB 1.9MB/s eta 0:00:01\r\u001b[K     |██████████▎                     | 61kB 2.2MB/s eta 0:00:01\r\u001b[K     |████████████                    | 71kB 2.3MB/s eta 0:00:01\r\u001b[K     |█████████████▋                  | 81kB 2.5MB/s eta 0:00:01\r\u001b[K     |███████████████▍                | 92kB 2.5MB/s eta 0:00:01\r\u001b[K     |█████████████████               | 102kB 2.6MB/s eta 0:00:01\r\u001b[K     |██████████████████▊             | 112kB 2.6MB/s eta 0:00:01\r\u001b[K     |████████████████████▌           | 122kB 2.6MB/s eta 0:00:01\r\u001b[K     |██████████████████████▏         | 133kB 2.6MB/s eta 0:00:01\r\u001b[K     |███████████████████████▉        | 143kB 2.6MB/s eta 0:00:01\r\u001b[K     |█████████████████████████▋      | 153kB 2.6MB/s eta 0:00:01\r\u001b[K     |███████████████████████████▎    | 163kB 2.6MB/s eta 0:00:01\r\u001b[K     |█████████████████████████████   | 174kB 2.6MB/s eta 0:00:01\r\u001b[K     |██████████████████████████████▊ | 184kB 2.6MB/s eta 0:00:01\r\u001b[K     |████████████████████████████████| 194kB 2.6MB/s \n",
            "\u001b[?25hBuilding wheels for collected packages: feedparser\n",
            "  Building wheel for feedparser (setup.py) ... \u001b[?25l\u001b[?25hdone\n",
            "  Created wheel for feedparser: filename=feedparser-5.2.1-cp36-none-any.whl size=44940 sha256=565293cee96651b26dc676c62c8fe16b503738fc8e97492f2a755a6a082ae741\n",
            "  Stored in directory: /root/.cache/pip/wheels/8c/69/b7/f52763c41c5471df57703a0ef718a32a5e81ee35dcf6d4f97f\n",
            "Successfully built feedparser\n",
            "Installing collected packages: feedparser\n",
            "Successfully installed feedparser-5.2.1\n",
            "Requirement already satisfied: textblob in /usr/local/lib/python3.6/dist-packages (0.15.3)\n",
            "Requirement already satisfied: nltk>=3.1 in /usr/local/lib/python3.6/dist-packages (from textblob) (3.2.5)\n",
            "Requirement already satisfied: six in /usr/local/lib/python3.6/dist-packages (from nltk>=3.1->textblob) (1.12.0)\n",
            "Collecting arrow\n",
            "\u001b[?25l  Downloading https://files.pythonhosted.org/packages/36/cf/9e503ab3007c531a7d773e65261ae2c732f7663185bf7e5091c5ea852846/arrow-0.15.7-py2.py3-none-any.whl (48kB)\n",
            "\u001b[K     |████████████████████████████████| 51kB 1.6MB/s \n",
            "\u001b[?25hRequirement already satisfied: python-dateutil in /usr/local/lib/python3.6/dist-packages (from arrow) (2.8.1)\n",
            "Requirement already satisfied: six>=1.5 in /usr/local/lib/python3.6/dist-packages (from python-dateutil->arrow) (1.12.0)\n",
            "Installing collected packages: arrow\n",
            "Successfully installed arrow-0.15.7\n",
            "Collecting yfinance\n",
            "  Downloading https://files.pythonhosted.org/packages/c2/31/8b374a12b90def92a4e27d0fc595fc43635f395984e36a075244d98bd265/yfinance-0.1.54.tar.gz\n",
            "Requirement already satisfied, skipping upgrade: pandas>=0.24 in /usr/local/lib/python3.6/dist-packages (from yfinance) (1.0.5)\n",
            "Requirement already satisfied, skipping upgrade: numpy>=1.15 in /usr/local/lib/python3.6/dist-packages (from yfinance) (1.18.5)\n",
            "Requirement already satisfied, skipping upgrade: requests>=2.20 in /usr/local/lib/python3.6/dist-packages (from yfinance) (2.23.0)\n",
            "Requirement already satisfied, skipping upgrade: multitasking>=0.0.7 in /usr/local/lib/python3.6/dist-packages (from yfinance) (0.0.9)\n",
            "Requirement already satisfied, skipping upgrade: pytz>=2017.2 in /usr/local/lib/python3.6/dist-packages (from pandas>=0.24->yfinance) (2018.9)\n",
            "Requirement already satisfied, skipping upgrade: python-dateutil>=2.6.1 in /usr/local/lib/python3.6/dist-packages (from pandas>=0.24->yfinance) (2.8.1)\n",
            "Requirement already satisfied, skipping upgrade: idna<3,>=2.5 in /usr/local/lib/python3.6/dist-packages (from requests>=2.20->yfinance) (2.9)\n",
            "Requirement already satisfied, skipping upgrade: urllib3!=1.25.0,!=1.25.1,<1.26,>=1.21.1 in /usr/local/lib/python3.6/dist-packages (from requests>=2.20->yfinance) (1.24.3)\n",
            "Requirement already satisfied, skipping upgrade: chardet<4,>=3.0.2 in /usr/local/lib/python3.6/dist-packages (from requests>=2.20->yfinance) (3.0.4)\n",
            "Requirement already satisfied, skipping upgrade: certifi>=2017.4.17 in /usr/local/lib/python3.6/dist-packages (from requests>=2.20->yfinance) (2020.6.20)\n",
            "Requirement already satisfied, skipping upgrade: six>=1.5 in /usr/local/lib/python3.6/dist-packages (from python-dateutil>=2.6.1->pandas>=0.24->yfinance) (1.12.0)\n",
            "Building wheels for collected packages: yfinance\n",
            "  Building wheel for yfinance (setup.py) ... \u001b[?25l\u001b[?25hdone\n",
            "  Created wheel for yfinance: filename=yfinance-0.1.54-py2.py3-none-any.whl size=22409 sha256=c9e7f10b4bec189cd1c1c2ac5e549ec5533b499ace7eaa7dbb5f2eb142b04072\n",
            "  Stored in directory: /tmp/pip-ephem-wheel-cache-xqo490ek/wheels/f9/e3/5b/ec24dd2984b12d61e0abf26289746c2436a0e7844f26f2515c\n",
            "Successfully built yfinance\n",
            "Installing collected packages: yfinance\n",
            "Successfully installed yfinance-0.1.54\n",
            "Collecting vaderSentiment\n",
            "\u001b[?25l  Downloading https://files.pythonhosted.org/packages/76/fc/310e16254683c1ed35eeb97386986d6c00bc29df17ce280aed64d55537e9/vaderSentiment-3.3.2-py2.py3-none-any.whl (125kB)\n",
            "\u001b[K     |████████████████████████████████| 133kB 2.9MB/s \n",
            "\u001b[?25hRequirement already satisfied: requests in /usr/local/lib/python3.6/dist-packages (from vaderSentiment) (2.23.0)\n",
            "Requirement already satisfied: certifi>=2017.4.17 in /usr/local/lib/python3.6/dist-packages (from requests->vaderSentiment) (2020.6.20)\n",
            "Requirement already satisfied: idna<3,>=2.5 in /usr/local/lib/python3.6/dist-packages (from requests->vaderSentiment) (2.9)\n",
            "Requirement already satisfied: chardet<4,>=3.0.2 in /usr/local/lib/python3.6/dist-packages (from requests->vaderSentiment) (3.0.4)\n",
            "Requirement already satisfied: urllib3!=1.25.0,!=1.25.1,<1.26,>=1.21.1 in /usr/local/lib/python3.6/dist-packages (from requests->vaderSentiment) (1.24.3)\n",
            "Installing collected packages: vaderSentiment\n",
            "Successfully installed vaderSentiment-3.3.2\n"
          ],
          "name": "stdout"
        }
      ]
    },
    {
      "cell_type": "markdown",
      "metadata": {
        "id": "atxlDpT63MIc",
        "colab_type": "text"
      },
      "source": [
        "**News Sentiment vs Price Sensitivity Correlation**\n",
        "\n",
        "**Pipeline:**\n",
        "1. **Fetch news** - read in news source via an RSS feed (Feedparser)\n",
        "2. **Assign sentiment score** - assign sentiment score (Vader and TextBlob)\n",
        "3. **Historical EOD prices** - fetch historical prices (Yfinance)\n",
        "4. **Correlation** - calculate correlation between price sensitivity vs sentiment\n",
        "\n",
        "\n",
        "See more at:\n",
        "*   https://www.altsignals.ai\n",
        "\n",
        "\n",
        "\n",
        "\n",
        "\n"
      ]
    },
    {
      "cell_type": "markdown",
      "metadata": {
        "id": "N6JNw_FGMcdo",
        "colab_type": "text"
      },
      "source": [
        "### **1. Fetch News from RSS Feed**"
      ]
    },
    {
      "cell_type": "code",
      "metadata": {
        "id": "TWsRBj50Dz0T",
        "colab_type": "code",
        "colab": {
          "base_uri": "https://localhost:8080/",
          "height": 198
        },
        "outputId": "0dc3732f-2a9e-4f75-eccb-2178ae792799"
      },
      "source": [
        "from bs4 import BeautifulSoup\n",
        "\n",
        "def clean_text(raw_html):\n",
        "  cleantext = BeautifulSoup(raw_html, \"lxml\").text\n",
        "  return cleantext\n",
        "\n",
        "symbol = 'VXRT'\n",
        "company = 'Vaxart Inc'\n",
        "rss_url = 'https://www.globenewswire.com/RssFeed/Organization/dqKTlO0WKWyA0lN-FU6zhA=='\n",
        "cols = ['title', 'summary', 'published', 'link', 'sentiment', 'price_sensi']\n",
        "\n",
        "news_df = pd.DataFrame(columns = cols)\n",
        "feed = feedparser.parse(rss_url )\n",
        "\n",
        "for newsitem in feed['items']:\n",
        "    news_df = news_df.append({'title': newsitem['title'], \n",
        "                      'summary': clean_text(newsitem['summary']), \n",
        "                      'published': newsitem['published'], \n",
        "                      'link': newsitem['link']}, ignore_index=True)\n",
        "news_df.head()"
      ],
      "execution_count": 13,
      "outputs": [
        {
          "output_type": "execute_result",
          "data": {
            "text/html": [
              "<div>\n",
              "<style scoped>\n",
              "    .dataframe tbody tr th:only-of-type {\n",
              "        vertical-align: middle;\n",
              "    }\n",
              "\n",
              "    .dataframe tbody tr th {\n",
              "        vertical-align: top;\n",
              "    }\n",
              "\n",
              "    .dataframe thead th {\n",
              "        text-align: right;\n",
              "    }\n",
              "</style>\n",
              "<table border=\"1\" class=\"dataframe\">\n",
              "  <thead>\n",
              "    <tr style=\"text-align: right;\">\n",
              "      <th></th>\n",
              "      <th>title</th>\n",
              "      <th>summary</th>\n",
              "      <th>published</th>\n",
              "      <th>link</th>\n",
              "      <th>sentiment</th>\n",
              "      <th>price_sensi</th>\n",
              "    </tr>\n",
              "  </thead>\n",
              "  <tbody>\n",
              "    <tr>\n",
              "      <th>0</th>\n",
              "      <td>Vaxart’s COVID-19 Vaccine Selected for the U.S...</td>\n",
              "      <td>OWS to Test First Oral COVID-19 Vaccine in Non...</td>\n",
              "      <td>Fri, 26 Jun 2020 12:00 GMT</td>\n",
              "      <td>http://www.globenewswire.com/news-release/2020...</td>\n",
              "      <td>NaN</td>\n",
              "      <td>NaN</td>\n",
              "    </tr>\n",
              "    <tr>\n",
              "      <th>1</th>\n",
              "      <td>Vaxart, Inc. Signs Memorandum of Understanding...</td>\n",
              "      <td>Enabling Production of A Billion or More COVID...</td>\n",
              "      <td>Thu, 25 Jun 2020 12:00 GMT</td>\n",
              "      <td>http://www.globenewswire.com/news-release/2020...</td>\n",
              "      <td>NaN</td>\n",
              "      <td>NaN</td>\n",
              "    </tr>\n",
              "    <tr>\n",
              "      <th>2</th>\n",
              "      <td>Vaxart, Inc. Set to Join Russell 3000® Index</td>\n",
              "      <td>SOUTH SAN FRANCISCO, Calif., June  24, 2020  (...</td>\n",
              "      <td>Wed, 24 Jun 2020 12:00 GMT</td>\n",
              "      <td>http://www.globenewswire.com/news-release/2020...</td>\n",
              "      <td>NaN</td>\n",
              "      <td>NaN</td>\n",
              "    </tr>\n",
              "    <tr>\n",
              "      <th>3</th>\n",
              "      <td>Vaxart, Inc. to Present at the H.C. Wainwright...</td>\n",
              "      <td>Live Webcast on Thursday June 25th at 10:25 am...</td>\n",
              "      <td>Tue, 23 Jun 2020 12:00 GMT</td>\n",
              "      <td>http://www.globenewswire.com/news-release/2020...</td>\n",
              "      <td>NaN</td>\n",
              "      <td>NaN</td>\n",
              "    </tr>\n",
              "    <tr>\n",
              "      <th>4</th>\n",
              "      <td>Vaxart, Inc. Appoints New CEO to Accelerate Ad...</td>\n",
              "      <td>Andrei Floroiu Appointed Chief Executive Offic...</td>\n",
              "      <td>Mon, 15 Jun 2020 11:30 GMT</td>\n",
              "      <td>http://www.globenewswire.com/news-release/2020...</td>\n",
              "      <td>NaN</td>\n",
              "      <td>NaN</td>\n",
              "    </tr>\n",
              "  </tbody>\n",
              "</table>\n",
              "</div>"
            ],
            "text/plain": [
              "                                               title  ... price_sensi\n",
              "0  Vaxart’s COVID-19 Vaccine Selected for the U.S...  ...         NaN\n",
              "1  Vaxart, Inc. Signs Memorandum of Understanding...  ...         NaN\n",
              "2       Vaxart, Inc. Set to Join Russell 3000® Index  ...         NaN\n",
              "3  Vaxart, Inc. to Present at the H.C. Wainwright...  ...         NaN\n",
              "4  Vaxart, Inc. Appoints New CEO to Accelerate Ad...  ...         NaN\n",
              "\n",
              "[5 rows x 6 columns]"
            ]
          },
          "metadata": {
            "tags": []
          },
          "execution_count": 13
        }
      ]
    },
    {
      "cell_type": "markdown",
      "metadata": {
        "id": "SUfjk4NAYNPw",
        "colab_type": "text"
      },
      "source": [
        "### **2. Assign Sentiment Score**"
      ]
    },
    {
      "cell_type": "code",
      "metadata": {
        "id": "qWMwV_ELQkMU",
        "colab_type": "code",
        "colab": {
          "base_uri": "https://localhost:8080/",
          "height": 198
        },
        "outputId": "3d947280-f88c-4162-89e2-a71c7812b52a"
      },
      "source": [
        "from textblob import TextBlob\n",
        "\n",
        "# Sentiment score from TextBlob\n",
        "def get_textblob_sentiment(text):\n",
        "    analysis = TextBlob(text)\n",
        "    return analysis.sentiment.polarity\n",
        "\n",
        "# Sentiment score from Vader\n",
        "def get_vader_sentiment(txt):\n",
        "    analyzer = SentimentIntensityAnalyzer()\n",
        "    vs = analyzer.polarity_scores(txt)\n",
        "    return vs['compound']\n",
        "\n",
        "news_df['sentiment'] = news_df['summary'].apply(lambda x : (get_vader_sentiment(x) + get_textblob_sentiment(x))/2)\n",
        "news_df.head()"
      ],
      "execution_count": 14,
      "outputs": [
        {
          "output_type": "execute_result",
          "data": {
            "text/html": [
              "<div>\n",
              "<style scoped>\n",
              "    .dataframe tbody tr th:only-of-type {\n",
              "        vertical-align: middle;\n",
              "    }\n",
              "\n",
              "    .dataframe tbody tr th {\n",
              "        vertical-align: top;\n",
              "    }\n",
              "\n",
              "    .dataframe thead th {\n",
              "        text-align: right;\n",
              "    }\n",
              "</style>\n",
              "<table border=\"1\" class=\"dataframe\">\n",
              "  <thead>\n",
              "    <tr style=\"text-align: right;\">\n",
              "      <th></th>\n",
              "      <th>title</th>\n",
              "      <th>summary</th>\n",
              "      <th>published</th>\n",
              "      <th>link</th>\n",
              "      <th>sentiment</th>\n",
              "      <th>price_sensi</th>\n",
              "    </tr>\n",
              "  </thead>\n",
              "  <tbody>\n",
              "    <tr>\n",
              "      <th>0</th>\n",
              "      <td>Vaxart’s COVID-19 Vaccine Selected for the U.S...</td>\n",
              "      <td>OWS to Test First Oral COVID-19 Vaccine in Non...</td>\n",
              "      <td>Fri, 26 Jun 2020 12:00 GMT</td>\n",
              "      <td>http://www.globenewswire.com/news-release/2020...</td>\n",
              "      <td>0.125000</td>\n",
              "      <td>NaN</td>\n",
              "    </tr>\n",
              "    <tr>\n",
              "      <th>1</th>\n",
              "      <td>Vaxart, Inc. Signs Memorandum of Understanding...</td>\n",
              "      <td>Enabling Production of A Billion or More COVID...</td>\n",
              "      <td>Thu, 25 Jun 2020 12:00 GMT</td>\n",
              "      <td>http://www.globenewswire.com/news-release/2020...</td>\n",
              "      <td>0.250000</td>\n",
              "      <td>NaN</td>\n",
              "    </tr>\n",
              "    <tr>\n",
              "      <th>2</th>\n",
              "      <td>Vaxart, Inc. Set to Join Russell 3000® Index</td>\n",
              "      <td>SOUTH SAN FRANCISCO, Calif., June  24, 2020  (...</td>\n",
              "      <td>Wed, 24 Jun 2020 12:00 GMT</td>\n",
              "      <td>http://www.globenewswire.com/news-release/2020...</td>\n",
              "      <td>0.538350</td>\n",
              "      <td>NaN</td>\n",
              "    </tr>\n",
              "    <tr>\n",
              "      <th>3</th>\n",
              "      <td>Vaxart, Inc. to Present at the H.C. Wainwright...</td>\n",
              "      <td>Live Webcast on Thursday June 25th at 10:25 am...</td>\n",
              "      <td>Tue, 23 Jun 2020 12:00 GMT</td>\n",
              "      <td>http://www.globenewswire.com/news-release/2020...</td>\n",
              "      <td>0.068182</td>\n",
              "      <td>NaN</td>\n",
              "    </tr>\n",
              "    <tr>\n",
              "      <th>4</th>\n",
              "      <td>Vaxart, Inc. Appoints New CEO to Accelerate Ad...</td>\n",
              "      <td>Andrei Floroiu Appointed Chief Executive Offic...</td>\n",
              "      <td>Mon, 15 Jun 2020 11:30 GMT</td>\n",
              "      <td>http://www.globenewswire.com/news-release/2020...</td>\n",
              "      <td>0.000000</td>\n",
              "      <td>NaN</td>\n",
              "    </tr>\n",
              "  </tbody>\n",
              "</table>\n",
              "</div>"
            ],
            "text/plain": [
              "                                               title  ... price_sensi\n",
              "0  Vaxart’s COVID-19 Vaccine Selected for the U.S...  ...         NaN\n",
              "1  Vaxart, Inc. Signs Memorandum of Understanding...  ...         NaN\n",
              "2       Vaxart, Inc. Set to Join Russell 3000® Index  ...         NaN\n",
              "3  Vaxart, Inc. to Present at the H.C. Wainwright...  ...         NaN\n",
              "4  Vaxart, Inc. Appoints New CEO to Accelerate Ad...  ...         NaN\n",
              "\n",
              "[5 rows x 6 columns]"
            ]
          },
          "metadata": {
            "tags": []
          },
          "execution_count": 14
        }
      ]
    },
    {
      "cell_type": "markdown",
      "metadata": {
        "id": "_JzOdMSyev-g",
        "colab_type": "text"
      },
      "source": [
        "### **3. Get Historical Price Data**"
      ]
    },
    {
      "cell_type": "code",
      "metadata": {
        "id": "HUKKSaMgmvyK",
        "colab_type": "code",
        "colab": {
          "base_uri": "https://localhost:8080/",
          "height": 228
        },
        "outputId": "17f925fb-9b0d-4c0a-82d2-9303e823076f"
      },
      "source": [
        "# An very helpful historical prices library by Ran Roussi -  https://github.com/ranaroussi/yfinance, https://aroussi.com/post/python-yahoo-finance\n",
        "company_financials = yf.Ticker( symbol )\n",
        "prices_df = company_financials.history(period='max')\n",
        "prices_df.sort_values(by = 'Date', ascending = False, inplace = True)\n",
        "prices_df.head()"
      ],
      "execution_count": 9,
      "outputs": [
        {
          "output_type": "execute_result",
          "data": {
            "text/html": [
              "<div>\n",
              "<style scoped>\n",
              "    .dataframe tbody tr th:only-of-type {\n",
              "        vertical-align: middle;\n",
              "    }\n",
              "\n",
              "    .dataframe tbody tr th {\n",
              "        vertical-align: top;\n",
              "    }\n",
              "\n",
              "    .dataframe thead th {\n",
              "        text-align: right;\n",
              "    }\n",
              "</style>\n",
              "<table border=\"1\" class=\"dataframe\">\n",
              "  <thead>\n",
              "    <tr style=\"text-align: right;\">\n",
              "      <th></th>\n",
              "      <th>Open</th>\n",
              "      <th>High</th>\n",
              "      <th>Low</th>\n",
              "      <th>Close</th>\n",
              "      <th>Volume</th>\n",
              "      <th>Dividends</th>\n",
              "      <th>Stock Splits</th>\n",
              "    </tr>\n",
              "    <tr>\n",
              "      <th>Date</th>\n",
              "      <th></th>\n",
              "      <th></th>\n",
              "      <th></th>\n",
              "      <th></th>\n",
              "      <th></th>\n",
              "      <th></th>\n",
              "      <th></th>\n",
              "    </tr>\n",
              "  </thead>\n",
              "  <tbody>\n",
              "    <tr>\n",
              "      <th>2020-07-10</th>\n",
              "      <td>8.05</td>\n",
              "      <td>8.15</td>\n",
              "      <td>7.61</td>\n",
              "      <td>7.98</td>\n",
              "      <td>10304700</td>\n",
              "      <td>0.0</td>\n",
              "      <td>0.0</td>\n",
              "    </tr>\n",
              "    <tr>\n",
              "      <th>2020-07-09</th>\n",
              "      <td>7.98</td>\n",
              "      <td>8.50</td>\n",
              "      <td>7.89</td>\n",
              "      <td>8.19</td>\n",
              "      <td>12825500</td>\n",
              "      <td>0.0</td>\n",
              "      <td>0.0</td>\n",
              "    </tr>\n",
              "    <tr>\n",
              "      <th>2020-07-08</th>\n",
              "      <td>8.37</td>\n",
              "      <td>8.86</td>\n",
              "      <td>7.85</td>\n",
              "      <td>8.15</td>\n",
              "      <td>31387600</td>\n",
              "      <td>0.0</td>\n",
              "      <td>0.0</td>\n",
              "    </tr>\n",
              "    <tr>\n",
              "      <th>2020-07-07</th>\n",
              "      <td>7.50</td>\n",
              "      <td>8.98</td>\n",
              "      <td>7.08</td>\n",
              "      <td>8.87</td>\n",
              "      <td>62500100</td>\n",
              "      <td>0.0</td>\n",
              "      <td>0.0</td>\n",
              "    </tr>\n",
              "    <tr>\n",
              "      <th>2020-07-06</th>\n",
              "      <td>7.12</td>\n",
              "      <td>7.12</td>\n",
              "      <td>6.02</td>\n",
              "      <td>6.44</td>\n",
              "      <td>23134700</td>\n",
              "      <td>0.0</td>\n",
              "      <td>0.0</td>\n",
              "    </tr>\n",
              "  </tbody>\n",
              "</table>\n",
              "</div>"
            ],
            "text/plain": [
              "            Open  High   Low  Close    Volume  Dividends  Stock Splits\n",
              "Date                                                                  \n",
              "2020-07-10  8.05  8.15  7.61   7.98  10304700        0.0           0.0\n",
              "2020-07-09  7.98  8.50  7.89   8.19  12825500        0.0           0.0\n",
              "2020-07-08  8.37  8.86  7.85   8.15  31387600        0.0           0.0\n",
              "2020-07-07  7.50  8.98  7.08   8.87  62500100        0.0           0.0\n",
              "2020-07-06  7.12  7.12  6.02   6.44  23134700        0.0           0.0"
            ]
          },
          "metadata": {
            "tags": []
          },
          "execution_count": 9
        }
      ]
    },
    {
      "cell_type": "code",
      "metadata": {
        "id": "MCQwWhYTZpQp",
        "colab_type": "code",
        "colab": {
          "base_uri": "https://localhost:8080/",
          "height": 198
        },
        "outputId": "e7077aad-d840-4fad-bed6-f45f36f6292c"
      },
      "source": [
        "import arrow\n",
        "from dateutil.parser import parse\n",
        "\n",
        "def format_date(published):\n",
        "    arrow_date = arrow.get(published)\n",
        "    return arrow_date.format('YYYY-MM-DD')\n",
        "\n",
        "def get_price(price_series):\n",
        "    return price_series.iloc[0]\n",
        "\n",
        "def get_previous_bday(published):\n",
        "    ts = pd.Timestamp(published) \n",
        "    bd = pd.tseries.offsets.BusinessDay(n = 1)\n",
        "    return ts - bd \n",
        "\n",
        "def get_sensi_begin_price(published):\n",
        "    arrow_start = arrow.get(get_previous_bday(published))\n",
        "    start_date = format_date(arrow_start)\n",
        "    return get_price(prices_df.loc[start_date]['Close'])\n",
        "\n",
        "def get_sensi_end_price(published):\n",
        "    end_date = format_date(published)\n",
        "    return get_price(prices_df.loc[end_date]['Open']) \n",
        "\n",
        "def get_price_sensi(published):\n",
        "    return (get_sensi_end_price(published) - get_sensi_begin_price(published))/get_sensi_begin_price(published)\n",
        "\n",
        "price_sensi_list = []\n",
        "\n",
        "for i in range(news_df.shape[0]):\n",
        "    price_sensi_list.append(get_price_sensi(parse(news_df.iloc[i]['published'])))\n",
        "\n",
        "news_df['price_sensi'] = price_sensi_list\n",
        "news_df.head()"
      ],
      "execution_count": 11,
      "outputs": [
        {
          "output_type": "execute_result",
          "data": {
            "text/html": [
              "<div>\n",
              "<style scoped>\n",
              "    .dataframe tbody tr th:only-of-type {\n",
              "        vertical-align: middle;\n",
              "    }\n",
              "\n",
              "    .dataframe tbody tr th {\n",
              "        vertical-align: top;\n",
              "    }\n",
              "\n",
              "    .dataframe thead th {\n",
              "        text-align: right;\n",
              "    }\n",
              "</style>\n",
              "<table border=\"1\" class=\"dataframe\">\n",
              "  <thead>\n",
              "    <tr style=\"text-align: right;\">\n",
              "      <th></th>\n",
              "      <th>title</th>\n",
              "      <th>summary</th>\n",
              "      <th>published</th>\n",
              "      <th>link</th>\n",
              "      <th>sentiment</th>\n",
              "      <th>price_sensi</th>\n",
              "    </tr>\n",
              "  </thead>\n",
              "  <tbody>\n",
              "    <tr>\n",
              "      <th>0</th>\n",
              "      <td>Vaxart’s COVID-19 Vaccine Selected for the U.S...</td>\n",
              "      <td>OWS to Test First Oral COVID-19 Vaccine in Non...</td>\n",
              "      <td>Fri, 26 Jun 2020 12:00 GMT</td>\n",
              "      <td>http://www.globenewswire.com/news-release/2020...</td>\n",
              "      <td>0.125000</td>\n",
              "      <td>0.835463</td>\n",
              "    </tr>\n",
              "    <tr>\n",
              "      <th>1</th>\n",
              "      <td>Vaxart, Inc. Signs Memorandum of Understanding...</td>\n",
              "      <td>Enabling Production of A Billion or More COVID...</td>\n",
              "      <td>Thu, 25 Jun 2020 12:00 GMT</td>\n",
              "      <td>http://www.globenewswire.com/news-release/2020...</td>\n",
              "      <td>0.250000</td>\n",
              "      <td>0.131661</td>\n",
              "    </tr>\n",
              "    <tr>\n",
              "      <th>2</th>\n",
              "      <td>Vaxart, Inc. Set to Join Russell 3000® Index</td>\n",
              "      <td>SOUTH SAN FRANCISCO, Calif., June  24, 2020  (...</td>\n",
              "      <td>Wed, 24 Jun 2020 12:00 GMT</td>\n",
              "      <td>http://www.globenewswire.com/news-release/2020...</td>\n",
              "      <td>0.538350</td>\n",
              "      <td>-0.015038</td>\n",
              "    </tr>\n",
              "    <tr>\n",
              "      <th>3</th>\n",
              "      <td>Vaxart, Inc. to Present at the H.C. Wainwright...</td>\n",
              "      <td>Live Webcast on Thursday June 25th at 10:25 am...</td>\n",
              "      <td>Tue, 23 Jun 2020 12:00 GMT</td>\n",
              "      <td>http://www.globenewswire.com/news-release/2020...</td>\n",
              "      <td>0.068182</td>\n",
              "      <td>0.011236</td>\n",
              "    </tr>\n",
              "    <tr>\n",
              "      <th>4</th>\n",
              "      <td>Vaxart, Inc. Appoints New CEO to Accelerate Ad...</td>\n",
              "      <td>Andrei Floroiu Appointed Chief Executive Offic...</td>\n",
              "      <td>Mon, 15 Jun 2020 11:30 GMT</td>\n",
              "      <td>http://www.globenewswire.com/news-release/2020...</td>\n",
              "      <td>0.000000</td>\n",
              "      <td>-0.030043</td>\n",
              "    </tr>\n",
              "  </tbody>\n",
              "</table>\n",
              "</div>"
            ],
            "text/plain": [
              "                                               title  ... price_sensi\n",
              "0  Vaxart’s COVID-19 Vaccine Selected for the U.S...  ...    0.835463\n",
              "1  Vaxart, Inc. Signs Memorandum of Understanding...  ...    0.131661\n",
              "2       Vaxart, Inc. Set to Join Russell 3000® Index  ...   -0.015038\n",
              "3  Vaxart, Inc. to Present at the H.C. Wainwright...  ...    0.011236\n",
              "4  Vaxart, Inc. Appoints New CEO to Accelerate Ad...  ...   -0.030043\n",
              "\n",
              "[5 rows x 6 columns]"
            ]
          },
          "metadata": {
            "tags": []
          },
          "execution_count": 11
        }
      ]
    },
    {
      "cell_type": "code",
      "metadata": {
        "id": "0ROHbyTDbTeQ",
        "colab_type": "code",
        "colab": {
          "base_uri": "https://localhost:8080/",
          "height": 35
        },
        "outputId": "5f84cec2-e46d-4dce-a6df-640c7bcd8e71"
      },
      "source": [
        "print('price_sensi vs sentiment corr:', news_df['price_sensi'].corr(news_df['sentiment']))"
      ],
      "execution_count": 12,
      "outputs": [
        {
          "output_type": "stream",
          "text": [
            "price_sensi vs sentiment corr: 0.186601171922371\n"
          ],
          "name": "stdout"
        }
      ]
    },
    {
      "cell_type": "markdown",
      "metadata": {
        "id": "x8AaR_KX6eK6",
        "colab_type": "text"
      },
      "source": [
        "**Resources**\n",
        "\n",
        "* [AltSignals.AI](https://www.altsignals.ai/)\n",
        "* [Yfinance](https://pypi.org/project/yfinance/)\n",
        "* [TextBlob](https://pypi.org/project/textblob/)\n",
        "* [Vader Sentiment](https://pypi.org/project/vaderSentiment/)\n",
        "\n"
      ]
    }
  ]
}