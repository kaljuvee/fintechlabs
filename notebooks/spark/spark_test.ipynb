{
 "cells": [
  {
   "cell_type": "code",
   "execution_count": 90,
   "metadata": {},
   "outputs": [],
   "source": [
    "from pyspark.sql import SparkSession\n",
    "import json"
   ]
  },
  {
   "cell_type": "code",
   "execution_count": 163,
   "metadata": {},
   "outputs": [],
   "source": [
    "appName = \"Nike Spark test\"\n",
    "master = 'local'\n",
    "spark = SparkSession.builder \\\n",
    "    .master(master) \\\n",
    "    .appName(appName) \\\n",
    "    .getOrCreate()"
   ]
  },
  {
   "cell_type": "code",
   "execution_count": 164,
   "metadata": {},
   "outputs": [],
   "source": [
    "calender = spark.read.format('csv') \\\n",
    "                .option('header',True) \\\n",
    "                .option('multiLine', True) \\\n",
    "                .load('./calendar.csv')\n",
    "\n",
    "consumption = spark.read.format('csv') \\\n",
    "                .option('header',True) \\\n",
    "                .option('multiLine', True) \\\n",
    "                .load('./consumption.csv')\n",
    "\n",
    "product = spark.read.format('csv') \\\n",
    "                .option('header',True) \\\n",
    "                .option('multiLine', True) \\\n",
    "                .load('./product.csv')\n",
    "\n",
    "sales = spark.read.format('csv') \\\n",
    "                .option('header',True) \\\n",
    "                .option('multiLine', True) \\\n",
    "                .load('./sales.csv')\n",
    "\n",
    "store = spark.read.format('csv') \\\n",
    "                .option('header',True) \\\n",
    "                .option('multiLine', True) \\\n",
    "                .load('./store.csv')"
   ]
  },
  {
   "cell_type": "code",
   "execution_count": 165,
   "metadata": {},
   "outputs": [],
   "source": [
    "calender = calender.selectExpr(\"datekey as dateId\", \"datecalendarday as datecalendarday\",\n",
    "                               \"datecalendaryear as datecalendaryear\", \"weeknumberofseason as weeknumberofseason\")"
   ]
  },
  {
   "cell_type": "code",
   "execution_count": 166,
   "metadata": {},
   "outputs": [],
   "source": [
    "product_sales = product.join(sales, on='productid')"
   ]
  },
  {
   "cell_type": "code",
   "execution_count": 167,
   "metadata": {},
   "outputs": [],
   "source": [
    "data = store.join(product_sales, on='storeId')"
   ]
  },
  {
   "cell_type": "code",
   "execution_count": 168,
   "metadata": {},
   "outputs": [],
   "source": [
    "data = data.join(calender, on='dateId', how='left')"
   ]
  },
  {
   "cell_type": "code",
   "execution_count": 170,
   "metadata": {},
   "outputs": [
    {
     "name": "stdout",
     "output_type": "stream",
     "text": [
      "[{'dateId': '4965', 'storeid': '409', 'channel': 'Digital', 'country': 'INDIA', 'productid': '00567228914507', 'division': 'APPAREL', 'gender': 'KIDS', 'category': 'CRICKET', 'saleId': '1', 'netSales': '300.24', 'salesUnits': '5', 'datecalendarday': '1', 'datecalendaryear': '2018', 'weeknumberofseason': '2'}, {'dateId': '4965', 'storeid': '409', 'channel': 'Digital', 'country': 'INDIA', 'productid': '00567228914507', 'division': 'APPAREL', 'gender': 'KIDS', 'category': 'CRICKET', 'saleId': '2', 'netSales': '300.24', 'salesUnits': '5', 'datecalendarday': '1', 'datecalendaryear': '2018', 'weeknumberofseason': '2'}, {'dateId': '4965', 'storeid': '409', 'channel': 'Digital', 'country': 'INDIA', 'productid': '00567228914507', 'division': 'APPAREL', 'gender': 'KIDS', 'category': 'CRICKET', 'saleId': '3', 'netSales': '300.24', 'salesUnits': '5', 'datecalendarday': '1', 'datecalendaryear': '2018', 'weeknumberofseason': '2'}, {'dateId': '4965', 'storeid': '409', 'channel': 'Digital', 'country': 'INDIA', 'productid': '00567228914507', 'division': 'APPAREL', 'gender': 'KIDS', 'category': 'CRICKET', 'saleId': '4', 'netSales': '300.24', 'salesUnits': '5', 'datecalendarday': '1', 'datecalendaryear': '2018', 'weeknumberofseason': '2'}, {'dateId': '4965', 'storeid': '411', 'channel': 'Digital', 'country': 'AUSTRIA     ', 'productid': '00567228914507', 'division': 'APPAREL', 'gender': 'KIDS', 'category': 'CRICKET', 'saleId': '5', 'netSales': '300.24', 'salesUnits': '5', 'datecalendarday': '1', 'datecalendaryear': '2018', 'weeknumberofseason': '2'}, {'dateId': '4965', 'storeid': '411', 'channel': 'Digital', 'country': 'AUSTRIA     ', 'productid': '00567228914507', 'division': 'APPAREL', 'gender': 'KIDS', 'category': 'CRICKET', 'saleId': '6', 'netSales': '300.24', 'salesUnits': '5', 'datecalendarday': '1', 'datecalendaryear': '2018', 'weeknumberofseason': '2'}, {'dateId': '4965', 'storeid': '409', 'channel': 'Digital', 'country': 'INDIA', 'productid': '00567228914507', 'division': 'APPAREL', 'gender': 'KIDS', 'category': 'CRICKET', 'saleId': '7', 'netSales': '300.24', 'salesUnits': '5', 'datecalendarday': '1', 'datecalendaryear': '2018', 'weeknumberofseason': '2'}, {'dateId': '4965', 'storeid': '411', 'channel': 'Digital', 'country': 'AUSTRIA     ', 'productid': '00567228914507', 'division': 'APPAREL', 'gender': 'KIDS', 'category': 'CRICKET', 'saleId': '8', 'netSales': '300.24', 'salesUnits': '5', 'datecalendarday': '1', 'datecalendaryear': '2018', 'weeknumberofseason': '2'}, {'dateId': '4965', 'storeid': '409', 'channel': 'Digital', 'country': 'INDIA', 'productid': '00567228914507', 'division': 'APPAREL', 'gender': 'KIDS', 'category': 'CRICKET', 'saleId': '9', 'netSales': '300.24', 'salesUnits': '5', 'datecalendarday': '1', 'datecalendaryear': '2018', 'weeknumberofseason': '2'}, {'dateId': '4965', 'storeid': '409', 'channel': 'Digital', 'country': 'INDIA', 'productid': '00567228914507', 'division': 'APPAREL', 'gender': 'KIDS', 'category': 'CRICKET', 'saleId': '10', 'netSales': '300.24', 'salesUnits': '5', 'datecalendarday': '1', 'datecalendaryear': '2018', 'weeknumberofseason': '2'}, {'dateId': '4965', 'storeid': '409', 'channel': 'Digital', 'country': 'INDIA', 'productid': '00567228914507', 'division': 'APPAREL', 'gender': 'KIDS', 'category': 'CRICKET', 'saleId': '11', 'netSales': '300.24', 'salesUnits': '5', 'datecalendarday': '1', 'datecalendaryear': '2018', 'weeknumberofseason': '2'}, {'dateId': '4965', 'storeid': '411', 'channel': 'Digital', 'country': 'AUSTRIA     ', 'productid': '00567228914507', 'division': 'APPAREL', 'gender': 'KIDS', 'category': 'CRICKET', 'saleId': '12', 'netSales': '300.24', 'salesUnits': '5', 'datecalendarday': '1', 'datecalendaryear': '2018', 'weeknumberofseason': '2'}, {'dateId': '4965', 'storeid': '409', 'channel': 'Digital', 'country': 'INDIA', 'productid': '00567228914507', 'division': 'APPAREL', 'gender': 'KIDS', 'category': 'CRICKET', 'saleId': '13', 'netSales': '300.24', 'salesUnits': '5', 'datecalendarday': '1', 'datecalendaryear': '2018', 'weeknumberofseason': '2'}, {'dateId': '4965', 'storeid': '409', 'channel': 'Digital', 'country': 'INDIA', 'productid': '00567228914507', 'division': 'APPAREL', 'gender': 'KIDS', 'category': 'CRICKET', 'saleId': '14', 'netSales': '300.24', 'salesUnits': '5', 'datecalendarday': '1', 'datecalendaryear': '2018', 'weeknumberofseason': '2'}, {'dateId': '4965', 'storeid': '409', 'channel': 'Digital', 'country': 'INDIA', 'productid': '00567228914507', 'division': 'APPAREL', 'gender': 'KIDS', 'category': 'CRICKET', 'saleId': '15', 'netSales': '300.24', 'salesUnits': '5', 'datecalendarday': '1', 'datecalendaryear': '2018', 'weeknumberofseason': '2'}, {'dateId': '4965', 'storeid': '409', 'channel': 'Digital', 'country': 'INDIA', 'productid': '00567228914507', 'division': 'APPAREL', 'gender': 'KIDS', 'category': 'CRICKET', 'saleId': '16', 'netSales': '300.24', 'salesUnits': '5', 'datecalendarday': '1', 'datecalendaryear': '2018', 'weeknumberofseason': '2'}, {'dateId': '4965', 'storeid': '409', 'channel': 'Digital', 'country': 'INDIA', 'productid': '00567228914507', 'division': 'APPAREL', 'gender': 'KIDS', 'category': 'CRICKET', 'saleId': '17', 'netSales': '300.24', 'salesUnits': '2', 'datecalendarday': '1', 'datecalendaryear': '2018', 'weeknumberofseason': '2'}, {'dateId': '4965', 'storeid': '409', 'channel': 'Digital', 'country': 'INDIA', 'productid': '00567228914507', 'division': 'APPAREL', 'gender': 'KIDS', 'category': 'CRICKET', 'saleId': '18', 'netSales': '300.24', 'salesUnits': '5', 'datecalendarday': '1', 'datecalendaryear': '2018', 'weeknumberofseason': '2'}, {'dateId': '4965', 'storeid': '409', 'channel': 'Digital', 'country': 'INDIA', 'productid': '00567228914507', 'division': 'APPAREL', 'gender': 'KIDS', 'category': 'CRICKET', 'saleId': '19', 'netSales': '300.24', 'salesUnits': '5', 'datecalendarday': '1', 'datecalendaryear': '2018', 'weeknumberofseason': '2'}, {'dateId': '4965', 'storeid': '409', 'channel': 'Digital', 'country': 'INDIA', 'productid': '00567228914507', 'division': 'APPAREL', 'gender': 'KIDS', 'category': 'CRICKET', 'saleId': '20', 'netSales': '300.24', 'salesUnits': '5', 'datecalendarday': '1', 'datecalendaryear': '2018', 'weeknumberofseason': '2'}, {'dateId': '4965', 'storeid': '409', 'channel': 'Digital', 'country': 'INDIA', 'productid': '00567228914507', 'division': 'APPAREL', 'gender': 'KIDS', 'category': 'CRICKET', 'saleId': '21', 'netSales': '300.24', 'salesUnits': '5', 'datecalendarday': '1', 'datecalendaryear': '2018', 'weeknumberofseason': '2'}, {'dateId': '4965', 'storeid': '409', 'channel': 'Digital', 'country': 'INDIA', 'productid': '00567228914507', 'division': 'APPAREL', 'gender': 'KIDS', 'category': 'CRICKET', 'saleId': '22', 'netSales': '300.24', 'salesUnits': '5', 'datecalendarday': '1', 'datecalendaryear': '2018', 'weeknumberofseason': '2'}, {'dateId': '4965', 'storeid': '419', 'channel': 'Digital', 'country': 'LUXEMBOURG  ', 'productid': '00567228914507', 'division': 'APPAREL', 'gender': 'KIDS', 'category': 'CRICKET', 'saleId': '23', 'netSales': '300.24', 'salesUnits': '5', 'datecalendarday': '1', 'datecalendaryear': '2018', 'weeknumberofseason': '2'}, {'dateId': '4965', 'storeid': '409', 'channel': 'Digital', 'country': 'INDIA', 'productid': '00567228914507', 'division': 'APPAREL', 'gender': 'KIDS', 'category': 'CRICKET', 'saleId': '24', 'netSales': '300.24', 'salesUnits': '5', 'datecalendarday': '1', 'datecalendaryear': '2018', 'weeknumberofseason': '2'}, {'dateId': '4967', 'storeid': '409', 'channel': 'Digital', 'country': 'INDIA', 'productid': '00567228914507', 'division': 'APPAREL', 'gender': 'KIDS', 'category': 'CRICKET', 'saleId': '25', 'netSales': '300.24', 'salesUnits': '5', 'datecalendarday': '3', 'datecalendaryear': '2018', 'weeknumberofseason': '2'}, {'dateId': '4965', 'storeid': '409', 'channel': 'Digital', 'country': 'INDIA', 'productid': '00567228914507', 'division': 'APPAREL', 'gender': 'KIDS', 'category': 'CRICKET', 'saleId': '26', 'netSales': '300.24', 'salesUnits': '5', 'datecalendarday': '1', 'datecalendaryear': '2018', 'weeknumberofseason': '2'}, {'dateId': '4965', 'storeid': '419', 'channel': 'Digital', 'country': 'LUXEMBOURG  ', 'productid': '00567228914507', 'division': 'APPAREL', 'gender': 'KIDS', 'category': 'CRICKET', 'saleId': '27', 'netSales': '300.24', 'salesUnits': '8', 'datecalendarday': '1', 'datecalendaryear': '2018', 'weeknumberofseason': '2'}, {'dateId': '4965', 'storeid': '409', 'channel': 'Digital', 'country': 'INDIA', 'productid': '00567228914507', 'division': 'APPAREL', 'gender': 'KIDS', 'category': 'CRICKET', 'saleId': '28', 'netSales': '300.24', 'salesUnits': '5', 'datecalendarday': '1', 'datecalendaryear': '2018', 'weeknumberofseason': '2'}, {'dateId': '4967', 'storeid': '409', 'channel': 'Digital', 'country': 'INDIA', 'productid': '00567228914507', 'division': 'APPAREL', 'gender': 'KIDS', 'category': 'CRICKET', 'saleId': '29', 'netSales': '300.24', 'salesUnits': '5', 'datecalendarday': '3', 'datecalendaryear': '2018', 'weeknumberofseason': '2'}, {'dateId': '4965', 'storeid': '409', 'channel': 'Digital', 'country': 'INDIA', 'productid': '00567228914507', 'division': 'APPAREL', 'gender': 'KIDS', 'category': 'CRICKET', 'saleId': '30', 'netSales': '300.24', 'salesUnits': '5', 'datecalendarday': '1', 'datecalendaryear': '2018', 'weeknumberofseason': '2'}, {'dateId': '4965', 'storeid': '419', 'channel': 'Digital', 'country': 'LUXEMBOURG  ', 'productid': '00567228914507', 'division': 'APPAREL', 'gender': 'KIDS', 'category': 'CRICKET', 'saleId': '31', 'netSales': '300.24', 'salesUnits': '5', 'datecalendarday': '1', 'datecalendaryear': '2018', 'weeknumberofseason': '2'}, {'dateId': '4965', 'storeid': '409', 'channel': 'Digital', 'country': 'INDIA', 'productid': '00567228914507', 'division': 'APPAREL', 'gender': 'KIDS', 'category': 'CRICKET', 'saleId': '32', 'netSales': '300.24', 'salesUnits': '5', 'datecalendarday': '1', 'datecalendaryear': '2018', 'weeknumberofseason': '2'}, {'dateId': '4965', 'storeid': '409', 'channel': 'Digital', 'country': 'INDIA', 'productid': '00567228914507', 'division': 'APPAREL', 'gender': 'KIDS', 'category': 'CRICKET', 'saleId': '33', 'netSales': '300.24', 'salesUnits': '5', 'datecalendarday': '1', 'datecalendaryear': '2018', 'weeknumberofseason': '2'}, {'dateId': '4967', 'storeid': '409', 'channel': 'Digital', 'country': 'INDIA', 'productid': '00567228914507', 'division': 'APPAREL', 'gender': 'KIDS', 'category': 'CRICKET', 'saleId': '34', 'netSales': '300.24', 'salesUnits': '7', 'datecalendarday': '3', 'datecalendaryear': '2018', 'weeknumberofseason': '2'}, {'dateId': '4965', 'storeid': '409', 'channel': 'Digital', 'country': 'INDIA', 'productid': '00567228914507', 'division': 'APPAREL', 'gender': 'KIDS', 'category': 'CRICKET', 'saleId': '35', 'netSales': '300.24', 'salesUnits': '5', 'datecalendarday': '1', 'datecalendaryear': '2018', 'weeknumberofseason': '2'}, {'dateId': '4965', 'storeid': '419', 'channel': 'Digital', 'country': 'LUXEMBOURG  ', 'productid': '00567228914507', 'division': 'APPAREL', 'gender': 'KIDS', 'category': 'CRICKET', 'saleId': '36', 'netSales': '300.24', 'salesUnits': '5', 'datecalendarday': '1', 'datecalendaryear': '2018', 'weeknumberofseason': '2'}, {'dateId': '4965', 'storeid': '409', 'channel': 'Digital', 'country': 'INDIA', 'productid': '00567228914507', 'division': 'APPAREL', 'gender': 'KIDS', 'category': 'CRICKET', 'saleId': '37', 'netSales': '300.24', 'salesUnits': '5', 'datecalendarday': '1', 'datecalendaryear': '2018', 'weeknumberofseason': '2'}, {'dateId': '4968', 'storeid': '409', 'channel': 'Digital', 'country': 'INDIA', 'productid': '00567228914507', 'division': 'APPAREL', 'gender': 'KIDS', 'category': 'CRICKET', 'saleId': '38', 'netSales': '300.24', 'salesUnits': '5', 'datecalendarday': '4', 'datecalendaryear': '2018', 'weeknumberofseason': '2'}, {'dateId': '4965', 'storeid': '419', 'channel': 'Digital', 'country': 'LUXEMBOURG  ', 'productid': '00567228914507', 'division': 'APPAREL', 'gender': 'KIDS', 'category': 'CRICKET', 'saleId': '39', 'netSales': '300.24', 'salesUnits': '5', 'datecalendarday': '1', 'datecalendaryear': '2018', 'weeknumberofseason': '2'}, {'dateId': '4965', 'storeid': '409', 'channel': 'Digital', 'country': 'INDIA', 'productid': '00567228914507', 'division': 'APPAREL', 'gender': 'KIDS', 'category': 'CRICKET', 'saleId': '40', 'netSales': '300.24', 'salesUnits': '2', 'datecalendarday': '1', 'datecalendaryear': '2018', 'weeknumberofseason': '2'}, {'dateId': '4965', 'storeid': '419', 'channel': 'Digital', 'country': 'LUXEMBOURG  ', 'productid': '00565177969035', 'division': 'FOOTWEAR', 'gender': 'MENS', 'category': 'COLLECTIONS', 'saleId': '127', 'netSales': '300.24', 'salesUnits': '8', 'datecalendarday': '1', 'datecalendaryear': '2018', 'weeknumberofseason': '2'}, {'dateId': '4965', 'storeid': '409', 'channel': 'Digital', 'country': 'INDIA', 'productid': '00565177969035', 'division': 'FOOTWEAR', 'gender': 'MENS', 'category': 'COLLECTIONS', 'saleId': '128', 'netSales': '400.24', 'salesUnits': '5', 'datecalendarday': '1', 'datecalendaryear': '2018', 'weeknumberofseason': '2'}, {'dateId': '4968', 'storeid': '409', 'channel': 'Digital', 'country': 'INDIA', 'productid': '00565177969035', 'division': 'FOOTWEAR', 'gender': 'MENS', 'category': 'COLLECTIONS', 'saleId': '129', 'netSales': '200.24', 'salesUnits': '5', 'datecalendarday': '4', 'datecalendaryear': '2018', 'weeknumberofseason': '2'}, {'dateId': '4965', 'storeid': '409', 'channel': 'Digital', 'country': 'INDIA', 'productid': '00565177969035', 'division': 'FOOTWEAR', 'gender': 'MENS', 'category': 'COLLECTIONS', 'saleId': '130', 'netSales': '500.24', 'salesUnits': '5', 'datecalendarday': '1', 'datecalendaryear': '2018', 'weeknumberofseason': '2'}, {'dateId': '4965', 'storeid': '419', 'channel': 'Digital', 'country': 'LUXEMBOURG  ', 'productid': '00565177969035', 'division': 'FOOTWEAR', 'gender': 'MENS', 'category': 'COLLECTIONS', 'saleId': '131', 'netSales': '300.24', 'salesUnits': '5', 'datecalendarday': '1', 'datecalendaryear': '2018', 'weeknumberofseason': '2'}, {'dateId': '4965', 'storeid': '409', 'channel': 'Digital', 'country': 'INDIA', 'productid': '00565177969035', 'division': 'FOOTWEAR', 'gender': 'MENS', 'category': 'COLLECTIONS', 'saleId': '132', 'netSales': '305.24', 'salesUnits': '5', 'datecalendarday': '1', 'datecalendaryear': '2018', 'weeknumberofseason': '2'}, {'dateId': '4968', 'storeid': '409', 'channel': 'Digital', 'country': 'INDIA', 'productid': '00565177969035', 'division': 'FOOTWEAR', 'gender': 'MENS', 'category': 'COLLECTIONS', 'saleId': '133', 'netSales': '30.24', 'salesUnits': '5', 'datecalendarday': '4', 'datecalendaryear': '2018', 'weeknumberofseason': '2'}, {'dateId': '4965', 'storeid': '409', 'channel': 'Digital', 'country': 'INDIA', 'productid': '00565177969035', 'division': 'FOOTWEAR', 'gender': 'MENS', 'category': 'COLLECTIONS', 'saleId': '134', 'netSales': '30.24', 'salesUnits': '7', 'datecalendarday': '1', 'datecalendaryear': '2018', 'weeknumberofseason': '2'}, {'dateId': '4967', 'storeid': '409', 'channel': 'Digital', 'country': 'INDIA', 'productid': '00565177969035', 'division': 'FOOTWEAR', 'gender': 'MENS', 'category': 'COLLECTIONS', 'saleId': '135', 'netSales': '800.24', 'salesUnits': '5', 'datecalendarday': '3', 'datecalendaryear': '2018', 'weeknumberofseason': '2'}, {'dateId': '4965', 'storeid': '419', 'channel': 'Digital', 'country': 'LUXEMBOURG  ', 'productid': '00565177969035', 'division': 'FOOTWEAR', 'gender': 'MENS', 'category': 'COLLECTIONS', 'saleId': '136', 'netSales': '900.24', 'salesUnits': '5', 'datecalendarday': '1', 'datecalendaryear': '2018', 'weeknumberofseason': '2'}, {'dateId': '4967', 'storeid': '409', 'channel': 'Digital', 'country': 'INDIA', 'productid': '00565177969059', 'division': 'APPAREL', 'gender': 'KIDS', 'category': 'COLLECTIONS', 'saleId': '1110', 'netSales': '301.24', 'salesUnits': '5', 'datecalendarday': '3', 'datecalendaryear': '2018', 'weeknumberofseason': '2'}, {'dateId': '4967', 'storeid': '409', 'channel': 'Digital', 'country': 'INDIA', 'productid': '00565177969059', 'division': 'APPAREL', 'gender': 'KIDS', 'category': 'COLLECTIONS', 'saleId': '1111', 'netSales': '309.24', 'salesUnits': '5', 'datecalendarday': '3', 'datecalendaryear': '2018', 'weeknumberofseason': '2'}, {'dateId': '4967', 'storeid': '411', 'channel': 'Digital', 'country': 'AUSTRIA     ', 'productid': '00565177969059', 'division': 'APPAREL', 'gender': 'KIDS', 'category': 'COLLECTIONS', 'saleId': '1112', 'netSales': '300.24', 'salesUnits': '5', 'datecalendarday': '3', 'datecalendaryear': '2018', 'weeknumberofseason': '2'}, {'dateId': '4967', 'storeid': '409', 'channel': 'Digital', 'country': 'INDIA', 'productid': '00565177969059', 'division': 'APPAREL', 'gender': 'KIDS', 'category': 'COLLECTIONS', 'saleId': '1113', 'netSales': '360.24', 'salesUnits': '5', 'datecalendarday': '3', 'datecalendaryear': '2018', 'weeknumberofseason': '2'}, {'dateId': '4967', 'storeid': '409', 'channel': 'Digital', 'country': 'INDIA', 'productid': '00565177969059', 'division': 'APPAREL', 'gender': 'KIDS', 'category': 'COLLECTIONS', 'saleId': '1114', 'netSales': '300.24', 'salesUnits': '6', 'datecalendarday': '3', 'datecalendaryear': '2018', 'weeknumberofseason': '2'}, {'dateId': '4967', 'storeid': '409', 'channel': 'Digital', 'country': 'INDIA', 'productid': '00565177969059', 'division': 'APPAREL', 'gender': 'KIDS', 'category': 'COLLECTIONS', 'saleId': '1115', 'netSales': '380.24', 'salesUnits': '5', 'datecalendarday': '3', 'datecalendaryear': '2018', 'weeknumberofseason': '2'}, {'dateId': '4965', 'storeid': '409', 'channel': 'Digital', 'country': 'INDIA', 'productid': '00565177969059', 'division': 'APPAREL', 'gender': 'KIDS', 'category': 'COLLECTIONS', 'saleId': '1116', 'netSales': '300.24', 'salesUnits': '5', 'datecalendarday': '1', 'datecalendaryear': '2018', 'weeknumberofseason': '2'}, {'dateId': '4965', 'storeid': '409', 'channel': 'Digital', 'country': 'INDIA', 'productid': '00565177969059', 'division': 'APPAREL', 'gender': 'KIDS', 'category': 'COLLECTIONS', 'saleId': '1117', 'netSales': '300.24', 'salesUnits': '2', 'datecalendarday': '1', 'datecalendaryear': '2018', 'weeknumberofseason': '2'}, {'dateId': '4965', 'storeid': '409', 'channel': 'Digital', 'country': 'INDIA', 'productid': '00565177969059', 'division': 'APPAREL', 'gender': 'KIDS', 'category': 'COLLECTIONS', 'saleId': '1118', 'netSales': '300.24', 'salesUnits': '8', 'datecalendarday': '1', 'datecalendaryear': '2018', 'weeknumberofseason': '2'}, {'dateId': '4965', 'storeid': '409', 'channel': 'Digital', 'country': 'INDIA', 'productid': '00565177969059', 'division': 'APPAREL', 'gender': 'KIDS', 'category': 'COLLECTIONS', 'saleId': '1119', 'netSales': '300.24', 'salesUnits': '5', 'datecalendarday': '1', 'datecalendaryear': '2018', 'weeknumberofseason': '2'}, {'dateId': '4965', 'storeid': '409', 'channel': 'Digital', 'country': 'INDIA', 'productid': '00565177969059', 'division': 'APPAREL', 'gender': 'KIDS', 'category': 'COLLECTIONS', 'saleId': '1120', 'netSales': '300.24', 'salesUnits': '5', 'datecalendarday': '1', 'datecalendaryear': '2018', 'weeknumberofseason': '2'}, {'dateId': '4965', 'storeid': '409', 'channel': 'Digital', 'country': 'INDIA', 'productid': '00565177969059', 'division': 'APPAREL', 'gender': 'KIDS', 'category': 'COLLECTIONS', 'saleId': '1121', 'netSales': '400.24', 'salesUnits': '5', 'datecalendarday': '1', 'datecalendaryear': '2018', 'weeknumberofseason': '2'}, {'dateId': '4965', 'storeid': '409', 'channel': 'Digital', 'country': 'INDIA', 'productid': '00565177969059', 'division': 'APPAREL', 'gender': 'KIDS', 'category': 'COLLECTIONS', 'saleId': '1122', 'netSales': '500.24', 'salesUnits': '7', 'datecalendarday': '1', 'datecalendaryear': '2018', 'weeknumberofseason': '2'}, {'dateId': '4965', 'storeid': '419', 'channel': 'Digital', 'country': 'LUXEMBOURG  ', 'productid': '00565177969059', 'division': 'APPAREL', 'gender': 'KIDS', 'category': 'COLLECTIONS', 'saleId': '1123', 'netSales': '700.24', 'salesUnits': '5', 'datecalendarday': '1', 'datecalendaryear': '2018', 'weeknumberofseason': '2'}, {'dateId': '4965', 'storeid': '409', 'channel': 'Digital', 'country': 'INDIA', 'productid': '00565177969059', 'division': 'APPAREL', 'gender': 'KIDS', 'category': 'COLLECTIONS', 'saleId': '1124', 'netSales': '300.24', 'salesUnits': '5', 'datecalendarday': '1', 'datecalendaryear': '2018', 'weeknumberofseason': '2'}, {'dateId': '4966', 'storeid': '409', 'channel': 'Digital', 'country': 'INDIA', 'productid': '00565177969059', 'division': 'APPAREL', 'gender': 'KIDS', 'category': 'COLLECTIONS', 'saleId': '1125', 'netSales': '300.64', 'salesUnits': '5', 'datecalendarday': '2', 'datecalendaryear': '2018', 'weeknumberofseason': '2'}, {'dateId': '4966', 'storeid': '409', 'channel': 'Digital', 'country': 'INDIA', 'productid': '00565177969059', 'division': 'APPAREL', 'gender': 'KIDS', 'category': 'COLLECTIONS', 'saleId': '1126', 'netSales': '370.74', 'salesUnits': '5', 'datecalendarday': '2', 'datecalendaryear': '2018', 'weeknumberofseason': '2'}, {'dateId': '4966', 'storeid': '419', 'channel': 'Digital', 'country': 'LUXEMBOURG  ', 'productid': '00565177969059', 'division': 'APPAREL', 'gender': 'KIDS', 'category': 'COLLECTIONS', 'saleId': '1127', 'netSales': '450.24', 'salesUnits': '8', 'datecalendarday': '2', 'datecalendaryear': '2018', 'weeknumberofseason': '2'}, {'dateId': '4966', 'storeid': '409', 'channel': 'Digital', 'country': 'INDIA', 'productid': '00565177969059', 'division': 'APPAREL', 'gender': 'KIDS', 'category': 'COLLECTIONS', 'saleId': '1128', 'netSales': '909.24', 'salesUnits': '8', 'datecalendarday': '2', 'datecalendaryear': '2018', 'weeknumberofseason': '2'}, {'dateId': '4966', 'storeid': '409', 'channel': 'Digital', 'country': 'INDIA', 'productid': '00565177969059', 'division': 'APPAREL', 'gender': 'KIDS', 'category': 'COLLECTIONS', 'saleId': '1129', 'netSales': '808.24', 'salesUnits': '7', 'datecalendarday': '2', 'datecalendaryear': '2018', 'weeknumberofseason': '2'}]\n"
     ]
    },
    {
     "data": {
      "text/plain": [
       "\"\\nfor element in data_json:\\n    print(element)\\n    element['weekly_yearly sales'] = create_week_format(create_week_format(element))\\n#def create_data_rows(data, comment='test'):\\n    #row_id = f'{saleId}_{storeid}'\""
      ]
     },
     "execution_count": 170,
     "metadata": {},
     "output_type": "execute_result"
    }
   ],
   "source": [
    "data_json = data.toJSON().collect()\n",
    "data_json = [json.loads(string_data) for string_data in data_json]\n",
    "def create_week_format(_data):\n",
    "    print(_data.keys())\n",
    "    week_target = _data['weeknumberofseason']\n",
    "    week_dict = {}\n",
    "    for weekly_year in range(1, 53):\n",
    "        if weekly_year == int(week_target):\n",
    "            week_dict[f'W{weekly_year}'] = _data['netSales'] # should be multiplied by salesUnits?\n",
    "        else:\n",
    "            week_dict[f'W{weekly_year}'] = 0\n",
    "    return week_dict\n",
    "print(data_json)\n",
    "\"\"\"\n",
    "for element in data_json:\n",
    "    print(element)\n",
    "    element['weekly_yearly sales'] = create_week_format(create_week_format(element))\n",
    "#def create_data_rows(data, comment='test'):\n",
    "    #row_id = f'{saleId}_{storeid}'\"\"\""
   ]
  },
  {
   "cell_type": "code",
   "execution_count": 151,
   "metadata": {},
   "outputs": [
    {
     "data": {
      "text/plain": [
       "{'dateId': '4965',\n",
       " 'storeid': '409',\n",
       " 'channel': 'Digital',\n",
       " 'country': 'INDIA',\n",
       " 'productid': '00567228914507',\n",
       " 'division': 'APPAREL',\n",
       " 'gender': 'KIDS',\n",
       " 'category': 'CRICKET',\n",
       " 'saleId': '1',\n",
       " 'netSales': '300.24',\n",
       " 'salesUnits': '5',\n",
       " 'datecalendarday': '1',\n",
       " 'datecalendaryear': '2018',\n",
       " 'weeknumberofseason': '2'}"
      ]
     },
     "execution_count": 151,
     "metadata": {},
     "output_type": "execute_result"
    }
   ],
   "source": [
    "element"
   ]
  },
  {
   "cell_type": "code",
   "execution_count": 158,
   "metadata": {},
   "outputs": [
    {
     "name": "stdout",
     "output_type": "stream",
     "text": [
      "+--------------------+\n",
      "|                {   |\n",
      "+--------------------+\n",
      "|  \"_comment\": \"Un...|\n",
      "|  \"uniqueKey\": \"R...|\n",
      "|  \"division\": \"DIV1\"|\n",
      "|    \"gender\": \"KIDS\"|\n",
      "|  \"category\": \"EQ...|\n",
      "|  \"channel\": \"DIG...|\n",
      "|      \"year\": \"RY18”|\n",
      "|      \"dataRows\": [ |\n",
      "|               {    |\n",
      "|      \"_comment\":...|\n",
      "|     \"rowId\": \"Ne...|\n",
      "|        \"dataRow\": {|\n",
      "|          \"W1\": 5000|\n",
      "|             \"W2\": 0|\n",
      "|             \"W3\": 0|\n",
      "|             \"W4\": 0|\n",
      "|             \"W5\": 0|\n",
      "|             \"W6\": 0|\n",
      "|             \"W7\": 0|\n",
      "|             \"W8\": 0|\n",
      "|             \"W9\": 0|\n",
      "|            \"W10\": 0|\n",
      "|            \"W11\": 0|\n",
      "|            \"W12\": 0|\n",
      "|            \"W13\": 0|\n",
      "|         \"W14\": 2000|\n",
      "|            \"W15\": 0|\n",
      "|            \"W16\": 0|\n",
      "|         \"W17\": 3000|\n",
      "|            \"W18\": 0|\n",
      "|            \"W19\": 0|\n",
      "|            \"W20\": 0|\n",
      "|            \"W21\": 0|\n",
      "|            \"W22\": 0|\n",
      "|            \"W23\": 0|\n",
      "|            \"W24\": 0|\n",
      "|            \"W25\": 0|\n",
      "|            \"W26\": 0|\n",
      "|            \"W27\": 0|\n",
      "|            \"W28\": 0|\n",
      "|            \"W29\": 0|\n",
      "|            \"W30\": 0|\n",
      "|            \"W31\": 0|\n",
      "|            \"W32\": 0|\n",
      "|            \"W33\": 0|\n",
      "|            \"W34\": 0|\n",
      "|            \"W35\": 0|\n",
      "|            \"W36\": 0|\n",
      "|            \"W37\": 0|\n",
      "|            \"W38\": 0|\n",
      "|            \"W39\": 0|\n",
      "|            \"W40\": 0|\n",
      "|            \"W41\": 0|\n",
      "|            \"W42\": 0|\n",
      "|            \"W43\": 0|\n",
      "|            \"W44\": 0|\n",
      "|            \"W45\": 0|\n",
      "|            \"W46\": 0|\n",
      "|            \"W47\": 0|\n",
      "|            \"W48\": 0|\n",
      "|            \"W49\": 0|\n",
      "|            \"W50\": 0|\n",
      "|            \"W51\": 0|\n",
      "|            \"W52\": 0|\n",
      "|                   }|\n",
      "|                   }|\n",
      "|               {    |\n",
      "|    \"_comment\": \"...|\n",
      "|     \"rowId\": \"Sa...|\n",
      "|        \"dataRow\": {|\n",
      "|            \"W1\": 50|\n",
      "|             \"W2\": 0|\n",
      "|             \"W3\": 0|\n",
      "|             \"W4\": 0|\n",
      "|             \"W5\": 0|\n",
      "|             \"W6\": 0|\n",
      "|             \"W7\": 0|\n",
      "|             \"W8\": 0|\n",
      "|             \"W9\": 0|\n",
      "|            \"W10\": 0|\n",
      "|            \"W11\": 0|\n",
      "|            \"W12\": 0|\n",
      "|            \"W13\": 0|\n",
      "|           \"W14\": 20|\n",
      "|            \"W15\": 0|\n",
      "|            \"W16\": 0|\n",
      "|           \"W17\": 30|\n",
      "|            \"W18\": 0|\n",
      "|            \"W19\": 0|\n",
      "|            \"W20\": 0|\n",
      "|            \"W21\": 0|\n",
      "|            \"W22\": 0|\n",
      "|            \"W23\": 0|\n",
      "|            \"W24\": 0|\n",
      "|            \"W25\": 0|\n",
      "|            \"W26\": 0|\n",
      "|            \"W27\": 0|\n",
      "|            \"W28\": 0|\n",
      "|            \"W29\": 0|\n",
      "|            \"W30\": 0|\n",
      "|            \"W31\": 0|\n",
      "|            \"W32\": 0|\n",
      "|            \"W33\": 0|\n",
      "|            \"W34\": 0|\n",
      "|            \"W35\": 0|\n",
      "|            \"W36\": 0|\n",
      "|            \"W37\": 0|\n",
      "|            \"W38\": 0|\n",
      "|            \"W39\": 0|\n",
      "|            \"W40\": 0|\n",
      "|            \"W41\": 0|\n",
      "|            \"W42\": 0|\n",
      "|            \"W43\": 0|\n",
      "|            \"W44\": 0|\n",
      "|            \"W45\": 0|\n",
      "|            \"W46\": 0|\n",
      "|            \"W47\": 0|\n",
      "|            \"W48\": 0|\n",
      "|            \"W49\": 0|\n",
      "|            \"W50\": 0|\n",
      "|            \"W51\": 0|\n",
      "|            \"W52\": 0|\n",
      "|                   }|\n",
      "|                   }|\n",
      "|                   ]|\n",
      "|                   }|\n",
      "+--------------------+\n",
      "\n"
     ]
    }
   ],
   "source": [
    "consumption.show(23432)"
   ]
  },
  {
   "cell_type": "code",
   "execution_count": 160,
   "metadata": {},
   "outputs": [
    {
     "name": "stdout",
     "output_type": "stream",
     "text": [
      "+------+-------+-------+------------+--------------+--------+------+--------+------+--------+----------+---------------+----------------+------------------+\n",
      "|dateId|storeid|channel|     country|     productid|division|gender|category|saleId|netSales|salesUnits|datecalendarday|datecalendaryear|weeknumberofseason|\n",
      "+------+-------+-------+------------+--------------+--------+------+--------+------+--------+----------+---------------+----------------+------------------+\n",
      "|  4965|    409|Digital|       INDIA|00567228914507| APPAREL|  KIDS| CRICKET|     1|  300.24|         5|              1|            2018|                 2|\n",
      "|  4965|    409|Digital|       INDIA|00567228914507| APPAREL|  KIDS| CRICKET|     2|  300.24|         5|              1|            2018|                 2|\n",
      "|  4965|    409|Digital|       INDIA|00567228914507| APPAREL|  KIDS| CRICKET|     3|  300.24|         5|              1|            2018|                 2|\n",
      "|  4965|    409|Digital|       INDIA|00567228914507| APPAREL|  KIDS| CRICKET|     4|  300.24|         5|              1|            2018|                 2|\n",
      "|  4965|    411|Digital|AUSTRIA     |00567228914507| APPAREL|  KIDS| CRICKET|     5|  300.24|         5|              1|            2018|                 2|\n",
      "|  4965|    411|Digital|AUSTRIA     |00567228914507| APPAREL|  KIDS| CRICKET|     6|  300.24|         5|              1|            2018|                 2|\n",
      "|  4965|    409|Digital|       INDIA|00567228914507| APPAREL|  KIDS| CRICKET|     7|  300.24|         5|              1|            2018|                 2|\n",
      "|  4965|    411|Digital|AUSTRIA     |00567228914507| APPAREL|  KIDS| CRICKET|     8|  300.24|         5|              1|            2018|                 2|\n",
      "|  4965|    409|Digital|       INDIA|00567228914507| APPAREL|  KIDS| CRICKET|     9|  300.24|         5|              1|            2018|                 2|\n",
      "|  4965|    409|Digital|       INDIA|00567228914507| APPAREL|  KIDS| CRICKET|    10|  300.24|         5|              1|            2018|                 2|\n",
      "|  4965|    409|Digital|       INDIA|00567228914507| APPAREL|  KIDS| CRICKET|    11|  300.24|         5|              1|            2018|                 2|\n",
      "|  4965|    411|Digital|AUSTRIA     |00567228914507| APPAREL|  KIDS| CRICKET|    12|  300.24|         5|              1|            2018|                 2|\n",
      "|  4965|    409|Digital|       INDIA|00567228914507| APPAREL|  KIDS| CRICKET|    13|  300.24|         5|              1|            2018|                 2|\n",
      "|  4965|    409|Digital|       INDIA|00567228914507| APPAREL|  KIDS| CRICKET|    14|  300.24|         5|              1|            2018|                 2|\n",
      "|  4965|    409|Digital|       INDIA|00567228914507| APPAREL|  KIDS| CRICKET|    15|  300.24|         5|              1|            2018|                 2|\n",
      "|  4965|    409|Digital|       INDIA|00567228914507| APPAREL|  KIDS| CRICKET|    16|  300.24|         5|              1|            2018|                 2|\n",
      "|  4965|    409|Digital|       INDIA|00567228914507| APPAREL|  KIDS| CRICKET|    17|  300.24|         2|              1|            2018|                 2|\n",
      "|  4965|    409|Digital|       INDIA|00567228914507| APPAREL|  KIDS| CRICKET|    18|  300.24|         5|              1|            2018|                 2|\n",
      "|  4965|    409|Digital|       INDIA|00567228914507| APPAREL|  KIDS| CRICKET|    19|  300.24|         5|              1|            2018|                 2|\n",
      "|  4965|    409|Digital|       INDIA|00567228914507| APPAREL|  KIDS| CRICKET|    20|  300.24|         5|              1|            2018|                 2|\n",
      "+------+-------+-------+------------+--------------+--------+------+--------+------+--------+----------+---------------+----------------+------------------+\n",
      "only showing top 20 rows\n",
      "\n"
     ]
    }
   ],
   "source": [
    "data.show()"
   ]
  },
  {
   "cell_type": "code",
   "execution_count": null,
   "metadata": {},
   "outputs": [],
   "source": []
  }
 ],
 "metadata": {
  "kernelspec": {
   "display_name": "Python 3",
   "language": "python",
   "name": "python3"
  },
  "language_info": {
   "codemirror_mode": {
    "name": "ipython",
    "version": 3
   },
   "file_extension": ".py",
   "mimetype": "text/x-python",
   "name": "python",
   "nbconvert_exporter": "python",
   "pygments_lexer": "ipython3",
   "version": "3.8.5"
  }
 },
 "nbformat": 4,
 "nbformat_minor": 4
}
