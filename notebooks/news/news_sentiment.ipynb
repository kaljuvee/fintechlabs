{
  "nbformat": 4,
  "nbformat_minor": 0,
  "metadata": {
    "kernelspec": {
      "display_name": "Python 3",
      "language": "python",
      "name": "python3"
    },
    "language_info": {
      "codemirror_mode": {
        "name": "ipython",
        "version": 3
      },
      "file_extension": ".py",
      "mimetype": "text/x-python",
      "name": "python",
      "nbconvert_exporter": "python",
      "pygments_lexer": "ipython3",
      "version": "3.7.1"
    },
    "colab": {
      "name": "news_sentiment.ipynb",
      "provenance": [],
      "collapsed_sections": [],
      "include_colab_link": true
    }
  },
  "cells": [
    {
      "cell_type": "markdown",
      "metadata": {
        "id": "view-in-github",
        "colab_type": "text"
      },
      "source": [
        "<a href=\"https://colab.research.google.com/github/kaljuvee/datascience/blob/master/notebooks/news/news_sentiment.ipynb\" target=\"_parent\"><img src=\"https://colab.research.google.com/assets/colab-badge.svg\" alt=\"Open In Colab\"/></a>"
      ]
    },
    {
      "cell_type": "markdown",
      "metadata": {
        "id": "Sm6WDU403MIX",
        "colab_type": "text"
      },
      "source": [
        "## News Named Entity Extraction (NER) and Sentiment Analysis"
      ]
    },
    {
      "cell_type": "code",
      "metadata": {
        "id": "pyAMXMIgKWmh",
        "colab_type": "code",
        "outputId": "6335fcaf-5b20-45ce-f577-12d0c15cfbe5",
        "colab": {
          "base_uri": "https://localhost:8080/",
          "height": 122
        }
      },
      "source": [
        "from google.colab import drive\n",
        "drive.mount('/content/drive')"
      ],
      "execution_count": 0,
      "outputs": [
        {
          "output_type": "stream",
          "text": [
            "Go to this URL in a browser: https://accounts.google.com/o/oauth2/auth?client_id=947318989803-6bn6qk8qdgf4n4g3pfee6491hc0brc4i.apps.googleusercontent.com&redirect_uri=urn%3aietf%3awg%3aoauth%3a2.0%3aoob&response_type=code&scope=email%20https%3a%2f%2fwww.googleapis.com%2fauth%2fdocs.test%20https%3a%2f%2fwww.googleapis.com%2fauth%2fdrive%20https%3a%2f%2fwww.googleapis.com%2fauth%2fdrive.photos.readonly%20https%3a%2f%2fwww.googleapis.com%2fauth%2fpeopleapi.readonly\n",
            "\n",
            "Enter your authorization code:\n",
            "··········\n",
            "Mounted at /content/drive\n"
          ],
          "name": "stdout"
        }
      ]
    },
    {
      "cell_type": "markdown",
      "metadata": {
        "id": "Q7JrDKGB3MIY",
        "colab_type": "text"
      },
      "source": [
        "###### Load dependency libraries "
      ]
    },
    {
      "cell_type": "code",
      "metadata": {
        "id": "4mbIoRAy3MIZ",
        "colab_type": "code",
        "outputId": "1a2abcac-53c3-493f-e667-b5fcf9765bf5",
        "colab": {
          "base_uri": "https://localhost:8080/",
          "height": 697
        }
      },
      "source": [
        "!pip install feedparser\n",
        "!pip3 install yfinance --upgrade --no-cache-dir\n",
        "!pip install vaderSentiment\n",
        "import yfinance as yf\n",
        "import pandas as pd\n",
        "import numpy as np\n",
        "import feedparser\n",
        "import requests\n",
        "import json\n",
        "import yaml\n",
        "from vaderSentiment.vaderSentiment import SentimentIntensityAnalyzer"
      ],
      "execution_count": 0,
      "outputs": [
        {
          "output_type": "stream",
          "text": [
            "Collecting feedparser\n",
            "\u001b[?25l  Downloading https://files.pythonhosted.org/packages/91/d8/7d37fec71ff7c9dbcdd80d2b48bcdd86d6af502156fc93846fb0102cb2c4/feedparser-5.2.1.tar.bz2 (192kB)\n",
            "\r\u001b[K     |█▊                              | 10kB 22.6MB/s eta 0:00:01\r\u001b[K     |███▍                            | 20kB 3.1MB/s eta 0:00:01\r\u001b[K     |█████▏                          | 30kB 4.0MB/s eta 0:00:01\r\u001b[K     |██████▉                         | 40kB 4.4MB/s eta 0:00:01\r\u001b[K     |████████▌                       | 51kB 3.6MB/s eta 0:00:01\r\u001b[K     |██████████▎                     | 61kB 4.1MB/s eta 0:00:01\r\u001b[K     |████████████                    | 71kB 4.3MB/s eta 0:00:01\r\u001b[K     |█████████████▋                  | 81kB 4.7MB/s eta 0:00:01\r\u001b[K     |███████████████▍                | 92kB 5.0MB/s eta 0:00:01\r\u001b[K     |█████████████████               | 102kB 4.9MB/s eta 0:00:01\r\u001b[K     |██████████████████▊             | 112kB 4.9MB/s eta 0:00:01\r\u001b[K     |████████████████████▌           | 122kB 4.9MB/s eta 0:00:01\r\u001b[K     |██████████████████████▏         | 133kB 4.9MB/s eta 0:00:01\r\u001b[K     |███████████████████████▉        | 143kB 4.9MB/s eta 0:00:01\r\u001b[K     |█████████████████████████▋      | 153kB 4.9MB/s eta 0:00:01\r\u001b[K     |███████████████████████████▎    | 163kB 4.9MB/s eta 0:00:01\r\u001b[K     |█████████████████████████████   | 174kB 4.9MB/s eta 0:00:01\r\u001b[K     |██████████████████████████████▊ | 184kB 4.9MB/s eta 0:00:01\r\u001b[K     |████████████████████████████████| 194kB 4.9MB/s \n",
            "\u001b[?25hBuilding wheels for collected packages: feedparser\n",
            "  Building wheel for feedparser (setup.py) ... \u001b[?25l\u001b[?25hdone\n",
            "  Created wheel for feedparser: filename=feedparser-5.2.1-cp36-none-any.whl size=44940 sha256=9eeaae965d0d7f7f3875c7c7a6bc39b956efc5eb6c4840739137135fafd304c7\n",
            "  Stored in directory: /root/.cache/pip/wheels/8c/69/b7/f52763c41c5471df57703a0ef718a32a5e81ee35dcf6d4f97f\n",
            "Successfully built feedparser\n",
            "Installing collected packages: feedparser\n",
            "Successfully installed feedparser-5.2.1\n",
            "Collecting yfinance\n",
            "  Downloading https://files.pythonhosted.org/packages/c2/31/8b374a12b90def92a4e27d0fc595fc43635f395984e36a075244d98bd265/yfinance-0.1.54.tar.gz\n",
            "Requirement already satisfied, skipping upgrade: pandas>=0.24 in /usr/local/lib/python3.6/dist-packages (from yfinance) (1.0.4)\n",
            "Requirement already satisfied, skipping upgrade: numpy>=1.15 in /usr/local/lib/python3.6/dist-packages (from yfinance) (1.18.4)\n",
            "Requirement already satisfied, skipping upgrade: requests>=2.20 in /usr/local/lib/python3.6/dist-packages (from yfinance) (2.23.0)\n",
            "Requirement already satisfied, skipping upgrade: multitasking>=0.0.7 in /usr/local/lib/python3.6/dist-packages (from yfinance) (0.0.9)\n",
            "Requirement already satisfied, skipping upgrade: python-dateutil>=2.6.1 in /usr/local/lib/python3.6/dist-packages (from pandas>=0.24->yfinance) (2.8.1)\n",
            "Requirement already satisfied, skipping upgrade: pytz>=2017.2 in /usr/local/lib/python3.6/dist-packages (from pandas>=0.24->yfinance) (2018.9)\n",
            "Requirement already satisfied, skipping upgrade: idna<3,>=2.5 in /usr/local/lib/python3.6/dist-packages (from requests>=2.20->yfinance) (2.9)\n",
            "Requirement already satisfied, skipping upgrade: certifi>=2017.4.17 in /usr/local/lib/python3.6/dist-packages (from requests>=2.20->yfinance) (2020.4.5.1)\n",
            "Requirement already satisfied, skipping upgrade: urllib3!=1.25.0,!=1.25.1,<1.26,>=1.21.1 in /usr/local/lib/python3.6/dist-packages (from requests>=2.20->yfinance) (1.24.3)\n",
            "Requirement already satisfied, skipping upgrade: chardet<4,>=3.0.2 in /usr/local/lib/python3.6/dist-packages (from requests>=2.20->yfinance) (3.0.4)\n",
            "Requirement already satisfied, skipping upgrade: six>=1.5 in /usr/local/lib/python3.6/dist-packages (from python-dateutil>=2.6.1->pandas>=0.24->yfinance) (1.12.0)\n",
            "Building wheels for collected packages: yfinance\n",
            "  Building wheel for yfinance (setup.py) ... \u001b[?25l\u001b[?25hdone\n",
            "  Created wheel for yfinance: filename=yfinance-0.1.54-py2.py3-none-any.whl size=22409 sha256=acb09c2b7dbbde9ee57858e236a4b5022a4fb7d8bb92f519c87b0a2ca4916bba\n",
            "  Stored in directory: /tmp/pip-ephem-wheel-cache-d9sec0af/wheels/f9/e3/5b/ec24dd2984b12d61e0abf26289746c2436a0e7844f26f2515c\n",
            "Successfully built yfinance\n",
            "Installing collected packages: yfinance\n",
            "Successfully installed yfinance-0.1.54\n",
            "Collecting vaderSentiment\n",
            "\u001b[?25l  Downloading https://files.pythonhosted.org/packages/76/fc/310e16254683c1ed35eeb97386986d6c00bc29df17ce280aed64d55537e9/vaderSentiment-3.3.2-py2.py3-none-any.whl (125kB)\n",
            "\u001b[K     |████████████████████████████████| 133kB 5.0MB/s \n",
            "\u001b[?25hRequirement already satisfied: requests in /usr/local/lib/python3.6/dist-packages (from vaderSentiment) (2.23.0)\n",
            "Requirement already satisfied: urllib3!=1.25.0,!=1.25.1,<1.26,>=1.21.1 in /usr/local/lib/python3.6/dist-packages (from requests->vaderSentiment) (1.24.3)\n",
            "Requirement already satisfied: chardet<4,>=3.0.2 in /usr/local/lib/python3.6/dist-packages (from requests->vaderSentiment) (3.0.4)\n",
            "Requirement already satisfied: idna<3,>=2.5 in /usr/local/lib/python3.6/dist-packages (from requests->vaderSentiment) (2.9)\n",
            "Requirement already satisfied: certifi>=2017.4.17 in /usr/local/lib/python3.6/dist-packages (from requests->vaderSentiment) (2020.4.5.1)\n",
            "Installing collected packages: vaderSentiment\n",
            "Successfully installed vaderSentiment-3.3.2\n"
          ],
          "name": "stdout"
        }
      ]
    },
    {
      "cell_type": "markdown",
      "metadata": {
        "id": "atxlDpT63MIc",
        "colab_type": "text"
      },
      "source": [
        "**News / NLP Signal Pipeline**\n",
        "\n",
        "1. **Fetch news** - read in news source via an RSS feed (Feedparser)\n",
        "2. **Extract entitities** - perform named entity recognition (NER) on the unstructured text (Thomson Reuters Intelligent Tagging (TRIT) / Refinitiv Open Calais)\n",
        "3. **Filter on news and entities** - filter on entities and events of interest\n",
        "4. **Sentiment analysis** - extract sentiment on the news item (Vader)\n",
        "5. **Find signal** - correlate sentiment with price movement\n",
        "6. **Historical EOD prices** - fetch historical prices (Yfinance)\n",
        "6. **Backtesting** - back test for PnL performance (Pyfinance)\n",
        "\n",
        "*   https://www.altsignals.ai\n",
        "*   [Julian Kaljuvee](https://www.linkedin.com/in/juliankaljuvee/)\n",
        "\n",
        "\n",
        "\n",
        "\n"
      ]
    },
    {
      "cell_type": "code",
      "metadata": {
        "id": "2loSC5lMAyt-",
        "colab_type": "code",
        "colab": {}
      },
      "source": [
        "# Dictionary of RSS feeds that we will fetch and combine\n",
        "# GlobeNewsire / Europe - http://www.globenewswire.com/Rss/List\n",
        "# potential keys: ['summary_detail', 'published_parsed', 'links', 'title', 'summary', 'guidislink', 'title_detail', 'link', 'published', 'id']\n",
        "newsurls = {\n",
        "    'globenewswire-us':           'http://www.globenewswire.com/RssFeed/country/United%20States/feedTitle/GlobeNewswire%20-%20News%20from%20United%20States',\n",
        "}"
      ],
      "execution_count": 0,
      "outputs": []
    },
    {
      "cell_type": "markdown",
      "metadata": {
        "id": "1KYr2kn2WJfF",
        "colab_type": "text"
      },
      "source": [
        "**1. Fetch news from RSS feed**"
      ]
    },
    {
      "cell_type": "code",
      "metadata": {
        "id": "s06D_B0H3MIc",
        "colab_type": "code",
        "colab": {}
      },
      "source": [
        "# Function to fetch the rss feed and return the parsed RSS\n",
        "def parse_rss( rss_url ):\n",
        "    return feedparser.parse( rss_url ) \n",
        "    \n",
        "# Function grabs the rss feed headlines (titles) and returns them as a list\n",
        "def get_headlines( rss_url ):\n",
        "    headlines = []\n",
        "    feed = parse_rss( rss_url )\n",
        "    for newsitem in feed['items']:\n",
        "        headlines.append(newsitem['title'])\n",
        "    return headlines\n",
        "\n",
        "def get_summaries( rss_url ):\n",
        "    summaries = []\n",
        "    feed = parse_rss( rss_url )\n",
        "    for newsitem in feed['items']:\n",
        "        summaries.append(newsitem['summary'])\n",
        "    return summaries\n",
        "\n",
        "def get_entries( rss_url ):\n",
        "    entries = []\n",
        "    feed = parse_rss( rss_url )\n",
        "    for newsitem in feed['items']:\n",
        "        entries.append(newsitem.keys())\n",
        "    return entries"
      ],
      "execution_count": 0,
      "outputs": []
    },
    {
      "cell_type": "markdown",
      "metadata": {
        "id": "D6m4q69PWwdX",
        "colab_type": "text"
      },
      "source": [
        "**1.1 Inspect entries available in news feed**"
      ]
    },
    {
      "cell_type": "code",
      "metadata": {
        "id": "KMq-k3IfFa7M",
        "colab_type": "code",
        "outputId": "349314a7-02fa-46cb-e761-87381afe332a",
        "colab": {
          "base_uri": "https://localhost:8080/",
          "height": 54
        }
      },
      "source": [
        "# Inspect the entries available in the RSS feed\n",
        "entries = []\n",
        "\n",
        "# Iterate over the feed urls\n",
        "for key,url in newsurls.items():\n",
        "    # Call getHeadlines() and combine the returned headlines with allheadlines\n",
        "    entries.extend( get_entries( url ) )\n",
        "\n",
        "print(entries[0])"
      ],
      "execution_count": 0,
      "outputs": [
        {
          "output_type": "stream",
          "text": [
            "dict_keys(['id', 'guidislink', 'link', 'links', 'tags', 'title', 'title_detail', 'summary', 'summary_detail', 'published', 'published_parsed', 'dc_identifier', 'language', 'publisher', 'publisher_detail', 'contributors', 'dc_modified'])\n"
          ],
          "name": "stdout"
        }
      ]
    },
    {
      "cell_type": "markdown",
      "metadata": {
        "id": "4DSGfeh-eVXL",
        "colab_type": "text"
      },
      "source": [
        ""
      ]
    },
    {
      "cell_type": "code",
      "metadata": {
        "id": "QS1lqt7xfI7z",
        "colab_type": "code",
        "colab": {}
      },
      "source": [
        "# A list to hold all headlines and summaries\n",
        "allheadlines = []\n",
        "summaries = []\n",
        " \n",
        "# Iterate over the feed urls\n",
        "for key,url in newsurls.items():\n",
        "    # Call getHeadlines() and combine the returned headlines with allheadlines\n",
        "    allheadlines.extend( get_headlines( url ) )\n",
        "    summaries.extend( get_summaries( url ) )"
      ],
      "execution_count": 0,
      "outputs": []
    },
    {
      "cell_type": "code",
      "metadata": {
        "id": "pLjb6hDO3IlX",
        "colab_type": "code",
        "colab": {}
      },
      "source": [
        ""
      ],
      "execution_count": 0,
      "outputs": []
    },
    {
      "cell_type": "markdown",
      "metadata": {
        "id": "C0lCh-1SXLhx",
        "colab_type": "text"
      },
      "source": [
        "**1.3 View headlines**"
      ]
    },
    {
      "cell_type": "code",
      "metadata": {
        "id": "OSJq-lRn3MIh",
        "colab_type": "code",
        "outputId": "41b770af-1c06-459c-fdeb-fbcf90905eff",
        "colab": {
          "base_uri": "https://localhost:8080/",
          "height": 357
        }
      },
      "source": [
        "# Iterate over the allheadlines list and print each headline\n",
        "for hl in allheadlines:\n",
        "    print(hl)"
      ],
      "execution_count": 0,
      "outputs": [
        {
          "output_type": "stream",
          "text": [
            "엠마우스생명과학 운영성과를 업데이트하여 공개\n",
            "Atlantic Union Bankshares Corporation Prices $150 Million Preferred Stock Depositary Share Offering\n",
            "HealthEquity Reports First Quarter Ended April 30, 2020 Financial Results\n",
            "Sientra to Present at the William Blair 40th Annual Growth Stock Conference\n",
            "Worthington Industries to Webcast Discussion of Fourth Quarter 2020 and Fiscal Year-End Results on June 25\n",
            "Marinus Pharmaceuticals Announces Closing of $46 Million Public Offering of Common Stock Including Full Exercise of Underwriters’ Option to Purchase Additional Shares\n",
            "Pura Vida Bracelets Partners With Hectic Ltd. to Expand Distribution in Europe\n",
            "Kforce Updates Second Quarter Revenue Trends Ahead of Its Presentation at the Robert W. Baird Conference on June 3rd\n",
            "Iovance Biotherapeutics, Inc. Announces Closing of $603.7 Million Common Stock Public Offering\n",
            "Capital Southwest Supports Osceola Capital’s Recapitalization of Central Medical Group\n",
            "MarketAxess Announces Monthly Volume Statistics for May 2020\n",
            "UPDATE - CalciMedica Appoints Robert N. Wilson as Co-Chairman of the Board of Directors and Eric W. Roberts as Vice Chairman\n",
            "Exxe Group Inc. Announces Public Spin-off Strategy to Create Value for Shareholders\n",
            "ROSEN: A GLOBALLY RECOGNIZED LAW FIRM, Reminds Carnival Corporation & Plc Investors of Important Deadline in Securities Class Action; Encourages Investors with Losses in Excess of $100K to Contact the Firm – CCL, CUK\n",
            "HqO Launches “HqOS,” a Pioneering Operating System for Commercial Office Buildings\n",
            "NCLA Asks U.S. District Court for New Jersey to Stop Governor’s Abuse of Emergency Powers\n",
            "New IPC Video Explains Electronics Manufacturing’s Importance in Evocative, People-Centered Language and Imagery\n",
            "The Goodly Company and Doc of Detox Offer Chemical-Free Humic and Fulvic Supplements to Combat a Nutrient-Starved World\n",
            "Lydall Invests in New Fine Fiber Meltblown Production Line to Meet Rising Global Face Mask Demand\n",
            "Sandcastle Community Management Announces Michael Pryor as Controller\n"
          ],
          "name": "stdout"
        }
      ]
    },
    {
      "cell_type": "markdown",
      "metadata": {
        "id": "h3RZyNXaXVJp",
        "colab_type": "text"
      },
      "source": [
        "**1.3 View news summaries**\n"
      ]
    },
    {
      "cell_type": "code",
      "metadata": {
        "id": "s-vPXQ3i-h7f",
        "colab_type": "code",
        "outputId": "c0417bdc-17d8-4092-a8db-d1334f006e3c",
        "colab": {
          "base_uri": "https://localhost:8080/",
          "height": 377
        }
      },
      "source": [
        "# Iterate over the summaries list and print each summary\n",
        "# TODO: see if HTML chars can be removed\n",
        "for s in summaries:\n",
        "    print(s)"
      ],
      "execution_count": 0,
      "outputs": [
        {
          "output_type": "stream",
          "text": [
            "<p align=\"justify\">캘리포니아주 토랜스, June  03, 2020  (GLOBE NEWSWIRE) -- <strong>겸상적혈구질환 치료의 선두주자 엠마우스생명과학 (“엠마우스”, OTCQB: EMMA)</strong>은 2019년 12월 31일 연말결산 10-K 보고서 및 2020년 1분기 10-Q 보고서를 미국 증권거래위원회에 공시하기 전, 오늘 운영성과를 업데이트하여 공개했습니다.<br></p>\n",
            "<p align=\"left\">RICHMOND, Va., June  02, 2020  (GLOBE NEWSWIRE) -- Atlantic Union Bankshares Corporation (the “Company”) today announced the pricing of an offering (the “Offering”) of 6,000,000 Depositary Shares, each representing a 1/400<sup>th</sup> ownership interest in a share of its 6.875% Perpetual Non-Cumulative Preferred Stock, Series A, par value $10.00 per share (“Series A preferred stock”), with a liquidation preference of $10,000 per share of Series A preferred stock (equivalent to $25 per Depositary Share), at an aggregate offering price of $150 million. In connection with the Offering, the Company has granted the underwriters an option for 30 days to purchase up to an additional 900,000 Depositary Shares. <br></p>\n",
            "<p align=\"left\"><strong>Highlights of the first quarter include:</strong><br></p>\n",
            "<p align=\"justify\">SANTA BARBARA, Calif., June  02, 2020  (GLOBE NEWSWIRE) -- Sientra, Inc. (NASDAQ: SIEN), a medical aesthetics company, announced today that members of management will participate in a virtual fireside chat at the William Blair 40th Annual Growth Stock Conference. The fireside chat will take place on Tuesday, June 9, 2020 at 2:00 p.m. CDT.<br></p>\n",
            "<p align=\"left\">COLUMBUS, Ohio, June  02, 2020  (GLOBE NEWSWIRE) -- Worthington Industries, Inc. (NYSE:WOR) plans to release its fourth quarter and year end results before the market opens on Thursday, June 25, 2020.  The Company will webcast a live discussion of these results at 10:30 a.m. ET that morning.  The webcast will be available at <u><a href=\"https://www.globenewswire.com/Tracker?data=rgL2_niftqj_bSGR7vvjHbhlCoZJ0VtCZsFPtRlbOM2NIbnEzSiVBu4R16roTUQk4WdiLHwd_YLj522VwcgtoEEsQxIm56ArHDjJAwX4EMME3PXMKWhM1cods4ZhjAh2\" rel=\"nofollow\" target=\"_blank\" title=\"\"><u>www.WorthingtonIndustries.com</u></a></u> and will be archived for one year. <br></p>\n",
            "<p align=\"justify\">RADNOR, Pa., June  02, 2020  (GLOBE NEWSWIRE) -- Marinus Pharmaceuticals, Inc. (NASDAQ: MRNS), (“Marinus” or the “Company”) today announced the closing of an underwritten public offering of 18,400,000 shares of common stock at a public offering price of $2.50 per share, including the exercise in full by the underwriters of their option to purchase up to 2,400,000 additional shares of common stock. The offering raised gross proceeds of approximately $46 million, before deducting underwriting discounts and commissions and other offering expenses payable by the Company.<br></p>\n",
            "<p align=\"left\">LA JOLLA, Calif., June  02, 2020  (GLOBE NEWSWIRE) -- Pura Vida Bracelets (“Pura Vida”), the La Jolla, California-based digitally native jewelry and lifestyle accessories brand, today announced its partnership with European distributor Hectic Ltd. (“Hectic”).  Hectic will be responsible for the sales, marketing, and distribution of Pura Vida products for wholesale accounts throughout Europe.<br></p>\n",
            "<p align=\"justify\">TAMPA, Fla., June  02, 2020  (GLOBE NEWSWIRE) -- Kforce Inc. (NASDAQ: KFRC) today provided an update to its revenue trends ahead of its scheduled presentation at Baird’s 2020 Virtual Global Consumer, Technology &amp; Services Conference on June 3, 2020. Kforce’s Technology Flex and FA Flex revenues are down approximately 2% and 22%, respectively, year-over-year on a quarter-to-date basis as of the most recent week. Based on recent trends, Kforce now expects revenues and earnings per share to exceed analyst consensus estimates for the second quarter.<br></p>\n",
            "Offering Includes Exercise in Full of the Underwriters’ Option to Purchase an Additional 2.5 Million Shares of Common Stock <pre>Offering Includes Exercise in Full of the Underwriters’ Option to Purchase an Additional 2.5 Million Shares of Common Stock</pre>\n",
            "<p align=\"justify\">DALLAS, June  02, 2020  (GLOBE NEWSWIRE) -- Capital Southwest Corporation (“Capital Southwest,” “CSWC” or the “Company”) (Nasdaq: CSWC), an internally managed business development company focused on providing flexible financing solutions to support the acquisition and growth of middle market businesses, announced today that it supported Osceola Capital’s (“Osceola”) recapitalization of Central Medical Group (“CMG” or the “Company”) with a senior secured first lien term loan, revolver and capex line, as well as a minority equity investment.  Capital Southwest led the financing and will act as the sole administrative agent on the credit facilities.<br></p>\n",
            "<p align=\"justify\">NEW YORK, June  02, 2020  (GLOBE NEWSWIRE) -- MarketAxess Holdings Inc. (Nasdaq: MKTX), the operator of a leading electronic trading platform for fixed-income securities, and the provider of market data and post-trade services for the global fixed-income markets, today announced monthly trading volume for May 2020 of $519.7 billion consisting of $229.3 billion in credit volume and $290.5 billion in rates volume.</p>\n",
            "<p align=\"justify\">LA JOLLA, Calif., June  02, 2020  (GLOBE NEWSWIRE) -- CalciMedica Inc. (“CalciMedica” or the “Company\"), a clinical-stage biotechnology company targeting calcium release-activated calcium (CRAC) channels for the treatment of acute and severe inflammatory diseases including acute viral pneumonia in COVID-19 patients, today announced the appointment of Robert N. Wilson, a former vice chairman of the Johnson &amp; Johnson board, to the Company’s board of directors as co-chairman with current board chairman, Robert McNeil, Ph.D. In addition, board member Eric W. Roberts has been named Vice Chairman of the Board and Chairman of the Strategic Transactions and Finance Committee.</p>\n",
            "Upgraded Strategy Seeks to Quickly Monetize Holdings Through Spin-offs in Public Markets <pre>Upgraded Strategy Seeks to Quickly Monetize Holdings Through Spin-offs in Public Markets</pre>\n",
            "<p align=\"justify\">NEW YORK, June  02, 2020  (GLOBE NEWSWIRE) -- Rosen Law Firm, a global investor rights law firm, reminds purchasers of the securities of Carnival Corporation &amp; Plc (NYSE: CCL, CUK) between January 28, 2020 and May 1, 2020, inclusive (the “Class Period”) of the important July 27, 2020 deadline in the securities class action. The lawsuit seeks to recover damages for Carnival investors under the federal securities laws.<br></p>\n",
            "Breakthrough innovation enables landlords to actively manage, facilitate, and optimize technologies across all aspects of an office building <pre>Breakthrough innovation enables landlords to actively manage, facilitate, and optimize technologies across all aspects of an office building</pre>\n",
            "Matthew Johnson v. Governor Philip D. Murphy, et al. <pre>Matthew Johnson v. Governor Philip D. Murphy, et al.</pre>\n",
            "<p>BANNOCKBURN, Ill., USA,, June  02, 2020  (GLOBE NEWSWIRE) -- A <a href=\"https://www.globenewswire.com/Tracker?data=ytUBSQbNGRl-u1OBrEyvZo117_M6WzV3Iov9uSqF12nzVVOxJyEwQVw2WarVpPlefYsvIZHKI0XD5vo3NPq6Ug==\" rel=\"nofollow\" target=\"_blank\" title=\"new video\">new video</a> from IPC, the global electronics manufacturing association, shows viewers the many ways “our lives and our communities depend on electronics” and invites them to learn more about “the crucial industry that’s at the heart of the modern world.”    </p>\n",
            "<p>BOCA RATON, FL, June  02, 2020  (GLOBE NEWSWIRE) -- As crop yields increased because of advanced farming techniques, an interesting phenomenon happened.</p>\n",
            "With Installation of New Asset, Lydall’s Specialty Filtration Media to Enable Production of One Billion Face Masks per Year <pre>With Installation of New Asset, Lydall’s Specialty Filtration Media to Enable Production of One Billion Face Masks per Year</pre>\n",
            "<p>Naples, FL, June  02, 2020  (GLOBE NEWSWIRE) -- <a href=\"https://www.globenewswire.com/Tracker?data=uAgkfhmT7q7BBUENfITP8XWMLuM-Wc3w1FLcHjo6DeROFOOvly22-Q0dd2Mi_iu8MR5mnewmQiidkRS89vDidSr2Pasg0QdDxqtNZxPUwrJDhUc_C2AHPLmyp_RYDnaUl6hrxEhju_-klt5fuoIcJTWpkvmJB-u4PUP8gjCH61g=\" rel=\"nofollow\" target=\"_blank\" title=\"Sandcastle Community Management\">Sandcastle Community Management</a>, an <a href=\"https://www.globenewswire.com/Tracker?data=KRqPpiWB35jZ7aMar1dw3Hh8RTb24bIf0VBYs399vrQ2Ty6UbieFRTCnQJc4KAASuuTfEhJmNyViupqLqnredw==\" rel=\"nofollow\" target=\"_blank\" title=\"Associa\">Associa</a>® company,announces the recent hiring of Michael Pryor to controller. </p>\n"
          ],
          "name": "stdout"
        }
      ]
    },
    {
      "cell_type": "markdown",
      "metadata": {
        "id": "8bNJz6tuXcv5",
        "colab_type": "text"
      },
      "source": [
        "**2. Named Entity Extraction (NER) - make an API calls to Thomson Reutersr Intelligent Tagging (TRIT) with news headline content**"
      ]
    },
    {
      "cell_type": "code",
      "metadata": {
        "id": "GDFsk2C2QU1v",
        "colab_type": "code",
        "outputId": "97163348-20dd-44e5-a536-c7c858ec9d87",
        "colab": {
          "base_uri": "https://localhost:8080/",
          "height": 34
        }
      },
      "source": [
        "# Define sample content to be queried\n",
        "contentText = allheadlines[8]\n",
        "print(contentText)"
      ],
      "execution_count": 0,
      "outputs": [
        {
          "output_type": "stream",
          "text": [
            "Iovance Biotherapeutics, Inc. Announces Closing of $603.7 Million Common Stock Public Offering\n"
          ],
          "name": "stdout"
        }
      ]
    },
    {
      "cell_type": "markdown",
      "metadata": {
        "id": "9CsJn6LuXzln",
        "colab_type": "text"
      },
      "source": [
        "**2.1 Query TRIT / OpenCalais JSON API**"
      ]
    },
    {
      "cell_type": "code",
      "metadata": {
        "id": "hsV7cfPv3MIn",
        "colab_type": "code",
        "colab": {}
      },
      "source": [
        "\n",
        "headType = \"text/raw\"\n",
        "token = 'oSyQfYcRShExGJmJPXRgr4kOFAsIHqoJ'\n",
        "url = \"https://api-eit.refinitiv.com/permid/calais\"\n",
        "payload = contentText.encode('utf8')\n",
        "headers = {\n",
        "    'Content-Type': headType,\n",
        "    'X-AG-Access-Token': token,\n",
        "    'outputformat': \"application/json\"\n",
        "    }\n",
        "\n",
        "#  The daily limit is 5,000 requests, and the concurrent limit varies by API from 1-4 calls per second. \n",
        "TRITResponse = requests.request(\"POST\", url, data=payload, headers=headers)\n",
        "# Load content into JSON object\n",
        "JSONResponse = json.loads(TRITResponse.text)\n",
        "print(json.dumps(JSONResponse, indent=4, sort_keys=True))"
      ],
      "execution_count": 0,
      "outputs": []
    },
    {
      "cell_type": "markdown",
      "metadata": {
        "id": "0jeEgr3jVpcq",
        "colab_type": "text"
      },
      "source": [
        "**2.2 Get entities in news**"
      ]
    },
    {
      "cell_type": "code",
      "metadata": {
        "id": "V6hlzkMrRBQm",
        "colab_type": "code",
        "outputId": "c80264b2-666f-4b6d-828e-b9a248876eb7",
        "colab": {
          "base_uri": "https://localhost:8080/",
          "height": 68
        }
      },
      "source": [
        "#Get Entities\n",
        "print('====Entities====')\n",
        "print('Type, Name')\n",
        "\n",
        "for key in JSONResponse:\n",
        "    if ('_typeGroup' in JSONResponse[key]):\n",
        "        if JSONResponse[key]['_typeGroup'] == 'entities':\n",
        "            print(JSONResponse[key]['_type'] + \", \" + JSONResponse[key]['name'])"
      ],
      "execution_count": 0,
      "outputs": [
        {
          "output_type": "stream",
          "text": [
            "====Entities====\n",
            "Type, Name\n",
            "Company, Iovance Biotherapeutics Inc.\n"
          ],
          "name": "stdout"
        }
      ]
    },
    {
      "cell_type": "markdown",
      "metadata": {
        "id": "Xg4sJ-I5V1Uf",
        "colab_type": "text"
      },
      "source": [
        "**2.3 Get RIC code for entity**"
      ]
    },
    {
      "cell_type": "code",
      "metadata": {
        "id": "8_AWYjwDRxgp",
        "colab_type": "code",
        "outputId": "96e27265-91f1-4f71-f5f8-bf3bbd3dd5ac",
        "colab": {
          "base_uri": "https://localhost:8080/",
          "height": 68
        }
      },
      "source": [
        "#Get RIC code\n",
        "\n",
        "print('====RIC====')\n",
        "print('RIC')\n",
        "\n",
        "for entity in JSONResponse:\n",
        "    for info in JSONResponse[entity]:\n",
        "        if (info =='resolutions'):\n",
        "            for companyinfo in (JSONResponse[entity][info]):\n",
        "                if 'primaryric' in companyinfo:\n",
        "                    symbol = companyinfo['primaryric']\n",
        "                    print(symbol)"
      ],
      "execution_count": 0,
      "outputs": [
        {
          "output_type": "stream",
          "text": [
            "====RIC====\n",
            "RIC\n",
            "IOVA.OQ\n"
          ],
          "name": "stdout"
        }
      ]
    },
    {
      "cell_type": "markdown",
      "metadata": {
        "id": "EVsAt1HeWALK",
        "colab_type": "text"
      },
      "source": [
        "**2.4 Get topics for the news item**"
      ]
    },
    {
      "cell_type": "code",
      "metadata": {
        "id": "jj4knjVNagMI",
        "colab_type": "code",
        "outputId": "c9d79c30-af38-4f47-fcdf-187a43d6c235",
        "colab": {
          "base_uri": "https://localhost:8080/",
          "height": 119
        }
      },
      "source": [
        "#Print Header\n",
        "print(symbol)\n",
        "print('====Topics====')\n",
        "print('Topics, Score')\n",
        "\n",
        "for key in JSONResponse:\n",
        "    if ('_typeGroup' in JSONResponse[key]):\n",
        "        if JSONResponse[key]['_typeGroup'] == 'topics':\n",
        "            print(JSONResponse[key]['name'] + \", \" + str(JSONResponse[key]['score']))"
      ],
      "execution_count": 0,
      "outputs": [
        {
          "output_type": "stream",
          "text": [
            "IOVA.OQ\n",
            "====Topics====\n",
            "Topics, Score\n",
            "Business_Finance, 1\n",
            "Health_Medical_Pharma, 0.952\n",
            "Religion_Belief, 0.922\n"
          ],
          "name": "stdout"
        }
      ]
    },
    {
      "cell_type": "markdown",
      "metadata": {
        "id": "SUfjk4NAYNPw",
        "colab_type": "text"
      },
      "source": [
        "**4. Sentiment Analysis**"
      ]
    },
    {
      "cell_type": "code",
      "metadata": {
        "id": "-1KUfYDi3MIq",
        "colab_type": "code",
        "colab": {}
      },
      "source": [
        "# Define function to be used for text senitments analysis \n",
        "def get_sentiment(txt):\n",
        "    analyzer = SentimentIntensityAnalyzer()\n",
        "    vs = analyzer.polarity_scores(txt)\n",
        "    print(vs)\n",
        "    return vs['compound']"
      ],
      "execution_count": 0,
      "outputs": []
    },
    {
      "cell_type": "code",
      "metadata": {
        "id": "whiyVb30R4Ys",
        "colab_type": "code",
        "outputId": "a43af5a8-c4d7-441d-b6d6-6c15d96462e9",
        "colab": {
          "base_uri": "https://localhost:8080/",
          "height": 139
        }
      },
      "source": [
        "print('headline: ', allheadlines[1])\n",
        "print('headline sentiment: ', get_sentiment(allheadlines[1]))\n",
        "print('summary: ', summaries[1])\n",
        "print('summary sentiment: ', get_sentiment(summaries[1]))"
      ],
      "execution_count": 0,
      "outputs": [
        {
          "output_type": "stream",
          "text": [
            "headline:  Atlantic Union Bankshares Corporation Prices $150 Million Preferred Stock Depositary Share Offering\n",
            "{'neg': 0.0, 'neu': 0.833, 'pos': 0.167, 'compound': 0.296}\n",
            "headline sentiment:  0.296\n",
            "summary:  <p align=\"left\">RICHMOND, Va., June  02, 2020  (GLOBE NEWSWIRE) -- Atlantic Union Bankshares Corporation (the “Company”) today announced the pricing of an offering (the “Offering”) of 6,000,000 Depositary Shares, each representing a 1/400<sup>th</sup> ownership interest in a share of its 6.875% Perpetual Non-Cumulative Preferred Stock, Series A, par value $10.00 per share (“Series A preferred stock”), with a liquidation preference of $10,000 per share of Series A preferred stock (equivalent to $25 per Depositary Share), at an aggregate offering price of $150 million. In connection with the Offering, the Company has granted the underwriters an option for 30 days to purchase up to an additional 900,000 Depositary Shares. <br></p>\n",
            "{'neg': 0.0, 'neu': 0.828, 'pos': 0.172, 'compound': 0.9485}\n",
            "summary sentiment:  0.9485\n"
          ],
          "name": "stdout"
        }
      ]
    },
    {
      "cell_type": "markdown",
      "metadata": {
        "id": "_JzOdMSyev-g",
        "colab_type": "text"
      },
      "source": [
        "**5. Get historical EOD price data**"
      ]
    },
    {
      "cell_type": "code",
      "metadata": {
        "id": "ygRBdEJwe0Sc",
        "colab_type": "code",
        "outputId": "2656d7f2-4f00-4926-c088-967a1ec94e96",
        "colab": {
          "base_uri": "https://localhost:8080/",
          "height": 717
        }
      },
      "source": [
        "symbol = 'MSFT'\n",
        "data = yf.download(symbol, interval = '1m', start=\"2020-05-20\", end=\"2020-05-21\")\n",
        "data.head(20)\n"
      ],
      "execution_count": 0,
      "outputs": [
        {
          "output_type": "stream",
          "text": [
            "\r[*********************100%***********************]  1 of 1 completed\n"
          ],
          "name": "stdout"
        },
        {
          "output_type": "execute_result",
          "data": {
            "text/html": [
              "<div>\n",
              "<style scoped>\n",
              "    .dataframe tbody tr th:only-of-type {\n",
              "        vertical-align: middle;\n",
              "    }\n",
              "\n",
              "    .dataframe tbody tr th {\n",
              "        vertical-align: top;\n",
              "    }\n",
              "\n",
              "    .dataframe thead th {\n",
              "        text-align: right;\n",
              "    }\n",
              "</style>\n",
              "<table border=\"1\" class=\"dataframe\">\n",
              "  <thead>\n",
              "    <tr style=\"text-align: right;\">\n",
              "      <th></th>\n",
              "      <th>Open</th>\n",
              "      <th>High</th>\n",
              "      <th>Low</th>\n",
              "      <th>Close</th>\n",
              "      <th>Adj Close</th>\n",
              "      <th>Volume</th>\n",
              "    </tr>\n",
              "    <tr>\n",
              "      <th>Datetime</th>\n",
              "      <th></th>\n",
              "      <th></th>\n",
              "      <th></th>\n",
              "      <th></th>\n",
              "      <th></th>\n",
              "      <th></th>\n",
              "    </tr>\n",
              "  </thead>\n",
              "  <tbody>\n",
              "    <tr>\n",
              "      <th>2020-05-20 09:30:00-04:00</th>\n",
              "      <td>184.809998</td>\n",
              "      <td>184.990005</td>\n",
              "      <td>184.520004</td>\n",
              "      <td>184.910004</td>\n",
              "      <td>184.910004</td>\n",
              "      <td>771913</td>\n",
              "    </tr>\n",
              "    <tr>\n",
              "      <th>2020-05-20 09:31:00-04:00</th>\n",
              "      <td>184.899994</td>\n",
              "      <td>184.929993</td>\n",
              "      <td>184.729996</td>\n",
              "      <td>184.850006</td>\n",
              "      <td>184.850006</td>\n",
              "      <td>132685</td>\n",
              "    </tr>\n",
              "    <tr>\n",
              "      <th>2020-05-20 09:32:00-04:00</th>\n",
              "      <td>184.860107</td>\n",
              "      <td>185.119995</td>\n",
              "      <td>184.839996</td>\n",
              "      <td>184.869995</td>\n",
              "      <td>184.869995</td>\n",
              "      <td>197000</td>\n",
              "    </tr>\n",
              "    <tr>\n",
              "      <th>2020-05-20 09:33:00-04:00</th>\n",
              "      <td>184.910004</td>\n",
              "      <td>184.910004</td>\n",
              "      <td>184.500000</td>\n",
              "      <td>184.690002</td>\n",
              "      <td>184.690002</td>\n",
              "      <td>157502</td>\n",
              "    </tr>\n",
              "    <tr>\n",
              "      <th>2020-05-20 09:34:00-04:00</th>\n",
              "      <td>184.710007</td>\n",
              "      <td>184.779999</td>\n",
              "      <td>184.520004</td>\n",
              "      <td>184.660004</td>\n",
              "      <td>184.660004</td>\n",
              "      <td>151242</td>\n",
              "    </tr>\n",
              "    <tr>\n",
              "      <th>2020-05-20 09:35:00-04:00</th>\n",
              "      <td>184.649994</td>\n",
              "      <td>185.020004</td>\n",
              "      <td>184.639999</td>\n",
              "      <td>184.929993</td>\n",
              "      <td>184.929993</td>\n",
              "      <td>193629</td>\n",
              "    </tr>\n",
              "    <tr>\n",
              "      <th>2020-05-20 09:36:00-04:00</th>\n",
              "      <td>184.949997</td>\n",
              "      <td>185.020004</td>\n",
              "      <td>184.830002</td>\n",
              "      <td>184.853104</td>\n",
              "      <td>184.853104</td>\n",
              "      <td>146192</td>\n",
              "    </tr>\n",
              "    <tr>\n",
              "      <th>2020-05-20 09:37:00-04:00</th>\n",
              "      <td>184.839996</td>\n",
              "      <td>185.000000</td>\n",
              "      <td>184.820007</td>\n",
              "      <td>184.910004</td>\n",
              "      <td>184.910004</td>\n",
              "      <td>78569</td>\n",
              "    </tr>\n",
              "    <tr>\n",
              "      <th>2020-05-20 09:38:00-04:00</th>\n",
              "      <td>184.916595</td>\n",
              "      <td>185.000000</td>\n",
              "      <td>184.830002</td>\n",
              "      <td>184.880005</td>\n",
              "      <td>184.880005</td>\n",
              "      <td>86758</td>\n",
              "    </tr>\n",
              "    <tr>\n",
              "      <th>2020-05-20 09:39:00-04:00</th>\n",
              "      <td>184.860001</td>\n",
              "      <td>185.029999</td>\n",
              "      <td>184.860001</td>\n",
              "      <td>184.990005</td>\n",
              "      <td>184.990005</td>\n",
              "      <td>110310</td>\n",
              "    </tr>\n",
              "    <tr>\n",
              "      <th>2020-05-20 09:40:00-04:00</th>\n",
              "      <td>185.000000</td>\n",
              "      <td>185.294998</td>\n",
              "      <td>184.869995</td>\n",
              "      <td>185.289993</td>\n",
              "      <td>185.289993</td>\n",
              "      <td>154884</td>\n",
              "    </tr>\n",
              "    <tr>\n",
              "      <th>2020-05-20 09:41:00-04:00</th>\n",
              "      <td>185.276398</td>\n",
              "      <td>185.289993</td>\n",
              "      <td>185.009995</td>\n",
              "      <td>185.104996</td>\n",
              "      <td>185.104996</td>\n",
              "      <td>124164</td>\n",
              "    </tr>\n",
              "    <tr>\n",
              "      <th>2020-05-20 09:42:00-04:00</th>\n",
              "      <td>185.110001</td>\n",
              "      <td>185.149994</td>\n",
              "      <td>184.914307</td>\n",
              "      <td>185.009995</td>\n",
              "      <td>185.009995</td>\n",
              "      <td>153618</td>\n",
              "    </tr>\n",
              "    <tr>\n",
              "      <th>2020-05-20 09:43:00-04:00</th>\n",
              "      <td>185.009995</td>\n",
              "      <td>185.074997</td>\n",
              "      <td>184.949997</td>\n",
              "      <td>184.955002</td>\n",
              "      <td>184.955002</td>\n",
              "      <td>98005</td>\n",
              "    </tr>\n",
              "    <tr>\n",
              "      <th>2020-05-20 09:44:00-04:00</th>\n",
              "      <td>184.949997</td>\n",
              "      <td>185.039902</td>\n",
              "      <td>184.828705</td>\n",
              "      <td>185.009995</td>\n",
              "      <td>185.009995</td>\n",
              "      <td>95770</td>\n",
              "    </tr>\n",
              "    <tr>\n",
              "      <th>2020-05-20 09:45:00-04:00</th>\n",
              "      <td>185.013794</td>\n",
              "      <td>185.139999</td>\n",
              "      <td>184.949997</td>\n",
              "      <td>184.960007</td>\n",
              "      <td>184.960007</td>\n",
              "      <td>138686</td>\n",
              "    </tr>\n",
              "    <tr>\n",
              "      <th>2020-05-20 09:46:00-04:00</th>\n",
              "      <td>184.949997</td>\n",
              "      <td>185.029999</td>\n",
              "      <td>184.861694</td>\n",
              "      <td>185.000000</td>\n",
              "      <td>185.000000</td>\n",
              "      <td>97045</td>\n",
              "    </tr>\n",
              "    <tr>\n",
              "      <th>2020-05-20 09:47:00-04:00</th>\n",
              "      <td>184.990005</td>\n",
              "      <td>185.089996</td>\n",
              "      <td>184.889999</td>\n",
              "      <td>184.979996</td>\n",
              "      <td>184.979996</td>\n",
              "      <td>121941</td>\n",
              "    </tr>\n",
              "    <tr>\n",
              "      <th>2020-05-20 09:48:00-04:00</th>\n",
              "      <td>184.990005</td>\n",
              "      <td>185.007507</td>\n",
              "      <td>184.929993</td>\n",
              "      <td>184.970001</td>\n",
              "      <td>184.970001</td>\n",
              "      <td>59373</td>\n",
              "    </tr>\n",
              "    <tr>\n",
              "      <th>2020-05-20 09:49:00-04:00</th>\n",
              "      <td>184.959793</td>\n",
              "      <td>185.009995</td>\n",
              "      <td>184.750000</td>\n",
              "      <td>184.750000</td>\n",
              "      <td>184.750000</td>\n",
              "      <td>98236</td>\n",
              "    </tr>\n",
              "  </tbody>\n",
              "</table>\n",
              "</div>"
            ],
            "text/plain": [
              "                                 Open        High  ...   Adj Close  Volume\n",
              "Datetime                                           ...                    \n",
              "2020-05-20 09:30:00-04:00  184.809998  184.990005  ...  184.910004  771913\n",
              "2020-05-20 09:31:00-04:00  184.899994  184.929993  ...  184.850006  132685\n",
              "2020-05-20 09:32:00-04:00  184.860107  185.119995  ...  184.869995  197000\n",
              "2020-05-20 09:33:00-04:00  184.910004  184.910004  ...  184.690002  157502\n",
              "2020-05-20 09:34:00-04:00  184.710007  184.779999  ...  184.660004  151242\n",
              "2020-05-20 09:35:00-04:00  184.649994  185.020004  ...  184.929993  193629\n",
              "2020-05-20 09:36:00-04:00  184.949997  185.020004  ...  184.853104  146192\n",
              "2020-05-20 09:37:00-04:00  184.839996  185.000000  ...  184.910004   78569\n",
              "2020-05-20 09:38:00-04:00  184.916595  185.000000  ...  184.880005   86758\n",
              "2020-05-20 09:39:00-04:00  184.860001  185.029999  ...  184.990005  110310\n",
              "2020-05-20 09:40:00-04:00  185.000000  185.294998  ...  185.289993  154884\n",
              "2020-05-20 09:41:00-04:00  185.276398  185.289993  ...  185.104996  124164\n",
              "2020-05-20 09:42:00-04:00  185.110001  185.149994  ...  185.009995  153618\n",
              "2020-05-20 09:43:00-04:00  185.009995  185.074997  ...  184.955002   98005\n",
              "2020-05-20 09:44:00-04:00  184.949997  185.039902  ...  185.009995   95770\n",
              "2020-05-20 09:45:00-04:00  185.013794  185.139999  ...  184.960007  138686\n",
              "2020-05-20 09:46:00-04:00  184.949997  185.029999  ...  185.000000   97045\n",
              "2020-05-20 09:47:00-04:00  184.990005  185.089996  ...  184.979996  121941\n",
              "2020-05-20 09:48:00-04:00  184.990005  185.007507  ...  184.970001   59373\n",
              "2020-05-20 09:49:00-04:00  184.959793  185.009995  ...  184.750000   98236\n",
              "\n",
              "[20 rows x 6 columns]"
            ]
          },
          "metadata": {
            "tags": []
          },
          "execution_count": 16
        }
      ]
    },
    {
      "cell_type": "code",
      "metadata": {
        "id": "HUKKSaMgmvyK",
        "colab_type": "code",
        "colab": {}
      },
      "source": [
        ""
      ],
      "execution_count": 0,
      "outputs": []
    },
    {
      "cell_type": "markdown",
      "metadata": {
        "id": "x8AaR_KX6eK6",
        "colab_type": "text"
      },
      "source": [
        "**Resources**\n",
        "\n",
        "* https://developers.refinitiv.com/open-permid/intelligent-tagging-restful-apiquick-start\n",
        "* https://developers.refinitiv.com/article/intelligent-tagging-extract-information-api-response\n",
        "* https://permid.org/faq\n"
      ]
    }
  ]
}