{
  "nbformat": 4,
  "nbformat_minor": 0,
  "metadata": {
    "kernelspec": {
      "display_name": "Python 3",
      "language": "python",
      "name": "python3"
    },
    "language_info": {
      "codemirror_mode": {
        "name": "ipython",
        "version": 3
      },
      "file_extension": ".py",
      "mimetype": "text/x-python",
      "name": "python",
      "nbconvert_exporter": "python",
      "pygments_lexer": "ipython3",
      "version": "3.6.8"
    },
    "colab": {
      "name": "intro-narrative-api.ipynb",
      "provenance": [],
      "include_colab_link": true
    }
  },
  "cells": [
    {
      "cell_type": "markdown",
      "metadata": {
        "id": "view-in-github",
        "colab_type": "text"
      },
      "source": [
        "<a href=\"https://colab.research.google.com/github/kaljuvee/datascience/blob/master/notebooks/nlg/intro_narrative_api.ipynb\" target=\"_parent\"><img src=\"https://colab.research.google.com/assets/colab-badge.svg\" alt=\"Open In Colab\"/></a>"
      ]
    },
    {
      "cell_type": "markdown",
      "metadata": {
        "id": "Z5eS57FvijTU",
        "colab_type": "text"
      },
      "source": [
        "Introduction to NLG's Narrative API\n",
        "===================================\n",
        "\n",
        "This notebook is an introduction to Gramex NLG's Narrative API. Here we will learn how to create data-driven narratives with the NLG module, by going over the building blocks of the API.\n",
        "\n",
        "Getting Started\n",
        "---------------\n",
        "\n",
        "If the NLG module is not installed, install it as follows:\n",
        "\n",
        "```bash\n",
        "$ pip install nlg\n",
        "```"
      ]
    },
    {
      "cell_type": "code",
      "metadata": {
        "id": "hXzt65CUip-F",
        "colab_type": "code",
        "outputId": "d5048a00-6aad-4611-d474-740787ca8458",
        "colab": {
          "base_uri": "https://localhost:8080/",
          "height": 1000
        }
      },
      "source": [
        "! pip install nlg --upgrade --no-cache-dir\n",
        "! pip install spacy --upgrade --no-cache-dir"
      ],
      "execution_count": 0,
      "outputs": [
        {
          "output_type": "stream",
          "text": [
            "Requirement already up-to-date: nlg in /usr/local/lib/python3.6/dist-packages (0.1.2)\n",
            "Requirement already satisfied, skipping upgrade: humanize in /usr/local/lib/python3.6/dist-packages (from nlg) (0.5.1)\n",
            "Requirement already satisfied, skipping upgrade: inflect in /usr/local/lib/python3.6/dist-packages (from nlg) (2.1.0)\n",
            "Requirement already satisfied, skipping upgrade: gramex in /usr/local/lib/python3.6/dist-packages (from nlg) (1.60.0)\n",
            "Collecting spacy==2.1.8\n",
            "\u001b[?25l  Downloading https://files.pythonhosted.org/packages/95/9c/afd55bb35cc03e4b3dadc41dd48bc26e0678b08d59f32411735c35bda550/spacy-2.1.8-cp36-cp36m-manylinux1_x86_64.whl (30.8MB)\n",
            "\u001b[K     |████████████████████████████████| 30.9MB 53.8MB/s \n",
            "\u001b[?25hRequirement already satisfied, skipping upgrade: crontab>=0.21 in /usr/local/lib/python3.6/dist-packages (from gramex->nlg) (0.22.8)\n",
            "Requirement already satisfied, skipping upgrade: selenium in /usr/local/lib/python3.6/dist-packages (from gramex->nlg) (3.141.0)\n",
            "Requirement already satisfied, skipping upgrade: seaborn in /usr/local/lib/python3.6/dist-packages (from gramex->nlg) (0.10.1)\n",
            "Requirement already satisfied, skipping upgrade: ldap3>=2.2.4 in /usr/local/lib/python3.6/dist-packages (from gramex->nlg) (2.7)\n",
            "Requirement already satisfied, skipping upgrade: pytest in /usr/local/lib/python3.6/dist-packages (from gramex->nlg) (3.6.4)\n",
            "Requirement already satisfied, skipping upgrade: pathtools>=0.1.1 in /usr/local/lib/python3.6/dist-packages (from gramex->nlg) (0.1.2)\n",
            "Requirement already satisfied, skipping upgrade: pyyaml>=5.1 in /usr/local/lib/python3.6/dist-packages (from gramex->nlg) (5.3.1)\n",
            "Requirement already satisfied, skipping upgrade: passlib>=1.6.5 in /usr/local/lib/python3.6/dist-packages (from gramex->nlg) (1.7.2)\n",
            "Requirement already satisfied, skipping upgrade: cachetools>=3.0.0 in /usr/local/lib/python3.6/dist-packages (from gramex->nlg) (3.1.1)\n",
            "Requirement already satisfied, skipping upgrade: jmespath in /usr/local/lib/python3.6/dist-packages (from gramex->nlg) (0.10.0)\n",
            "Requirement already satisfied, skipping upgrade: pymysql in /usr/local/lib/python3.6/dist-packages (from gramex->nlg) (0.9.3)\n",
            "Requirement already satisfied, skipping upgrade: pandas in /usr/local/lib/python3.6/dist-packages (from gramex->nlg) (1.0.4)\n",
            "Requirement already satisfied, skipping upgrade: shutilwhich>=1.1.0 in /usr/local/lib/python3.6/dist-packages (from gramex->nlg) (1.1.0)\n",
            "Requirement already satisfied, skipping upgrade: sqlitedict>=1.5.0 in /usr/local/lib/python3.6/dist-packages (from gramex->nlg) (1.6.0)\n",
            "Requirement already satisfied, skipping upgrade: diskcache>=2.8.3 in /usr/local/lib/python3.6/dist-packages (from gramex->nlg) (4.1.0)\n",
            "Requirement already satisfied, skipping upgrade: redis>=2.10.0 in /usr/local/lib/python3.6/dist-packages (from gramex->nlg) (3.5.3)\n",
            "Requirement already satisfied, skipping upgrade: cssselect in /usr/local/lib/python3.6/dist-packages (from gramex->nlg) (1.1.0)\n",
            "Requirement already satisfied, skipping upgrade: pathlib in /usr/local/lib/python3.6/dist-packages (from gramex->nlg) (1.0.1)\n",
            "Requirement already satisfied, skipping upgrade: h5py in /usr/local/lib/python3.6/dist-packages (from gramex->nlg) (2.10.0)\n",
            "Requirement already satisfied, skipping upgrade: watchdog>=0.8 in /usr/local/lib/python3.6/dist-packages (from gramex->nlg) (0.10.2)\n",
            "Requirement already satisfied, skipping upgrade: orderedattrdict>=1.4.3 in /usr/local/lib/python3.6/dist-packages (from gramex->nlg) (1.5.1)\n",
            "Requirement already satisfied, skipping upgrade: xlrd in /usr/local/lib/python3.6/dist-packages (from gramex->nlg) (1.1.0)\n",
            "Requirement already satisfied, skipping upgrade: tornado==5.1.1 in /usr/local/lib/python3.6/dist-packages (from gramex->nlg) (5.1.1)\n",
            "Requirement already satisfied, skipping upgrade: colorama in /usr/local/lib/python3.6/dist-packages (from gramex->nlg) (0.4.3)\n",
            "Requirement already satisfied, skipping upgrade: textblob in /usr/local/lib/python3.6/dist-packages (from gramex->nlg) (0.15.3)\n",
            "Requirement already satisfied, skipping upgrade: oauthlib>=1.1.2 in /usr/local/lib/python3.6/dist-packages (from gramex->nlg) (3.1.0)\n",
            "Requirement already satisfied, skipping upgrade: argh>=0.24.1 in /usr/local/lib/python3.6/dist-packages (from gramex->nlg) (0.26.2)\n",
            "Requirement already satisfied, skipping upgrade: psutil in /usr/local/lib/python3.6/dist-packages (from gramex->nlg) (5.4.8)\n",
            "Requirement already satisfied, skipping upgrade: tables in /usr/local/lib/python3.6/dist-packages (from gramex->nlg) (3.4.4)\n",
            "Requirement already satisfied, skipping upgrade: cron-descriptor in /usr/local/lib/python3.6/dist-packages (from gramex->nlg) (1.2.24)\n",
            "Requirement already satisfied, skipping upgrade: lxml in /usr/local/lib/python3.6/dist-packages (from gramex->nlg) (4.2.6)\n",
            "Requirement already satisfied, skipping upgrade: sqlalchemy in /usr/local/lib/python3.6/dist-packages (from gramex->nlg) (1.3.17)\n",
            "Requirement already satisfied, skipping upgrade: ipdb in /usr/local/lib/python3.6/dist-packages (from gramex->nlg) (0.13.2)\n",
            "Requirement already satisfied, skipping upgrade: setuptools>=16.0 in /usr/local/lib/python3.6/dist-packages (from gramex->nlg) (47.1.1)\n",
            "Requirement already satisfied, skipping upgrade: xmljson>=0.1.5 in /usr/local/lib/python3.6/dist-packages (from gramex->nlg) (0.2.1)\n",
            "Requirement already satisfied, skipping upgrade: joblib in /usr/local/lib/python3.6/dist-packages (from gramex->nlg) (0.15.1)\n",
            "Requirement already satisfied, skipping upgrade: boto3>=1.5 in /usr/local/lib/python3.6/dist-packages (from gramex->nlg) (1.13.23)\n",
            "Requirement already satisfied, skipping upgrade: colorlog>=2.7.0 in /usr/local/lib/python3.6/dist-packages (from gramex->nlg) (4.1.0)\n",
            "Requirement already satisfied, skipping upgrade: requests in /usr/local/lib/python3.6/dist-packages (from gramex->nlg) (2.23.0)\n",
            "Requirement already satisfied, skipping upgrade: markdown in /usr/local/lib/python3.6/dist-packages (from gramex->nlg) (3.2.2)\n",
            "Requirement already satisfied, skipping upgrade: matplotlib in /usr/local/lib/python3.6/dist-packages (from gramex->nlg) (3.2.1)\n",
            "Requirement already satisfied, skipping upgrade: six in /usr/local/lib/python3.6/dist-packages (from gramex->nlg) (1.12.0)\n",
            "Requirement already satisfied, skipping upgrade: python-pptx>=0.6.6 in /usr/local/lib/python3.6/dist-packages (from gramex->nlg) (0.6.18)\n",
            "Collecting thinc<7.1.0,>=7.0.8\n",
            "\u001b[?25l  Downloading https://files.pythonhosted.org/packages/18/a5/9ace20422e7bb1bdcad31832ea85c52a09900cd4a7ce711246bfb92206ba/thinc-7.0.8-cp36-cp36m-manylinux1_x86_64.whl (2.1MB)\n",
            "\u001b[K     |████████████████████████████████| 2.1MB 44.7MB/s \n",
            "\u001b[?25hCollecting blis<0.3.0,>=0.2.2\n",
            "\u001b[?25l  Downloading https://files.pythonhosted.org/packages/34/46/b1d0bb71d308e820ed30316c5f0a017cb5ef5f4324bcbc7da3cf9d3b075c/blis-0.2.4-cp36-cp36m-manylinux1_x86_64.whl (3.2MB)\n",
            "\u001b[K     |████████████████████████████████| 3.2MB 49.2MB/s \n",
            "\u001b[?25hCollecting preshed<2.1.0,>=2.0.1\n",
            "\u001b[?25l  Downloading https://files.pythonhosted.org/packages/20/93/f222fb957764a283203525ef20e62008675fd0a14ffff8cc1b1490147c63/preshed-2.0.1-cp36-cp36m-manylinux1_x86_64.whl (83kB)\n",
            "\u001b[K     |████████████████████████████████| 92kB 34.1MB/s \n",
            "\u001b[?25hRequirement already satisfied, skipping upgrade: cymem<2.1.0,>=2.0.2 in /usr/local/lib/python3.6/dist-packages (from spacy==2.1.8->nlg) (2.0.3)\n",
            "Requirement already satisfied, skipping upgrade: wasabi<1.1.0,>=0.2.0 in /usr/local/lib/python3.6/dist-packages (from spacy==2.1.8->nlg) (0.6.0)\n",
            "Requirement already satisfied, skipping upgrade: plac<1.0.0,>=0.9.6 in /usr/local/lib/python3.6/dist-packages (from spacy==2.1.8->nlg) (0.9.6)\n",
            "Requirement already satisfied, skipping upgrade: srsly<1.1.0,>=0.0.6 in /usr/local/lib/python3.6/dist-packages (from spacy==2.1.8->nlg) (1.0.2)\n",
            "Requirement already satisfied, skipping upgrade: numpy>=1.15.0 in /usr/local/lib/python3.6/dist-packages (from spacy==2.1.8->nlg) (1.18.5)\n",
            "Requirement already satisfied, skipping upgrade: murmurhash<1.1.0,>=0.28.0 in /usr/local/lib/python3.6/dist-packages (from spacy==2.1.8->nlg) (1.0.2)\n",
            "Requirement already satisfied, skipping upgrade: urllib3 in /usr/local/lib/python3.6/dist-packages (from selenium->gramex->nlg) (1.24.3)\n",
            "Requirement already satisfied, skipping upgrade: scipy>=1.0.1 in /usr/local/lib/python3.6/dist-packages (from seaborn->gramex->nlg) (1.4.1)\n",
            "Requirement already satisfied, skipping upgrade: pyasn1>=0.1.8 in /usr/local/lib/python3.6/dist-packages (from ldap3>=2.2.4->gramex->nlg) (0.4.8)\n",
            "Requirement already satisfied, skipping upgrade: more-itertools>=4.0.0 in /usr/local/lib/python3.6/dist-packages (from pytest->gramex->nlg) (8.3.0)\n",
            "Requirement already satisfied, skipping upgrade: atomicwrites>=1.0 in /usr/local/lib/python3.6/dist-packages (from pytest->gramex->nlg) (1.4.0)\n",
            "Requirement already satisfied, skipping upgrade: py>=1.5.0 in /usr/local/lib/python3.6/dist-packages (from pytest->gramex->nlg) (1.8.1)\n",
            "Requirement already satisfied, skipping upgrade: pluggy<0.8,>=0.5 in /usr/local/lib/python3.6/dist-packages (from pytest->gramex->nlg) (0.7.1)\n",
            "Requirement already satisfied, skipping upgrade: attrs>=17.4.0 in /usr/local/lib/python3.6/dist-packages (from pytest->gramex->nlg) (19.3.0)\n",
            "Requirement already satisfied, skipping upgrade: pytz>=2017.2 in /usr/local/lib/python3.6/dist-packages (from pandas->gramex->nlg) (2018.9)\n",
            "Requirement already satisfied, skipping upgrade: python-dateutil>=2.6.1 in /usr/local/lib/python3.6/dist-packages (from pandas->gramex->nlg) (2.8.1)\n",
            "Requirement already satisfied, skipping upgrade: nltk>=3.1 in /usr/local/lib/python3.6/dist-packages (from textblob->gramex->nlg) (3.2.5)\n",
            "Requirement already satisfied, skipping upgrade: numexpr>=2.5.2 in /usr/local/lib/python3.6/dist-packages (from tables->gramex->nlg) (2.7.1)\n",
            "Requirement already satisfied, skipping upgrade: ipython>=5.1.0; python_version >= \"3.4\" in /usr/local/lib/python3.6/dist-packages (from ipdb->gramex->nlg) (5.5.0)\n",
            "Requirement already satisfied, skipping upgrade: s3transfer<0.4.0,>=0.3.0 in /usr/local/lib/python3.6/dist-packages (from boto3>=1.5->gramex->nlg) (0.3.3)\n",
            "Requirement already satisfied, skipping upgrade: botocore<1.17.0,>=1.16.23 in /usr/local/lib/python3.6/dist-packages (from boto3>=1.5->gramex->nlg) (1.16.23)\n",
            "Requirement already satisfied, skipping upgrade: certifi>=2017.4.17 in /usr/local/lib/python3.6/dist-packages (from requests->gramex->nlg) (2020.4.5.1)\n",
            "Requirement already satisfied, skipping upgrade: idna<3,>=2.5 in /usr/local/lib/python3.6/dist-packages (from requests->gramex->nlg) (2.9)\n",
            "Requirement already satisfied, skipping upgrade: chardet<4,>=3.0.2 in /usr/local/lib/python3.6/dist-packages (from requests->gramex->nlg) (3.0.4)\n",
            "Requirement already satisfied, skipping upgrade: importlib-metadata; python_version < \"3.8\" in /usr/local/lib/python3.6/dist-packages (from markdown->gramex->nlg) (1.6.0)\n",
            "Requirement already satisfied, skipping upgrade: kiwisolver>=1.0.1 in /usr/local/lib/python3.6/dist-packages (from matplotlib->gramex->nlg) (1.2.0)\n",
            "Requirement already satisfied, skipping upgrade: pyparsing!=2.0.4,!=2.1.2,!=2.1.6,>=2.0.1 in /usr/local/lib/python3.6/dist-packages (from matplotlib->gramex->nlg) (2.4.7)\n",
            "Requirement already satisfied, skipping upgrade: cycler>=0.10 in /usr/local/lib/python3.6/dist-packages (from matplotlib->gramex->nlg) (0.10.0)\n",
            "Requirement already satisfied, skipping upgrade: Pillow>=3.3.2 in /usr/local/lib/python3.6/dist-packages (from python-pptx>=0.6.6->gramex->nlg) (7.0.0)\n",
            "Requirement already satisfied, skipping upgrade: XlsxWriter>=0.5.7 in /usr/local/lib/python3.6/dist-packages (from python-pptx>=0.6.6->gramex->nlg) (1.2.9)\n",
            "Requirement already satisfied, skipping upgrade: tqdm<5.0.0,>=4.10.0 in /usr/local/lib/python3.6/dist-packages (from thinc<7.1.0,>=7.0.8->spacy==2.1.8->nlg) (4.41.1)\n",
            "Requirement already satisfied, skipping upgrade: pygments in /usr/local/lib/python3.6/dist-packages (from ipython>=5.1.0; python_version >= \"3.4\"->ipdb->gramex->nlg) (2.1.3)\n",
            "Requirement already satisfied, skipping upgrade: pickleshare in /usr/local/lib/python3.6/dist-packages (from ipython>=5.1.0; python_version >= \"3.4\"->ipdb->gramex->nlg) (0.7.5)\n",
            "Requirement already satisfied, skipping upgrade: simplegeneric>0.8 in /usr/local/lib/python3.6/dist-packages (from ipython>=5.1.0; python_version >= \"3.4\"->ipdb->gramex->nlg) (0.8.1)\n",
            "Requirement already satisfied, skipping upgrade: pexpect; sys_platform != \"win32\" in /usr/local/lib/python3.6/dist-packages (from ipython>=5.1.0; python_version >= \"3.4\"->ipdb->gramex->nlg) (4.8.0)\n",
            "Requirement already satisfied, skipping upgrade: decorator in /usr/local/lib/python3.6/dist-packages (from ipython>=5.1.0; python_version >= \"3.4\"->ipdb->gramex->nlg) (4.4.2)\n",
            "Requirement already satisfied, skipping upgrade: traitlets>=4.2 in /usr/local/lib/python3.6/dist-packages (from ipython>=5.1.0; python_version >= \"3.4\"->ipdb->gramex->nlg) (4.3.3)\n",
            "Requirement already satisfied, skipping upgrade: prompt-toolkit<2.0.0,>=1.0.4 in /usr/local/lib/python3.6/dist-packages (from ipython>=5.1.0; python_version >= \"3.4\"->ipdb->gramex->nlg) (1.0.18)\n",
            "Requirement already satisfied, skipping upgrade: docutils<0.16,>=0.10 in /usr/local/lib/python3.6/dist-packages (from botocore<1.17.0,>=1.16.23->boto3>=1.5->gramex->nlg) (0.15.2)\n",
            "Requirement already satisfied, skipping upgrade: zipp>=0.5 in /usr/local/lib/python3.6/dist-packages (from importlib-metadata; python_version < \"3.8\"->markdown->gramex->nlg) (3.1.0)\n",
            "Requirement already satisfied, skipping upgrade: ptyprocess>=0.5 in /usr/local/lib/python3.6/dist-packages (from pexpect; sys_platform != \"win32\"->ipython>=5.1.0; python_version >= \"3.4\"->ipdb->gramex->nlg) (0.6.0)\n",
            "Requirement already satisfied, skipping upgrade: ipython-genutils in /usr/local/lib/python3.6/dist-packages (from traitlets>=4.2->ipython>=5.1.0; python_version >= \"3.4\"->ipdb->gramex->nlg) (0.2.0)\n",
            "Requirement already satisfied, skipping upgrade: wcwidth in /usr/local/lib/python3.6/dist-packages (from prompt-toolkit<2.0.0,>=1.0.4->ipython>=5.1.0; python_version >= \"3.4\"->ipdb->gramex->nlg) (0.2.3)\n",
            "\u001b[31mERROR: en-core-web-sm 2.2.5 has requirement spacy>=2.2.2, but you'll have spacy 2.1.8 which is incompatible.\u001b[0m\n",
            "Installing collected packages: preshed, blis, thinc, spacy\n",
            "  Found existing installation: preshed 3.0.2\n",
            "    Uninstalling preshed-3.0.2:\n",
            "      Successfully uninstalled preshed-3.0.2\n",
            "  Found existing installation: blis 0.4.1\n",
            "    Uninstalling blis-0.4.1:\n",
            "      Successfully uninstalled blis-0.4.1\n",
            "  Found existing installation: thinc 7.4.0\n",
            "    Uninstalling thinc-7.4.0:\n",
            "      Successfully uninstalled thinc-7.4.0\n",
            "  Found existing installation: spacy 2.2.4\n",
            "    Uninstalling spacy-2.2.4:\n",
            "      Successfully uninstalled spacy-2.2.4\n",
            "Successfully installed blis-0.2.4 preshed-2.0.1 spacy-2.1.8 thinc-7.0.8\n",
            "Collecting spacy\n",
            "\u001b[?25l  Downloading https://files.pythonhosted.org/packages/55/2e/ac00f5c9d01e66cc6ab75eb2a460c9b0dc21ad99a12f810c86a58309e63c/spacy-2.2.4-cp36-cp36m-manylinux1_x86_64.whl (10.6MB)\n",
            "\u001b[K     |████████████████████████████████| 10.6MB 4.4MB/s \n",
            "\u001b[?25hRequirement already satisfied, skipping upgrade: setuptools in /usr/local/lib/python3.6/dist-packages (from spacy) (47.1.1)\n",
            "Collecting blis<0.5.0,>=0.4.0\n",
            "\u001b[?25l  Downloading https://files.pythonhosted.org/packages/41/19/f95c75562d18eb27219df3a3590b911e78d131b68466ad79fdf5847eaac4/blis-0.4.1-cp36-cp36m-manylinux1_x86_64.whl (3.7MB)\n",
            "\u001b[K     |████████████████████████████████| 3.7MB 50.6MB/s \n",
            "\u001b[?25hRequirement already satisfied, skipping upgrade: cymem<2.1.0,>=2.0.2 in /usr/local/lib/python3.6/dist-packages (from spacy) (2.0.3)\n",
            "Requirement already satisfied, skipping upgrade: tqdm<5.0.0,>=4.38.0 in /usr/local/lib/python3.6/dist-packages (from spacy) (4.41.1)\n",
            "Requirement already satisfied, skipping upgrade: murmurhash<1.1.0,>=0.28.0 in /usr/local/lib/python3.6/dist-packages (from spacy) (1.0.2)\n",
            "Collecting preshed<3.1.0,>=3.0.2\n",
            "\u001b[?25l  Downloading https://files.pythonhosted.org/packages/db/6b/e07fad36913879757c90ba03d6fb7f406f7279e11dcefc105ee562de63ea/preshed-3.0.2-cp36-cp36m-manylinux1_x86_64.whl (119kB)\n",
            "\u001b[K     |████████████████████████████████| 122kB 49.1MB/s \n",
            "\u001b[?25hRequirement already satisfied, skipping upgrade: wasabi<1.1.0,>=0.4.0 in /usr/local/lib/python3.6/dist-packages (from spacy) (0.6.0)\n",
            "Requirement already satisfied, skipping upgrade: requests<3.0.0,>=2.13.0 in /usr/local/lib/python3.6/dist-packages (from spacy) (2.23.0)\n",
            "Requirement already satisfied, skipping upgrade: plac<1.2.0,>=0.9.6 in /usr/local/lib/python3.6/dist-packages (from spacy) (0.9.6)\n",
            "Requirement already satisfied, skipping upgrade: srsly<1.1.0,>=1.0.2 in /usr/local/lib/python3.6/dist-packages (from spacy) (1.0.2)\n",
            "Requirement already satisfied, skipping upgrade: numpy>=1.15.0 in /usr/local/lib/python3.6/dist-packages (from spacy) (1.18.5)\n",
            "Requirement already satisfied, skipping upgrade: catalogue<1.1.0,>=0.0.7 in /usr/local/lib/python3.6/dist-packages (from spacy) (1.0.0)\n",
            "Collecting thinc==7.4.0\n",
            "\u001b[?25l  Downloading https://files.pythonhosted.org/packages/73/ed/8e4559f1090fb05c0fa982a8a2caaa315967e7b460652be479d13fd1c813/thinc-7.4.0-cp36-cp36m-manylinux1_x86_64.whl (2.2MB)\n",
            "\u001b[K     |████████████████████████████████| 2.2MB 48.2MB/s \n",
            "\u001b[?25hRequirement already satisfied, skipping upgrade: certifi>=2017.4.17 in /usr/local/lib/python3.6/dist-packages (from requests<3.0.0,>=2.13.0->spacy) (2020.4.5.1)\n",
            "Requirement already satisfied, skipping upgrade: idna<3,>=2.5 in /usr/local/lib/python3.6/dist-packages (from requests<3.0.0,>=2.13.0->spacy) (2.9)\n",
            "Requirement already satisfied, skipping upgrade: chardet<4,>=3.0.2 in /usr/local/lib/python3.6/dist-packages (from requests<3.0.0,>=2.13.0->spacy) (3.0.4)\n",
            "Requirement already satisfied, skipping upgrade: urllib3!=1.25.0,!=1.25.1,<1.26,>=1.21.1 in /usr/local/lib/python3.6/dist-packages (from requests<3.0.0,>=2.13.0->spacy) (1.24.3)\n",
            "Requirement already satisfied, skipping upgrade: importlib-metadata>=0.20; python_version < \"3.8\" in /usr/local/lib/python3.6/dist-packages (from catalogue<1.1.0,>=0.0.7->spacy) (1.6.0)\n",
            "Requirement already satisfied, skipping upgrade: zipp>=0.5 in /usr/local/lib/python3.6/dist-packages (from importlib-metadata>=0.20; python_version < \"3.8\"->catalogue<1.1.0,>=0.0.7->spacy) (3.1.0)\n",
            "\u001b[31mERROR: nlg 0.1.2 has requirement spacy==2.1.8, but you'll have spacy 2.2.4 which is incompatible.\u001b[0m\n",
            "Installing collected packages: blis, preshed, thinc, spacy\n",
            "  Found existing installation: blis 0.2.4\n",
            "    Uninstalling blis-0.2.4:\n",
            "      Successfully uninstalled blis-0.2.4\n",
            "  Found existing installation: preshed 2.0.1\n",
            "    Uninstalling preshed-2.0.1:\n",
            "      Successfully uninstalled preshed-2.0.1\n",
            "  Found existing installation: thinc 7.0.8\n",
            "    Uninstalling thinc-7.0.8:\n",
            "      Successfully uninstalled thinc-7.0.8\n",
            "  Found existing installation: spacy 2.1.8\n",
            "    Uninstalling spacy-2.1.8:\n",
            "      Successfully uninstalled spacy-2.1.8\n",
            "Successfully installed blis-0.4.1 preshed-3.0.2 spacy-2.2.4 thinc-7.4.0\n"
          ],
          "name": "stdout"
        }
      ]
    },
    {
      "cell_type": "markdown",
      "metadata": {
        "id": "VuCRLl9ZijTV",
        "colab_type": "text"
      },
      "source": [
        "Test the installation by running the following cell:"
      ]
    },
    {
      "cell_type": "code",
      "metadata": {
        "id": "9AXHzoffijTW",
        "colab_type": "code",
        "colab": {}
      },
      "source": [
        "from nlg.search import templatize\n",
        "import pandas as pd"
      ],
      "execution_count": 0,
      "outputs": []
    },
    {
      "cell_type": "markdown",
      "metadata": {
        "id": "WbIxUpgVijTY",
        "colab_type": "text"
      },
      "source": [
        "Next, let's load some data. For this tutorials, we will be using [this](https://raw.githubusercontent.com/gramener/gramex-nlg/master/nlg/tests/data/actors.csv) dataset. Please download the file and load it as a pandas dataframe."
      ]
    },
    {
      "cell_type": "code",
      "metadata": {
        "id": "yj4tZeBjijTZ",
        "colab_type": "code",
        "outputId": "dfa8e6c9-3a40-4416-9afc-223e4095a9d3",
        "colab": {
          "base_uri": "https://localhost:8080/",
          "height": 390
        }
      },
      "source": [
        "# Replace the path with wherever you have downloaded the dataset.\n",
        "df = pd.read_csv('https://raw.githubusercontent.com/kaljuvee/gramex-nlg/dev/nlg/tests/data/actors.csv')\n",
        "df"
      ],
      "execution_count": 0,
      "outputs": [
        {
          "output_type": "execute_result",
          "data": {
            "text/html": [
              "<div>\n",
              "<style scoped>\n",
              "    .dataframe tbody tr th:only-of-type {\n",
              "        vertical-align: middle;\n",
              "    }\n",
              "\n",
              "    .dataframe tbody tr th {\n",
              "        vertical-align: top;\n",
              "    }\n",
              "\n",
              "    .dataframe thead th {\n",
              "        text-align: right;\n",
              "    }\n",
              "</style>\n",
              "<table border=\"1\" class=\"dataframe\">\n",
              "  <thead>\n",
              "    <tr style=\"text-align: right;\">\n",
              "      <th></th>\n",
              "      <th>category</th>\n",
              "      <th>name</th>\n",
              "      <th>rating</th>\n",
              "      <th>votes</th>\n",
              "    </tr>\n",
              "  </thead>\n",
              "  <tbody>\n",
              "    <tr>\n",
              "      <th>0</th>\n",
              "      <td>Actors</td>\n",
              "      <td>Humphrey Bogart</td>\n",
              "      <td>0.570197</td>\n",
              "      <td>109</td>\n",
              "    </tr>\n",
              "    <tr>\n",
              "      <th>1</th>\n",
              "      <td>Actors</td>\n",
              "      <td>Cary Grant</td>\n",
              "      <td>0.438602</td>\n",
              "      <td>142</td>\n",
              "    </tr>\n",
              "    <tr>\n",
              "      <th>2</th>\n",
              "      <td>Actors</td>\n",
              "      <td>James Stewart</td>\n",
              "      <td>0.988374</td>\n",
              "      <td>120</td>\n",
              "    </tr>\n",
              "    <tr>\n",
              "      <th>3</th>\n",
              "      <td>Actors</td>\n",
              "      <td>Marlon Brando</td>\n",
              "      <td>0.102045</td>\n",
              "      <td>108</td>\n",
              "    </tr>\n",
              "    <tr>\n",
              "      <th>4</th>\n",
              "      <td>Actors</td>\n",
              "      <td>Fred Astaire</td>\n",
              "      <td>0.208877</td>\n",
              "      <td>84</td>\n",
              "    </tr>\n",
              "    <tr>\n",
              "      <th>5</th>\n",
              "      <td>Actresses</td>\n",
              "      <td>Katharine Hepburn</td>\n",
              "      <td>0.039188</td>\n",
              "      <td>63</td>\n",
              "    </tr>\n",
              "    <tr>\n",
              "      <th>6</th>\n",
              "      <td>Actresses</td>\n",
              "      <td>Bette Davis</td>\n",
              "      <td>0.282807</td>\n",
              "      <td>14</td>\n",
              "    </tr>\n",
              "    <tr>\n",
              "      <th>7</th>\n",
              "      <td>Actresses</td>\n",
              "      <td>Audrey Hepburn</td>\n",
              "      <td>0.120197</td>\n",
              "      <td>94</td>\n",
              "    </tr>\n",
              "    <tr>\n",
              "      <th>8</th>\n",
              "      <td>Actresses</td>\n",
              "      <td>Ingrid Bergman</td>\n",
              "      <td>0.296140</td>\n",
              "      <td>52</td>\n",
              "    </tr>\n",
              "    <tr>\n",
              "      <th>9</th>\n",
              "      <td>Actors</td>\n",
              "      <td>Spencer Tracy</td>\n",
              "      <td>0.466311</td>\n",
              "      <td>192</td>\n",
              "    </tr>\n",
              "    <tr>\n",
              "      <th>10</th>\n",
              "      <td>Actors</td>\n",
              "      <td>Charlie Chaplin</td>\n",
              "      <td>0.244426</td>\n",
              "      <td>76</td>\n",
              "    </tr>\n",
              "  </tbody>\n",
              "</table>\n",
              "</div>"
            ],
            "text/plain": [
              "     category               name    rating  votes\n",
              "0      Actors    Humphrey Bogart  0.570197    109\n",
              "1      Actors         Cary Grant  0.438602    142\n",
              "2      Actors      James Stewart  0.988374    120\n",
              "3      Actors      Marlon Brando  0.102045    108\n",
              "4      Actors       Fred Astaire  0.208877     84\n",
              "5   Actresses  Katharine Hepburn  0.039188     63\n",
              "6   Actresses        Bette Davis  0.282807     14\n",
              "7   Actresses     Audrey Hepburn  0.120197     94\n",
              "8   Actresses     Ingrid Bergman  0.296140     52\n",
              "9      Actors      Spencer Tracy  0.466311    192\n",
              "10     Actors    Charlie Chaplin  0.244426     76"
            ]
          },
          "metadata": {
            "tags": []
          },
          "execution_count": 3
        }
      ]
    },
    {
      "cell_type": "markdown",
      "metadata": {
        "id": "tpvC2OePijTc",
        "colab_type": "text"
      },
      "source": [
        "Let us now sort the dataframe by the `rating` column. NLG is designed to work with Gramex's [FormHandler](https://learn.gramener.com/guide/formhandler). Therefore, we will use FormHandler's own DSL to make any transformation on the dataset."
      ]
    },
    {
      "cell_type": "code",
      "metadata": {
        "id": "IO-bd1a5ijTc",
        "colab_type": "code",
        "colab": {}
      },
      "source": [
        "from gramex.data import filter as gfilter  # do not clobber the `filter` function from the Python stdlib\n",
        "sort_args = {'_sort': ['-rating']}"
      ],
      "execution_count": 0,
      "outputs": []
    },
    {
      "cell_type": "markdown",
      "metadata": {
        "id": "aLoPUjOvijTf",
        "colab_type": "text"
      },
      "source": [
        "Note that the `_sort` key in the dictionary above tells Gramex to sort a dataframe by the given columns. The value of they key is a _list_, indicating that dataframes can be sorted by multiple columns. Also, the hyphen before the column name indicates that the sorting is _descending_."
      ]
    },
    {
      "cell_type": "code",
      "metadata": {
        "id": "tptZDxkYijTg",
        "colab_type": "code",
        "colab": {}
      },
      "source": [
        "xdf = gfilter(df, sort_args.copy())"
      ],
      "execution_count": 0,
      "outputs": []
    },
    {
      "cell_type": "code",
      "metadata": {
        "id": "c5Q4uKByijTi",
        "colab_type": "code",
        "outputId": "7dd3b357-ac87-47a6-e2c0-a5678e8c65eb",
        "colab": {
          "base_uri": "https://localhost:8080/",
          "height": 204
        }
      },
      "source": [
        "xdf.head()"
      ],
      "execution_count": 0,
      "outputs": [
        {
          "output_type": "execute_result",
          "data": {
            "text/html": [
              "<div>\n",
              "<style scoped>\n",
              "    .dataframe tbody tr th:only-of-type {\n",
              "        vertical-align: middle;\n",
              "    }\n",
              "\n",
              "    .dataframe tbody tr th {\n",
              "        vertical-align: top;\n",
              "    }\n",
              "\n",
              "    .dataframe thead th {\n",
              "        text-align: right;\n",
              "    }\n",
              "</style>\n",
              "<table border=\"1\" class=\"dataframe\">\n",
              "  <thead>\n",
              "    <tr style=\"text-align: right;\">\n",
              "      <th></th>\n",
              "      <th>category</th>\n",
              "      <th>name</th>\n",
              "      <th>rating</th>\n",
              "      <th>votes</th>\n",
              "    </tr>\n",
              "  </thead>\n",
              "  <tbody>\n",
              "    <tr>\n",
              "      <th>2</th>\n",
              "      <td>Actors</td>\n",
              "      <td>James Stewart</td>\n",
              "      <td>0.988374</td>\n",
              "      <td>120</td>\n",
              "    </tr>\n",
              "    <tr>\n",
              "      <th>0</th>\n",
              "      <td>Actors</td>\n",
              "      <td>Humphrey Bogart</td>\n",
              "      <td>0.570197</td>\n",
              "      <td>109</td>\n",
              "    </tr>\n",
              "    <tr>\n",
              "      <th>9</th>\n",
              "      <td>Actors</td>\n",
              "      <td>Spencer Tracy</td>\n",
              "      <td>0.466311</td>\n",
              "      <td>192</td>\n",
              "    </tr>\n",
              "    <tr>\n",
              "      <th>1</th>\n",
              "      <td>Actors</td>\n",
              "      <td>Cary Grant</td>\n",
              "      <td>0.438602</td>\n",
              "      <td>142</td>\n",
              "    </tr>\n",
              "    <tr>\n",
              "      <th>8</th>\n",
              "      <td>Actresses</td>\n",
              "      <td>Ingrid Bergman</td>\n",
              "      <td>0.296140</td>\n",
              "      <td>52</td>\n",
              "    </tr>\n",
              "  </tbody>\n",
              "</table>\n",
              "</div>"
            ],
            "text/plain": [
              "    category             name    rating  votes\n",
              "2     Actors    James Stewart  0.988374    120\n",
              "0     Actors  Humphrey Bogart  0.570197    109\n",
              "9     Actors    Spencer Tracy  0.466311    192\n",
              "1     Actors       Cary Grant  0.438602    142\n",
              "8  Actresses   Ingrid Bergman  0.296140     52"
            ]
          },
          "metadata": {
            "tags": []
          },
          "execution_count": 7
        }
      ]
    },
    {
      "cell_type": "markdown",
      "metadata": {
        "id": "_z3bWjjlijTl",
        "colab_type": "text"
      },
      "source": [
        "Now, let's write something about this dataset. It is apparent that James Stewart has the highest rating."
      ]
    },
    {
      "cell_type": "code",
      "metadata": {
        "id": "V5ArA0G_ijTl",
        "colab_type": "code",
        "colab": {}
      },
      "source": [
        "from nlg.utils import load_spacy_model\n",
        "nlp = load_spacy_model()\n",
        "\n",
        "text = nlp(\"James Stewart is the actor with the highest rating.\")"
      ],
      "execution_count": 0,
      "outputs": []
    },
    {
      "cell_type": "markdown",
      "metadata": {
        "id": "H0ZftcANijTo",
        "colab_type": "text"
      },
      "source": [
        "The entry-point into the NLG module is the [`nlg.search.templatize`](https://github.com/gramener/gramex-nlg/blob/dev/nlg/search.py#L478) function. This function uses:\n",
        "* a dataframe\n",
        "* operations on the dataframe (as FormHandler arguments)\n",
        "* some text about the dataset\n",
        "\n",
        "to create a [`Nugget`](https://github.com/gramener/gramex-nlg/blob/dev/nlg/narrative.py#L102) object. To learn more about the `Nugget` object and it's methods, see the [README](https://github.com/gramener/gramex-nlg/tree/dev#glossary-grammar-of-data-driven-narratives)."
      ]
    },
    {
      "cell_type": "code",
      "metadata": {
        "id": "RE4F5AP_ijTo",
        "colab_type": "code",
        "outputId": "a456b6bd-a8a6-46a9-acbd-4e24afc95f96",
        "colab": {
          "base_uri": "https://localhost:8080/",
          "height": 85
        }
      },
      "source": [
        "nugget = templatize(text, sort_args, df)"
      ],
      "execution_count": 0,
      "outputs": [
        {
          "output_type": "stream",
          "text": [
            "/usr/local/lib/python3.6/dist-packages/nlg/search.py:65: UserWarning: Ignoring lemmatization.\n",
            "  warnings.warn('Ignoring lemmatization.')\n",
            "/usr/local/lib/python3.6/dist-packages/nlg/search.py:87: UserWarning: Cannot lemmatize multi-word cells.\n",
            "  warnings.warn('Cannot lemmatize multi-word cells.')\n"
          ],
          "name": "stderr"
        }
      ]
    },
    {
      "cell_type": "code",
      "metadata": {
        "id": "IZTBaFJyijTq",
        "colab_type": "code",
        "outputId": "33b89146-8686-47c0-c2d2-61d869a087ea",
        "colab": {
          "base_uri": "https://localhost:8080/",
          "height": 102
        }
      },
      "source": [
        "nugget"
      ],
      "execution_count": 0,
      "outputs": [
        {
          "output_type": "execute_result",
          "data": {
            "text/plain": [
              "{% set fh_args = {\"_sort\": [\"-rating\"]}  %}\n",
              "{% set df = U.gfilter(orgdf, fh_args.copy()) %}\n",
              "{% set fh_args = U.sanitize_fh_args(fh_args, orgdf) %}\n",
              "{# Do not edit above this line. #}\n",
              "{{ df[\"name\"].iloc[0] }} is the {{ G.singular(df[\"category\"].iloc[-2]).lower() }} with the highest rating."
            ]
          },
          "metadata": {
            "tags": []
          },
          "execution_count": 10
        }
      ]
    },
    {
      "cell_type": "markdown",
      "metadata": {
        "id": "xdUshhEfijTt",
        "colab_type": "text"
      },
      "source": [
        "As we see, a nugget has an underlying [Tornado template](https://www.tornadoweb.org/en/stable/template.html) which has been auto-generated by the `templatize` function. Let's see how well this template re-renders on the dataset."
      ]
    },
    {
      "cell_type": "code",
      "metadata": {
        "id": "ZcdV2FlOijTt",
        "colab_type": "code",
        "outputId": "34b55aba-e772-4ed7-f6b7-795b9b5fb051",
        "colab": {
          "base_uri": "https://localhost:8080/",
          "height": 34
        }
      },
      "source": [
        "print(nugget.render(df))"
      ],
      "execution_count": 0,
      "outputs": [
        {
          "output_type": "stream",
          "text": [
            "b'    James Stewart is the actor with the highest rating.'\n"
          ],
          "name": "stdout"
        }
      ]
    },
    {
      "cell_type": "markdown",
      "metadata": {
        "id": "6gC6c3X5ijTw",
        "colab_type": "text"
      },
      "source": [
        "The text above is identical to the input text, but this is generated from a template. Essentially, we can pass any dataframe to the [`.render`](https://github.com/gramener/gramex-nlg/blob/dev/nlg/narrative.py#L190) method of the nugget object, and the text will be rendered in the context of that data. To test this, let's create a copy of the dataframe and give all the artists a random rating."
      ]
    },
    {
      "cell_type": "code",
      "metadata": {
        "id": "DczYObgZijTw",
        "colab_type": "code",
        "colab": {}
      },
      "source": [
        "import numpy as np\n",
        "np.random.seed(12345)\n",
        "\n",
        "fake_ratings = df.copy()\n",
        "fake_ratings['rating'] = np.random.rand(df.shape[0])"
      ],
      "execution_count": 0,
      "outputs": []
    },
    {
      "cell_type": "markdown",
      "metadata": {
        "id": "C4ckoUnmijTy",
        "colab_type": "text"
      },
      "source": [
        "Let's see who the top rated artist is in this new, fake dataset."
      ]
    },
    {
      "cell_type": "code",
      "metadata": {
        "id": "0eYAIOs6ijTz",
        "colab_type": "code",
        "outputId": "93b953db-4589-4615-a868-103a99995305",
        "colab": {}
      },
      "source": [
        "fake_ratings.sort_values('rating', ascending=False).head()"
      ],
      "execution_count": 0,
      "outputs": [
        {
          "output_type": "execute_result",
          "data": {
            "text/html": [
              "<div>\n",
              "<style scoped>\n",
              "    .dataframe tbody tr th:only-of-type {\n",
              "        vertical-align: middle;\n",
              "    }\n",
              "\n",
              "    .dataframe tbody tr th {\n",
              "        vertical-align: top;\n",
              "    }\n",
              "\n",
              "    .dataframe thead th {\n",
              "        text-align: right;\n",
              "    }\n",
              "</style>\n",
              "<table border=\"1\" class=\"dataframe\">\n",
              "  <thead>\n",
              "    <tr style=\"text-align: right;\">\n",
              "      <th></th>\n",
              "      <th>category</th>\n",
              "      <th>name</th>\n",
              "      <th>rating</th>\n",
              "      <th>votes</th>\n",
              "    </tr>\n",
              "  </thead>\n",
              "  <tbody>\n",
              "    <tr>\n",
              "      <th>6</th>\n",
              "      <td>Actresses</td>\n",
              "      <td>Bette Davis</td>\n",
              "      <td>0.964515</td>\n",
              "      <td>14</td>\n",
              "    </tr>\n",
              "    <tr>\n",
              "      <th>0</th>\n",
              "      <td>Actors</td>\n",
              "      <td>Humphrey Bogart</td>\n",
              "      <td>0.929616</td>\n",
              "      <td>109</td>\n",
              "    </tr>\n",
              "    <tr>\n",
              "      <th>8</th>\n",
              "      <td>Actresses</td>\n",
              "      <td>Ingrid Bergman</td>\n",
              "      <td>0.748907</td>\n",
              "      <td>52</td>\n",
              "    </tr>\n",
              "    <tr>\n",
              "      <th>10</th>\n",
              "      <td>Actors</td>\n",
              "      <td>Charlie Chaplin</td>\n",
              "      <td>0.747715</td>\n",
              "      <td>76</td>\n",
              "    </tr>\n",
              "    <tr>\n",
              "      <th>9</th>\n",
              "      <td>Actors</td>\n",
              "      <td>Spencer Tracy</td>\n",
              "      <td>0.653570</td>\n",
              "      <td>192</td>\n",
              "    </tr>\n",
              "  </tbody>\n",
              "</table>\n",
              "</div>"
            ],
            "text/plain": [
              "     category             name    rating  votes\n",
              "6   Actresses      Bette Davis  0.964515     14\n",
              "0      Actors  Humphrey Bogart  0.929616    109\n",
              "8   Actresses   Ingrid Bergman  0.748907     52\n",
              "10     Actors  Charlie Chaplin  0.747715     76\n",
              "9      Actors    Spencer Tracy  0.653570    192"
            ]
          },
          "metadata": {
            "tags": []
          },
          "execution_count": 11
        }
      ]
    },
    {
      "cell_type": "markdown",
      "metadata": {
        "id": "raGvBdrLijT1",
        "colab_type": "text"
      },
      "source": [
        "Now, let's see if our original nugget is able to adapt to this new dataset."
      ]
    },
    {
      "cell_type": "code",
      "metadata": {
        "id": "MaiT10z1ijT1",
        "colab_type": "code",
        "outputId": "2566eb66-1248-4ce6-f74f-70e5c132038b",
        "colab": {}
      },
      "source": [
        "nugget.render(fake_ratings)"
      ],
      "execution_count": 0,
      "outputs": [
        {
          "output_type": "execute_result",
          "data": {
            "text/plain": [
              "b'    Bette Davis is the actor with the highest rating.'"
            ]
          },
          "metadata": {
            "tags": []
          },
          "execution_count": 12
        }
      ]
    },
    {
      "cell_type": "markdown",
      "metadata": {
        "id": "AcOf83bmijT3",
        "colab_type": "text"
      },
      "source": [
        "Clearly, that is false. Bette Davis is the _actress_ with the highest rating. To see what went wrong, let's take a look at the template again."
      ]
    },
    {
      "cell_type": "code",
      "metadata": {
        "id": "Vgh7X8_OijT4",
        "colab_type": "code",
        "outputId": "117f746e-850b-407e-ab70-39d779df64e5",
        "colab": {}
      },
      "source": [
        "print(nugget.template)"
      ],
      "execution_count": 0,
      "outputs": [
        {
          "output_type": "stream",
          "text": [
            "{% set fh_args = {\"_sort\": [\"-rating\"]}  %}\n",
            "{% set df = U.gfilter(orgdf, fh_args.copy()) %}\n",
            "{% set fh_args = U.sanitize_fh_args(fh_args, orgdf) %}\n",
            "{# Do not edit above this line. #}\n",
            "{{ df[\"name\"].iloc[0] }} is the {{ G.singular(df[\"category\"].iloc[-2]).lower() }} with the highest rating.\n"
          ],
          "name": "stdout"
        }
      ]
    },
    {
      "cell_type": "markdown",
      "metadata": {
        "id": "ebdCK6DGijT6",
        "colab_type": "text"
      },
      "source": [
        "As we can see, the words 'actor' or 'actress' don't appear in the template. This means that the template-generator has correctly figured out that these words are dependent on the transformed dataset. However, it has not managed to determine the exact formula for this.\n",
        "\n",
        "Any token in the input text which is data-dependent, is called a [`Variable`](https://github.com/gramener/gramex-nlg/blob/dev/nlg/narrative.py#L27). To see which words in a nugget are variables, take a look at the `.variables` attribute of the nugget."
      ]
    },
    {
      "cell_type": "code",
      "metadata": {
        "id": "yJJyYzg6ijT7",
        "colab_type": "code",
        "outputId": "0baf97b6-8928-432f-df35-c6ec46c8109e",
        "colab": {}
      },
      "source": [
        "nugget.variables"
      ],
      "execution_count": 0,
      "outputs": [
        {
          "output_type": "execute_result",
          "data": {
            "text/plain": [
              "{James Stewart: {{ df[\"name\"].iloc[0] }},\n",
              " actor: {{ G.singular(df[\"category\"].iloc[-2]).lower() }}}"
            ]
          },
          "metadata": {
            "tags": []
          },
          "execution_count": 14
        }
      ]
    },
    {
      "cell_type": "markdown",
      "metadata": {
        "id": "Kwf3y6IKijT9",
        "colab_type": "text"
      },
      "source": [
        "We see here that there are two tokens from the original text - `\"James Stewart\"` and `\"actor\"` that have been identified as variables. Only, the Python _expression_ for determining one of them is wrong. Whether the highest rated artist is an actor or an actress needs to be found from the `\"category\"` column of the first row.\n",
        "\n",
        "To fix this, we can use the [`.set_expr`](https://github.com/gramener/gramex-nlg/blob/dev/nlg/narrative.py#L58) method of the respective variable. The `.set_expr` method accepts any valid Python expression as a string."
      ]
    },
    {
      "cell_type": "code",
      "metadata": {
        "id": "i6qfEZpiijT9",
        "colab_type": "code",
        "colab": {}
      },
      "source": [
        "var = nugget.get_var('actor')"
      ],
      "execution_count": 0,
      "outputs": []
    },
    {
      "cell_type": "code",
      "metadata": {
        "id": "n4PhqQMBijUB",
        "colab_type": "code",
        "colab": {}
      },
      "source": [
        "var.set_expr('df[\"category\"].iloc[0]')"
      ],
      "execution_count": 0,
      "outputs": []
    },
    {
      "cell_type": "code",
      "metadata": {
        "id": "_bmQnbvtijUD",
        "colab_type": "code",
        "outputId": "e2e93b8f-6546-42ab-83a2-a3b70ef841e2",
        "colab": {}
      },
      "source": [
        "var"
      ],
      "execution_count": 0,
      "outputs": [
        {
          "output_type": "execute_result",
          "data": {
            "text/plain": [
              "{{ G.singular(df[\"category\"].iloc[0]).lower() }}"
            ]
          },
          "metadata": {
            "tags": []
          },
          "execution_count": 17
        }
      ]
    },
    {
      "cell_type": "markdown",
      "metadata": {
        "id": "LSciNgOYijUF",
        "colab_type": "text"
      },
      "source": [
        "Now that we have fixed the variable. Let's re-render the nugget on the fake dataset."
      ]
    },
    {
      "cell_type": "code",
      "metadata": {
        "id": "n7mYI12BijUF",
        "colab_type": "code",
        "outputId": "b14544ca-3565-4bcd-c55f-fd5d4f2d755f",
        "colab": {}
      },
      "source": [
        "nugget.render(fake_ratings)"
      ],
      "execution_count": 0,
      "outputs": [
        {
          "output_type": "execute_result",
          "data": {
            "text/plain": [
              "b'    Bette Davis is the actress with the highest rating.'"
            ]
          },
          "metadata": {
            "tags": []
          },
          "execution_count": 18
        }
      ]
    },
    {
      "cell_type": "markdown",
      "metadata": {
        "id": "CBvxAf7NijUH",
        "colab_type": "text"
      },
      "source": [
        "----"
      ]
    },
    {
      "cell_type": "markdown",
      "metadata": {
        "id": "_cT1RgQ2ijUH",
        "colab_type": "text"
      },
      "source": [
        "There is scope for yet more automation. Note that the last word in the text, \"rating\", matches the name of the column by which the dataframe has been sorted. Therefore, even that can be turned into a variable. Essentially, we want the template to render the name of whichever column is used to sort the data, in place of rating.\n",
        "\n",
        "New variables can be added to a nugget using the [`.add_var`](https://github.com/gramener/gramex-nlg/blob/dev/nlg/narrative.py#L236) method of the nugget object, as follows:"
      ]
    },
    {
      "cell_type": "code",
      "metadata": {
        "id": "EWfE3WS2ijUI",
        "colab_type": "code",
        "colab": {}
      },
      "source": [
        "var_token = text[-2]  # The spacy token corresponding to \"rating\""
      ],
      "execution_count": 0,
      "outputs": []
    },
    {
      "cell_type": "code",
      "metadata": {
        "id": "32jjUHTrijUK",
        "colab_type": "code",
        "colab": {}
      },
      "source": [
        "var_expr = 'fh_args[\"_sort\"][0]'  # The Python expression to detect the sorted column"
      ],
      "execution_count": 0,
      "outputs": []
    },
    {
      "cell_type": "code",
      "metadata": {
        "id": "i46F4hDaijUL",
        "colab_type": "code",
        "outputId": "746c1022-b1a1-4e40-fc7c-31c526aa69a5",
        "colab": {}
      },
      "source": [
        "nugget.add_var(var_token, expr=var_expr)\n",
        "nugget"
      ],
      "execution_count": 0,
      "outputs": [
        {
          "output_type": "execute_result",
          "data": {
            "text/plain": [
              "{% set fh_args = {\"_sort\": [\"-rating\"]}  %}\n",
              "{% set df = U.gfilter(orgdf, fh_args.copy()) %}\n",
              "{% set fh_args = U.sanitize_fh_args(fh_args, orgdf) %}\n",
              "{# Do not edit above this line. #}\n",
              "{{ df[\"name\"].iloc[0] }} is the {{ G.singular(df[\"category\"].iloc[0]).lower() }} with the highest {{ fh_args[\"_sort\"][0] }}."
            ]
          },
          "metadata": {
            "tags": []
          },
          "execution_count": 21
        }
      ]
    },
    {
      "cell_type": "markdown",
      "metadata": {
        "id": "JnAET45vijUO",
        "colab_type": "text"
      },
      "source": [
        "----\n",
        "Let us now test a scenario where we sort the dataframe by votes."
      ]
    },
    {
      "cell_type": "code",
      "metadata": {
        "id": "QlU-NvZqijUO",
        "colab_type": "code",
        "outputId": "3045045f-c802-4ec8-d4b8-c56649886449",
        "colab": {}
      },
      "source": [
        "nugget.fh_args = {'_sort': ['-votes']}\n",
        "nugget"
      ],
      "execution_count": 0,
      "outputs": [
        {
          "output_type": "execute_result",
          "data": {
            "text/plain": [
              "{% set fh_args = {\"_sort\": [\"-votes\"]}  %}\n",
              "{% set df = U.gfilter(orgdf, fh_args.copy()) %}\n",
              "{% set fh_args = U.sanitize_fh_args(fh_args, orgdf) %}\n",
              "{# Do not edit above this line. #}\n",
              "{{ df[\"name\"].iloc[0] }} is the {{ G.singular(df[\"category\"].iloc[0]).lower() }} with the highest {{ fh_args[\"_sort\"][0] }}."
            ]
          },
          "metadata": {
            "tags": []
          },
          "execution_count": 22
        }
      ]
    },
    {
      "cell_type": "code",
      "metadata": {
        "id": "3Ld4dB3nijUR",
        "colab_type": "code",
        "outputId": "a7a01582-2f1e-476b-be4a-e3df8779d4f2",
        "colab": {}
      },
      "source": [
        "nugget.render(df)"
      ],
      "execution_count": 0,
      "outputs": [
        {
          "output_type": "execute_result",
          "data": {
            "text/plain": [
              "b'    Spencer Tracy is the actor with the highest votes.'"
            ]
          },
          "metadata": {
            "tags": []
          },
          "execution_count": 23
        }
      ]
    },
    {
      "cell_type": "markdown",
      "metadata": {
        "id": "ahTtM85iijUT",
        "colab_type": "text"
      },
      "source": [
        "---"
      ]
    },
    {
      "cell_type": "markdown",
      "metadata": {
        "id": "2_f_BZsdijUU",
        "colab_type": "text"
      },
      "source": [
        "Now we know how to create templates from raw text, and how to assign tokens within the text as data-dependent variables. In forthcoming examples, we will explore:\n",
        "\n",
        "1. how to design more complex variable expression - especially those that cannot be defined a short and simple Python strings\n",
        "2. how to create longer narratives by putting together different nuggets."
      ]
    }
  ]
}